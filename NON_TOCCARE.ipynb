{
  "nbformat": 4,
  "nbformat_minor": 0,
  "metadata": {
    "orig_nbformat": 4,
    "language_info": {
      "name": "python",
      "version": "3.8.8",
      "mimetype": "text/x-python",
      "codemirror_mode": {
        "name": "ipython",
        "version": 3
      },
      "pygments_lexer": "ipython3",
      "nbconvert_exporter": "python",
      "file_extension": ".py"
    },
    "kernelspec": {
      "name": "python3",
      "display_name": "Python 3.8.8 64-bit ('base': conda)"
    },
    "interpreter": {
      "hash": "6e72223097a98db7ec8880e6e0f981c50c2724ff25ceac8df166f27870a1e35d"
    },
    "colab": {
      "provenance": [],
      "include_colab_link": true
    }
  },
  "cells": [
    {
      "cell_type": "markdown",
      "metadata": {
        "id": "view-in-github",
        "colab_type": "text"
      },
      "source": [
        "<a href=\"https://colab.research.google.com/github/RiccTrev/dimensionatore/blob/main/NON_TOCCARE.ipynb\" target=\"_parent\"><img src=\"https://colab.research.google.com/assets/colab-badge.svg\" alt=\"Open In Colab\"/></a>"
      ]
    },
    {
      "cell_type": "markdown",
      "metadata": {
        "id": "z6UVsiUl0MIf"
      },
      "source": [
        "# Bilanciamento CER"
      ]
    },
    {
      "cell_type": "code",
      "metadata": {
        "id": "SvUKg7mt0Nbb",
        "colab": {
          "base_uri": "https://localhost:8080/"
        },
        "outputId": "f0c638ec-b2f2-43d1-dd22-0d543e187b87"
      },
      "source": [
        "from google.colab import drive\n",
        "drive.mount('/content/drive/', force_remount=True)\n",
        "#!ls\n",
        "#%cd"
      ],
      "execution_count": null,
      "outputs": [
        {
          "output_type": "stream",
          "name": "stdout",
          "text": [
            "Mounted at /content/drive/\n"
          ]
        }
      ]
    },
    {
      "cell_type": "code",
      "source": [
        "#Import del modulo delle funzioni\n",
        "import sys\n",
        "import json\n",
        "import requests"
      ],
      "metadata": {
        "id": "oAIduWaANYt4"
      },
      "execution_count": null,
      "outputs": []
    },
    {
      "cell_type": "code",
      "metadata": {
        "colab": {
          "base_uri": "https://localhost:8080/"
        },
        "id": "kg9piu-L0MIh",
        "outputId": "baf60159-c78c-4802-96db-6937faa2a1d7"
      },
      "source": [
        "#Import delle librerie\n",
        "import datetime\n",
        "import psycopg2\n",
        "import pandas.io.sql as sqlio\n",
        "import numpy as np\n",
        "import pandas as pd\n",
        "import os.path\n",
        "from pathlib import Path\n",
        "!pip install --upgrade openpyxl\n",
        "!pip install numpy-financial\n",
        "import numpy_financial as npf\n",
        "\n",
        "#Print all rows of the tables\n",
        "pd.set_option('display.max_rows', None)\n",
        "#Precisione delle cifre\n",
        "np.set_printoptions(precision=4)\n",
        "#Imposta numero di cifre significative e separatore migliaia\n",
        "pd.set_option('display.float_format','{:,.4}'.format)"
      ],
      "execution_count": null,
      "outputs": [
        {
          "output_type": "stream",
          "name": "stdout",
          "text": [
            "Looking in indexes: https://pypi.org/simple, https://us-python.pkg.dev/colab-wheels/public/simple/\n",
            "Requirement already satisfied: openpyxl in /usr/local/lib/python3.7/dist-packages (3.0.10)\n",
            "Requirement already satisfied: et-xmlfile in /usr/local/lib/python3.7/dist-packages (from openpyxl) (1.1.0)\n",
            "Looking in indexes: https://pypi.org/simple, https://us-python.pkg.dev/colab-wheels/public/simple/\n",
            "Requirement already satisfied: numpy-financial in /usr/local/lib/python3.7/dist-packages (1.0.0)\n",
            "Requirement already satisfied: numpy>=1.15 in /usr/local/lib/python3.7/dist-packages (from numpy-financial) (1.21.6)\n"
          ]
        }
      ]
    },
    {
      "cell_type": "code",
      "source": [
        "#@title Funzioni\n",
        "#Sample di chiamata di funzioni per riga: df_finale['Esempio'] = df.apply(funzioni.NomeFunzione, axis = 1))\n",
        "def CalcolaAutoconsumo(df):\n",
        "  if df['Immissione'] > 0: \n",
        "    Autoconsumo = 0\n",
        "    return Autoconsumo\n",
        "  else:\n",
        "    if df['Fascia 1'] + 0.2 * df['Fascia 2'] > df['Produzione Aggiuntiva'] or df['Fascia 1'] > df['Produzione Aggiuntiva']:\n",
        "      Autoconsumo = df['Produzione Aggiuntiva']\n",
        "      return Autoconsumo\n",
        "    if df['Fascia 2'] >= 1/3 * df['Fascia 1']:  \n",
        "      Autoconsumo = df['Fascia 1'] + 0.2 * df['Fascia 2']\n",
        "      return Autoconsumo\n",
        "    else:\n",
        "      Autoconsumo = df['Fascia 1']\n",
        "      return Autoconsumo\n",
        "  \n",
        "def CalcolaImmissione(df):\n",
        "  if df['Immissione'] > 0: \n",
        "    Immissione = df['Immissione']\n",
        "    return Immissione;\n",
        "  else:\n",
        "    if df['Fascia 2'] >= 1/3 * df['Fascia 1']:  \n",
        "      Immissione = df['Produzione Aggiuntiva'] - df['Autoconsumo']\n",
        "      if Immissione < 0: \n",
        "        raise TypeError('Attenzione! Immissione < 0 per l\\'utente '+str(df['Identificativo']+'nel mese di '+str(df['Periodo']))) \n",
        "      return Immissione\n",
        "    else:\n",
        "      Immissione = df['Produzione Aggiuntiva'] - df['Autoconsumo']\n",
        "      if Immissione < 0: \n",
        "        raise TypeError('Attenzione! Immissione < 0 per l\\'utente '+str(df['Identificativo']+' nel mese di '+str(df['Periodo']))) \n",
        "      return Immissione\n",
        "  \n",
        "\n",
        "def VerificaIdro(df): \n",
        "    if 'IDRO' in df['Identificativo']:\n",
        "      return 1\n",
        "    else: \n",
        "      return 0\n",
        "\n",
        "def StimaProduzione(df):\n",
        "  mesi = {\n",
        "      0:'gen',\n",
        "      1:'feb',\n",
        "      2:'mar',\n",
        "      3:'apr',\n",
        "      4:'mag',\n",
        "      5:'giu',\n",
        "      6:'lug',\n",
        "      7:'ago',\n",
        "      8:'set',\n",
        "      9:'ott', \n",
        "      10:'nov', \n",
        "      11:'dic'\n",
        "  }\n",
        "  output = pd.DataFrame(columns = ['Identificativo', 'Lat', 'Long', 'Periodo', 'Produzione'])\n",
        "  old_id = str(0)\n",
        "  for index, row in df.iterrows(): \n",
        "    if row['Potenza Da Installare'] == 0: \n",
        "      continue\n",
        "    if old_id == row['Identificativo']: \n",
        "      continue\n",
        "    else: \n",
        "      old_id = row['Identificativo']\n",
        "    response = requests.get(\"https://re.jrc.ec.europa.eu/api/v5_1/PVcalc?lat=\"+str(row['Lat'])+\"&lon=\"+str(row['Long'])+\"&raddatabase=PVGIS-SARAH&peakpower=\"+str(row['Potenza Da Installare'])+\"&pvtechchoice=crystSi&loss=\"+str(16)+\"&optimalinclination=1&vertical_optimum=1&outputformat=json\")\n",
        "    todos = json.loads(response.text)\n",
        "    #for i in range (1,13)\n",
        "    for i in range (0,12): \n",
        "      new_row = {}\n",
        "      new_row = {'Identificativo': row['Identificativo'], 'Lat':row['Lat'], 'Long':row['Long'],'Periodo':mesi[i], 'Produzione': todos['outputs']['monthly']['fixed'][i]['E_m']}\n",
        "      output = output.append(new_row, ignore_index=True)\n",
        "  return output"
      ],
      "metadata": {
        "id": "y5EQxeZGe92S"
      },
      "execution_count": null,
      "outputs": []
    },
    {
      "cell_type": "markdown",
      "metadata": {
        "id": "dbVm9pMc0MIj"
      },
      "source": [
        "#1) Aprire file in input\n"
      ]
    },
    {
      "cell_type": "code",
      "source": [
        "#MODIFICARE QUA IL NOME DELLA DIRECTORY DI LAVORO\n",
        "directory = '/content/drive/MyDrive/Simulazioni/1-Temporary'"
      ],
      "metadata": {
        "id": "1pHlxy7GZNn3"
      },
      "execution_count": null,
      "outputs": []
    },
    {
      "cell_type": "code",
      "metadata": {
        "id": "5XwdCwnJ0MIj"
      },
      "source": [
        "#Percorso del file revised creato con il notebook 'Preparazione'\n",
        "try:\n",
        "  fn = directory+'/Sample_DER.xlsx'\n",
        "  xl = pd.ExcelFile(fn)\n",
        "  xl.sheet_names\n",
        "except: \n",
        "  raise TypeError('Non sono riuscito ad aprire il file.') "
      ],
      "execution_count": null,
      "outputs": []
    },
    {
      "cell_type": "markdown",
      "metadata": {
        "id": "em7T2t7CgGph"
      },
      "source": [
        "# 2) Costo Energia - RID - Incentivo condivisione"
      ]
    },
    {
      "cell_type": "code",
      "metadata": {
        "id": "35QeydWi0MIi"
      },
      "source": [
        "#COSTO MEDIO ENERGIA (€/kWh): \n",
        "costo_medio_energia = 0.25\n",
        "#INCENTIVO ARERA (energia condivsa) - restituzione costi di sistema (€/kWh)\n",
        "incentivo_arera= 0.009\n",
        "#INCENTIVO MISE (energia condivisa) - incentivazione energia condivisa (€/kWh)\n",
        "incentivo_mise = 0.110\n",
        "#RITIRO DEDICATO - valorizzazione energia immessa (€/kWh)\n",
        "ritiro_dedicato = 0.090\n",
        "\n",
        "###IDRO\n",
        "#Valorizzazione energia prodotta idro (€/kWh)\n",
        "val_prod_idro = 0.090\n",
        "#Euro ricevuti dalla condivisione per l'energia (€/kWh)\n",
        "inc_cond_idro = 0.070"
      ],
      "execution_count": null,
      "outputs": []
    },
    {
      "cell_type": "markdown",
      "metadata": {
        "id": "8njM7o-C0MIk"
      },
      "source": [
        "Organizzo i fogli in un dizionario di DataFrame"
      ]
    },
    {
      "cell_type": "code",
      "metadata": {
        "id": "J2uS0Ywg0MIk",
        "colab": {
          "base_uri": "https://localhost:8080/"
        },
        "outputId": "90a3d27c-1973-4486-9a43-4a5ce282facf"
      },
      "source": [
        "#Creo un dizionario di DataFrame. \n",
        "dfs = {sh:xl.parse(sh, header = 0) for sh in xl.sheet_names}\n",
        "#Stampo le chiavi del dizionario (nomi dei workspace di excel)\n",
        "dfs.keys()"
      ],
      "execution_count": null,
      "outputs": [
        {
          "output_type": "execute_result",
          "data": {
            "text/plain": [
              "dict_keys(['CER', 'SSP'])"
            ]
          },
          "metadata": {},
          "execution_count": 87
        }
      ]
    },
    {
      "cell_type": "code",
      "metadata": {
        "id": "Rgg_sDNc0MIl"
      },
      "source": [
        "#DEBUG\n",
        "#Stampo per visualizzare i data frame: analisi visiva che tutto sia ok\n",
        "#RIMUOVERE COMMENTO SE SI VUOLE FAR GIRARE\n",
        "\n",
        "# for key in dfs.keys():\n",
        "#     print(key)\n",
        "#     print(dfs[key])\n"
      ],
      "execution_count": null,
      "outputs": []
    },
    {
      "cell_type": "code",
      "source": [
        "dft = dfs['CER']\n",
        "dft['Fascia 1'].sum()*7/5"
      ],
      "metadata": {
        "colab": {
          "base_uri": "https://localhost:8080/"
        },
        "id": "XNyyZDa35agT",
        "outputId": "0e9f484a-3a2e-489f-a597-0dba99535f87"
      },
      "execution_count": null,
      "outputs": [
        {
          "output_type": "execute_result",
          "data": {
            "text/plain": [
              "292430.04"
            ]
          },
          "metadata": {},
          "execution_count": 89
        }
      ]
    },
    {
      "cell_type": "code",
      "source": [
        "df = dfs['CER']"
      ],
      "metadata": {
        "id": "hXWZNSfZdnxD"
      },
      "execution_count": null,
      "outputs": []
    },
    {
      "cell_type": "markdown",
      "source": [
        "Scarico dati di produzione e calcolo autoconsumo ed immissione per nuovi prosumer"
      ],
      "metadata": {
        "id": "Laqz8mwlAu8O"
      }
    },
    {
      "cell_type": "code",
      "source": [
        "df_produzione = StimaProduzione(df)"
      ],
      "metadata": {
        "id": "c9zEU0JLdtW8"
      },
      "execution_count": null,
      "outputs": []
    },
    {
      "cell_type": "code",
      "source": [
        "df = pd.merge(df, df_produzione, on=('Identificativo', 'Periodo'), how = 'left')\n",
        "df = df.drop(columns = ['Lat_y', 'Long_y', 'Lat_x', 'Long_x'])\n",
        "df = df.rename(columns={'Produzione': 'Produzione Aggiuntiva'})\n",
        "df = df.fillna(0)"
      ],
      "metadata": {
        "id": "3AMgKNCONLZC"
      },
      "execution_count": null,
      "outputs": []
    },
    {
      "cell_type": "code",
      "source": [
        "#Calcolo autoconsumo ed immissione per gli utenti CONSUMER. N.B. Non è possible calcolarlo per gli utenti prosumer poiché non abbiamo il consumo totale, ma solo il prelevamento dalla rete.\n",
        "df['Autoconsumo'] = df.apply(CalcolaAutoconsumo, axis = 1)\n",
        "df['Immissione'] = df.apply(CalcolaImmissione, axis = 1)"
      ],
      "metadata": {
        "id": "xAVA1Vo0ZIw3"
      },
      "execution_count": null,
      "outputs": []
    },
    {
      "cell_type": "code",
      "source": [
        "df"
      ],
      "metadata": {
        "colab": {
          "base_uri": "https://localhost:8080/",
          "height": 1000
        },
        "id": "Sye5kEwk3FdL",
        "outputId": "c04e0465-3080-4227-bd4c-5ada0feac178"
      },
      "execution_count": null,
      "outputs": [
        {
          "output_type": "execute_result",
          "data": {
            "text/plain": [
              "   Identificativo Periodo  Fascia 1  Fascia 2  Fascia 3  Immissione  \\\n",
              "0               A     gen 8.529e+03 4.578e+03 5.451e+03       328.0   \n",
              "1               A     feb 9.596e+03 4.523e+03 4.822e+03       297.0   \n",
              "2               A     mar 9.086e+03 4.324e+03  4.44e+03       319.0   \n",
              "3               A     apr  9.88e+03 4.829e+03 5.853e+03       297.0   \n",
              "4               A     mag 1.093e+04 5.711e+03 7.389e+03       319.0   \n",
              "5               A     giu 1.285e+04 6.729e+03 9.008e+03       438.0   \n",
              "6               A     lug 1.322e+04 7.826e+03 9.812e+03       755.0   \n",
              "7               A     ago 8.522e+03 5.799e+03 9.822e+03        13.0   \n",
              "8               A     set   6.3e+03 4.972e+03 8.105e+03        40.0   \n",
              "9               A     ott 6.987e+03 4.733e+03 7.153e+03       129.0   \n",
              "10              A     nov 9.832e+03 4.548e+03 6.228e+03       439.0   \n",
              "11              A     dic 9.928e+03 4.128e+03  6.04e+03       755.0   \n",
              "12              B     gen 7.563e+03 8.329e+03 9.303e+03    1.78e+05   \n",
              "13              B     feb 7.592e+03 8.276e+03  8.92e+03    1.89e+05   \n",
              "14              B     mar 8.005e+03 8.275e+03 8.686e+03   2.461e+05   \n",
              "15              B     apr  7.88e+03 8.205e+03 8.687e+03   2.653e+05   \n",
              "16              B     mag 7.377e+03 7.644e+03  8.59e+03   2.953e+05   \n",
              "17              B     giu 7.363e+03 7.612e+03 8.455e+03   3.063e+05   \n",
              "18              B     lug 8.041e+03 8.463e+03 8.817e+03   3.209e+05   \n",
              "19              B     ago 7.991e+03  8.43e+03 8.865e+03    3.17e+05   \n",
              "20              B     set 8.265e+03 8.794e+03 8.977e+03   2.682e+05   \n",
              "21              B     ott 8.403e+03 8.965e+03 9.157e+03   2.383e+05   \n",
              "22              B     nov 7.342e+03 7.661e+03 7.506e+03   1.788e+05   \n",
              "23              B     dic 7.395e+03 7.635e+03 7.713e+03   1.649e+05   \n",
              "24  Idroelettrico     gen       0.0       0.0       0.0       328.0   \n",
              "25  Idroelettrico     feb       0.0       0.0       0.0       297.0   \n",
              "26  Idroelettrico     mar       0.0       0.0       0.0       319.0   \n",
              "27  Idroelettrico     apr       0.0       0.0       0.0       297.0   \n",
              "28  Idroelettrico     mag       0.0       0.0       0.0       319.0   \n",
              "29  Idroelettrico     giu       0.0       0.0       0.0       438.0   \n",
              "30  Idroelettrico     lug       0.0       0.0       0.0       755.0   \n",
              "31  Idroelettrico     ago       0.0       0.0       0.0        13.0   \n",
              "32  Idroelettrico     set       0.0       0.0       0.0        40.0   \n",
              "33  Idroelettrico     ott       0.0       0.0       0.0       129.0   \n",
              "34  Idroelettrico     nov       0.0       0.0       0.0       439.0   \n",
              "35  Idroelettrico     dic       0.0       0.0       0.0       755.0   \n",
              "\n",
              "    Bolletta Mensile  Potenza Da Installare  Produzione Aggiuntiva  \\\n",
              "0          6.255e+03                   16.0              1.538e+03   \n",
              "1          6.384e+03                   16.0              1.637e+03   \n",
              "2          6.017e+03                   16.0               2.08e+03   \n",
              "3          6.931e+03                   16.0              2.235e+03   \n",
              "4          1.105e+04                   16.0              2.458e+03   \n",
              "5          1.314e+04                   16.0              2.536e+03   \n",
              "6          1.419e+04                   16.0              2.657e+03   \n",
              "7           1.11e+04                   16.0              2.629e+03   \n",
              "8          6.531e+03                   16.0              2.256e+03   \n",
              "9          6.362e+03                   16.0              2.039e+03   \n",
              "10         6.947e+03                   16.0              1.548e+03   \n",
              "11          9.24e+03                   16.0              1.461e+03   \n",
              "12             916.0                  2e+03              1.873e+05   \n",
              "13             946.2                  2e+03              1.983e+05   \n",
              "14         1.032e+03                  2e+03              2.558e+05   \n",
              "15             737.0                  2e+03              2.748e+05   \n",
              "16             756.1                  2e+03              3.042e+05   \n",
              "17             373.1                  2e+03              3.152e+05   \n",
              "18             406.1                  2e+03              3.306e+05   \n",
              "19             233.7                  2e+03              3.266e+05   \n",
              "20             505.6                  2e+03              2.782e+05   \n",
              "21             603.9                  2e+03              2.485e+05   \n",
              "22             714.9                  2e+03              1.876e+05   \n",
              "23             782.4                  2e+03              1.738e+05   \n",
              "24         6.255e+03                    0.0                    0.0   \n",
              "25         6.384e+03                    0.0                    0.0   \n",
              "26         6.017e+03                    0.0                    0.0   \n",
              "27         6.931e+03                    0.0                    0.0   \n",
              "28         1.105e+04                    0.0                    0.0   \n",
              "29         1.314e+04                    0.0                    0.0   \n",
              "30         1.419e+04                    0.0                    0.0   \n",
              "31          1.11e+04                    0.0                    0.0   \n",
              "32         6.531e+03                    0.0                    0.0   \n",
              "33         6.362e+03                    0.0                    0.0   \n",
              "34         6.947e+03                    0.0                    0.0   \n",
              "35          9.24e+03                    0.0                    0.0   \n",
              "\n",
              "    Autoconsumo  \n",
              "0           0.0  \n",
              "1           0.0  \n",
              "2           0.0  \n",
              "3           0.0  \n",
              "4           0.0  \n",
              "5           0.0  \n",
              "6           0.0  \n",
              "7           0.0  \n",
              "8           0.0  \n",
              "9           0.0  \n",
              "10          0.0  \n",
              "11          0.0  \n",
              "12    9.229e+03  \n",
              "13    9.247e+03  \n",
              "14     9.66e+03  \n",
              "15    9.521e+03  \n",
              "16    8.906e+03  \n",
              "17    8.885e+03  \n",
              "18    9.734e+03  \n",
              "19    9.677e+03  \n",
              "20    1.002e+04  \n",
              "21     1.02e+04  \n",
              "22    8.874e+03  \n",
              "23    8.922e+03  \n",
              "24          0.0  \n",
              "25          0.0  \n",
              "26          0.0  \n",
              "27          0.0  \n",
              "28          0.0  \n",
              "29          0.0  \n",
              "30          0.0  \n",
              "31          0.0  \n",
              "32          0.0  \n",
              "33          0.0  \n",
              "34          0.0  \n",
              "35          0.0  "
            ],
            "text/html": [
              "\n",
              "  <div id=\"df-00c3766e-9bfa-4416-a54e-63fbd0b9f436\">\n",
              "    <div class=\"colab-df-container\">\n",
              "      <div>\n",
              "<style scoped>\n",
              "    .dataframe tbody tr th:only-of-type {\n",
              "        vertical-align: middle;\n",
              "    }\n",
              "\n",
              "    .dataframe tbody tr th {\n",
              "        vertical-align: top;\n",
              "    }\n",
              "\n",
              "    .dataframe thead th {\n",
              "        text-align: right;\n",
              "    }\n",
              "</style>\n",
              "<table border=\"1\" class=\"dataframe\">\n",
              "  <thead>\n",
              "    <tr style=\"text-align: right;\">\n",
              "      <th></th>\n",
              "      <th>Identificativo</th>\n",
              "      <th>Periodo</th>\n",
              "      <th>Fascia 1</th>\n",
              "      <th>Fascia 2</th>\n",
              "      <th>Fascia 3</th>\n",
              "      <th>Immissione</th>\n",
              "      <th>Bolletta Mensile</th>\n",
              "      <th>Potenza Da Installare</th>\n",
              "      <th>Produzione Aggiuntiva</th>\n",
              "      <th>Autoconsumo</th>\n",
              "    </tr>\n",
              "  </thead>\n",
              "  <tbody>\n",
              "    <tr>\n",
              "      <th>0</th>\n",
              "      <td>A</td>\n",
              "      <td>gen</td>\n",
              "      <td>8.529e+03</td>\n",
              "      <td>4.578e+03</td>\n",
              "      <td>5.451e+03</td>\n",
              "      <td>328.0</td>\n",
              "      <td>6.255e+03</td>\n",
              "      <td>16.0</td>\n",
              "      <td>1.538e+03</td>\n",
              "      <td>0.0</td>\n",
              "    </tr>\n",
              "    <tr>\n",
              "      <th>1</th>\n",
              "      <td>A</td>\n",
              "      <td>feb</td>\n",
              "      <td>9.596e+03</td>\n",
              "      <td>4.523e+03</td>\n",
              "      <td>4.822e+03</td>\n",
              "      <td>297.0</td>\n",
              "      <td>6.384e+03</td>\n",
              "      <td>16.0</td>\n",
              "      <td>1.637e+03</td>\n",
              "      <td>0.0</td>\n",
              "    </tr>\n",
              "    <tr>\n",
              "      <th>2</th>\n",
              "      <td>A</td>\n",
              "      <td>mar</td>\n",
              "      <td>9.086e+03</td>\n",
              "      <td>4.324e+03</td>\n",
              "      <td>4.44e+03</td>\n",
              "      <td>319.0</td>\n",
              "      <td>6.017e+03</td>\n",
              "      <td>16.0</td>\n",
              "      <td>2.08e+03</td>\n",
              "      <td>0.0</td>\n",
              "    </tr>\n",
              "    <tr>\n",
              "      <th>3</th>\n",
              "      <td>A</td>\n",
              "      <td>apr</td>\n",
              "      <td>9.88e+03</td>\n",
              "      <td>4.829e+03</td>\n",
              "      <td>5.853e+03</td>\n",
              "      <td>297.0</td>\n",
              "      <td>6.931e+03</td>\n",
              "      <td>16.0</td>\n",
              "      <td>2.235e+03</td>\n",
              "      <td>0.0</td>\n",
              "    </tr>\n",
              "    <tr>\n",
              "      <th>4</th>\n",
              "      <td>A</td>\n",
              "      <td>mag</td>\n",
              "      <td>1.093e+04</td>\n",
              "      <td>5.711e+03</td>\n",
              "      <td>7.389e+03</td>\n",
              "      <td>319.0</td>\n",
              "      <td>1.105e+04</td>\n",
              "      <td>16.0</td>\n",
              "      <td>2.458e+03</td>\n",
              "      <td>0.0</td>\n",
              "    </tr>\n",
              "    <tr>\n",
              "      <th>5</th>\n",
              "      <td>A</td>\n",
              "      <td>giu</td>\n",
              "      <td>1.285e+04</td>\n",
              "      <td>6.729e+03</td>\n",
              "      <td>9.008e+03</td>\n",
              "      <td>438.0</td>\n",
              "      <td>1.314e+04</td>\n",
              "      <td>16.0</td>\n",
              "      <td>2.536e+03</td>\n",
              "      <td>0.0</td>\n",
              "    </tr>\n",
              "    <tr>\n",
              "      <th>6</th>\n",
              "      <td>A</td>\n",
              "      <td>lug</td>\n",
              "      <td>1.322e+04</td>\n",
              "      <td>7.826e+03</td>\n",
              "      <td>9.812e+03</td>\n",
              "      <td>755.0</td>\n",
              "      <td>1.419e+04</td>\n",
              "      <td>16.0</td>\n",
              "      <td>2.657e+03</td>\n",
              "      <td>0.0</td>\n",
              "    </tr>\n",
              "    <tr>\n",
              "      <th>7</th>\n",
              "      <td>A</td>\n",
              "      <td>ago</td>\n",
              "      <td>8.522e+03</td>\n",
              "      <td>5.799e+03</td>\n",
              "      <td>9.822e+03</td>\n",
              "      <td>13.0</td>\n",
              "      <td>1.11e+04</td>\n",
              "      <td>16.0</td>\n",
              "      <td>2.629e+03</td>\n",
              "      <td>0.0</td>\n",
              "    </tr>\n",
              "    <tr>\n",
              "      <th>8</th>\n",
              "      <td>A</td>\n",
              "      <td>set</td>\n",
              "      <td>6.3e+03</td>\n",
              "      <td>4.972e+03</td>\n",
              "      <td>8.105e+03</td>\n",
              "      <td>40.0</td>\n",
              "      <td>6.531e+03</td>\n",
              "      <td>16.0</td>\n",
              "      <td>2.256e+03</td>\n",
              "      <td>0.0</td>\n",
              "    </tr>\n",
              "    <tr>\n",
              "      <th>9</th>\n",
              "      <td>A</td>\n",
              "      <td>ott</td>\n",
              "      <td>6.987e+03</td>\n",
              "      <td>4.733e+03</td>\n",
              "      <td>7.153e+03</td>\n",
              "      <td>129.0</td>\n",
              "      <td>6.362e+03</td>\n",
              "      <td>16.0</td>\n",
              "      <td>2.039e+03</td>\n",
              "      <td>0.0</td>\n",
              "    </tr>\n",
              "    <tr>\n",
              "      <th>10</th>\n",
              "      <td>A</td>\n",
              "      <td>nov</td>\n",
              "      <td>9.832e+03</td>\n",
              "      <td>4.548e+03</td>\n",
              "      <td>6.228e+03</td>\n",
              "      <td>439.0</td>\n",
              "      <td>6.947e+03</td>\n",
              "      <td>16.0</td>\n",
              "      <td>1.548e+03</td>\n",
              "      <td>0.0</td>\n",
              "    </tr>\n",
              "    <tr>\n",
              "      <th>11</th>\n",
              "      <td>A</td>\n",
              "      <td>dic</td>\n",
              "      <td>9.928e+03</td>\n",
              "      <td>4.128e+03</td>\n",
              "      <td>6.04e+03</td>\n",
              "      <td>755.0</td>\n",
              "      <td>9.24e+03</td>\n",
              "      <td>16.0</td>\n",
              "      <td>1.461e+03</td>\n",
              "      <td>0.0</td>\n",
              "    </tr>\n",
              "    <tr>\n",
              "      <th>12</th>\n",
              "      <td>B</td>\n",
              "      <td>gen</td>\n",
              "      <td>7.563e+03</td>\n",
              "      <td>8.329e+03</td>\n",
              "      <td>9.303e+03</td>\n",
              "      <td>1.78e+05</td>\n",
              "      <td>916.0</td>\n",
              "      <td>2e+03</td>\n",
              "      <td>1.873e+05</td>\n",
              "      <td>9.229e+03</td>\n",
              "    </tr>\n",
              "    <tr>\n",
              "      <th>13</th>\n",
              "      <td>B</td>\n",
              "      <td>feb</td>\n",
              "      <td>7.592e+03</td>\n",
              "      <td>8.276e+03</td>\n",
              "      <td>8.92e+03</td>\n",
              "      <td>1.89e+05</td>\n",
              "      <td>946.2</td>\n",
              "      <td>2e+03</td>\n",
              "      <td>1.983e+05</td>\n",
              "      <td>9.247e+03</td>\n",
              "    </tr>\n",
              "    <tr>\n",
              "      <th>14</th>\n",
              "      <td>B</td>\n",
              "      <td>mar</td>\n",
              "      <td>8.005e+03</td>\n",
              "      <td>8.275e+03</td>\n",
              "      <td>8.686e+03</td>\n",
              "      <td>2.461e+05</td>\n",
              "      <td>1.032e+03</td>\n",
              "      <td>2e+03</td>\n",
              "      <td>2.558e+05</td>\n",
              "      <td>9.66e+03</td>\n",
              "    </tr>\n",
              "    <tr>\n",
              "      <th>15</th>\n",
              "      <td>B</td>\n",
              "      <td>apr</td>\n",
              "      <td>7.88e+03</td>\n",
              "      <td>8.205e+03</td>\n",
              "      <td>8.687e+03</td>\n",
              "      <td>2.653e+05</td>\n",
              "      <td>737.0</td>\n",
              "      <td>2e+03</td>\n",
              "      <td>2.748e+05</td>\n",
              "      <td>9.521e+03</td>\n",
              "    </tr>\n",
              "    <tr>\n",
              "      <th>16</th>\n",
              "      <td>B</td>\n",
              "      <td>mag</td>\n",
              "      <td>7.377e+03</td>\n",
              "      <td>7.644e+03</td>\n",
              "      <td>8.59e+03</td>\n",
              "      <td>2.953e+05</td>\n",
              "      <td>756.1</td>\n",
              "      <td>2e+03</td>\n",
              "      <td>3.042e+05</td>\n",
              "      <td>8.906e+03</td>\n",
              "    </tr>\n",
              "    <tr>\n",
              "      <th>17</th>\n",
              "      <td>B</td>\n",
              "      <td>giu</td>\n",
              "      <td>7.363e+03</td>\n",
              "      <td>7.612e+03</td>\n",
              "      <td>8.455e+03</td>\n",
              "      <td>3.063e+05</td>\n",
              "      <td>373.1</td>\n",
              "      <td>2e+03</td>\n",
              "      <td>3.152e+05</td>\n",
              "      <td>8.885e+03</td>\n",
              "    </tr>\n",
              "    <tr>\n",
              "      <th>18</th>\n",
              "      <td>B</td>\n",
              "      <td>lug</td>\n",
              "      <td>8.041e+03</td>\n",
              "      <td>8.463e+03</td>\n",
              "      <td>8.817e+03</td>\n",
              "      <td>3.209e+05</td>\n",
              "      <td>406.1</td>\n",
              "      <td>2e+03</td>\n",
              "      <td>3.306e+05</td>\n",
              "      <td>9.734e+03</td>\n",
              "    </tr>\n",
              "    <tr>\n",
              "      <th>19</th>\n",
              "      <td>B</td>\n",
              "      <td>ago</td>\n",
              "      <td>7.991e+03</td>\n",
              "      <td>8.43e+03</td>\n",
              "      <td>8.865e+03</td>\n",
              "      <td>3.17e+05</td>\n",
              "      <td>233.7</td>\n",
              "      <td>2e+03</td>\n",
              "      <td>3.266e+05</td>\n",
              "      <td>9.677e+03</td>\n",
              "    </tr>\n",
              "    <tr>\n",
              "      <th>20</th>\n",
              "      <td>B</td>\n",
              "      <td>set</td>\n",
              "      <td>8.265e+03</td>\n",
              "      <td>8.794e+03</td>\n",
              "      <td>8.977e+03</td>\n",
              "      <td>2.682e+05</td>\n",
              "      <td>505.6</td>\n",
              "      <td>2e+03</td>\n",
              "      <td>2.782e+05</td>\n",
              "      <td>1.002e+04</td>\n",
              "    </tr>\n",
              "    <tr>\n",
              "      <th>21</th>\n",
              "      <td>B</td>\n",
              "      <td>ott</td>\n",
              "      <td>8.403e+03</td>\n",
              "      <td>8.965e+03</td>\n",
              "      <td>9.157e+03</td>\n",
              "      <td>2.383e+05</td>\n",
              "      <td>603.9</td>\n",
              "      <td>2e+03</td>\n",
              "      <td>2.485e+05</td>\n",
              "      <td>1.02e+04</td>\n",
              "    </tr>\n",
              "    <tr>\n",
              "      <th>22</th>\n",
              "      <td>B</td>\n",
              "      <td>nov</td>\n",
              "      <td>7.342e+03</td>\n",
              "      <td>7.661e+03</td>\n",
              "      <td>7.506e+03</td>\n",
              "      <td>1.788e+05</td>\n",
              "      <td>714.9</td>\n",
              "      <td>2e+03</td>\n",
              "      <td>1.876e+05</td>\n",
              "      <td>8.874e+03</td>\n",
              "    </tr>\n",
              "    <tr>\n",
              "      <th>23</th>\n",
              "      <td>B</td>\n",
              "      <td>dic</td>\n",
              "      <td>7.395e+03</td>\n",
              "      <td>7.635e+03</td>\n",
              "      <td>7.713e+03</td>\n",
              "      <td>1.649e+05</td>\n",
              "      <td>782.4</td>\n",
              "      <td>2e+03</td>\n",
              "      <td>1.738e+05</td>\n",
              "      <td>8.922e+03</td>\n",
              "    </tr>\n",
              "    <tr>\n",
              "      <th>24</th>\n",
              "      <td>Idroelettrico</td>\n",
              "      <td>gen</td>\n",
              "      <td>0.0</td>\n",
              "      <td>0.0</td>\n",
              "      <td>0.0</td>\n",
              "      <td>328.0</td>\n",
              "      <td>6.255e+03</td>\n",
              "      <td>0.0</td>\n",
              "      <td>0.0</td>\n",
              "      <td>0.0</td>\n",
              "    </tr>\n",
              "    <tr>\n",
              "      <th>25</th>\n",
              "      <td>Idroelettrico</td>\n",
              "      <td>feb</td>\n",
              "      <td>0.0</td>\n",
              "      <td>0.0</td>\n",
              "      <td>0.0</td>\n",
              "      <td>297.0</td>\n",
              "      <td>6.384e+03</td>\n",
              "      <td>0.0</td>\n",
              "      <td>0.0</td>\n",
              "      <td>0.0</td>\n",
              "    </tr>\n",
              "    <tr>\n",
              "      <th>26</th>\n",
              "      <td>Idroelettrico</td>\n",
              "      <td>mar</td>\n",
              "      <td>0.0</td>\n",
              "      <td>0.0</td>\n",
              "      <td>0.0</td>\n",
              "      <td>319.0</td>\n",
              "      <td>6.017e+03</td>\n",
              "      <td>0.0</td>\n",
              "      <td>0.0</td>\n",
              "      <td>0.0</td>\n",
              "    </tr>\n",
              "    <tr>\n",
              "      <th>27</th>\n",
              "      <td>Idroelettrico</td>\n",
              "      <td>apr</td>\n",
              "      <td>0.0</td>\n",
              "      <td>0.0</td>\n",
              "      <td>0.0</td>\n",
              "      <td>297.0</td>\n",
              "      <td>6.931e+03</td>\n",
              "      <td>0.0</td>\n",
              "      <td>0.0</td>\n",
              "      <td>0.0</td>\n",
              "    </tr>\n",
              "    <tr>\n",
              "      <th>28</th>\n",
              "      <td>Idroelettrico</td>\n",
              "      <td>mag</td>\n",
              "      <td>0.0</td>\n",
              "      <td>0.0</td>\n",
              "      <td>0.0</td>\n",
              "      <td>319.0</td>\n",
              "      <td>1.105e+04</td>\n",
              "      <td>0.0</td>\n",
              "      <td>0.0</td>\n",
              "      <td>0.0</td>\n",
              "    </tr>\n",
              "    <tr>\n",
              "      <th>29</th>\n",
              "      <td>Idroelettrico</td>\n",
              "      <td>giu</td>\n",
              "      <td>0.0</td>\n",
              "      <td>0.0</td>\n",
              "      <td>0.0</td>\n",
              "      <td>438.0</td>\n",
              "      <td>1.314e+04</td>\n",
              "      <td>0.0</td>\n",
              "      <td>0.0</td>\n",
              "      <td>0.0</td>\n",
              "    </tr>\n",
              "    <tr>\n",
              "      <th>30</th>\n",
              "      <td>Idroelettrico</td>\n",
              "      <td>lug</td>\n",
              "      <td>0.0</td>\n",
              "      <td>0.0</td>\n",
              "      <td>0.0</td>\n",
              "      <td>755.0</td>\n",
              "      <td>1.419e+04</td>\n",
              "      <td>0.0</td>\n",
              "      <td>0.0</td>\n",
              "      <td>0.0</td>\n",
              "    </tr>\n",
              "    <tr>\n",
              "      <th>31</th>\n",
              "      <td>Idroelettrico</td>\n",
              "      <td>ago</td>\n",
              "      <td>0.0</td>\n",
              "      <td>0.0</td>\n",
              "      <td>0.0</td>\n",
              "      <td>13.0</td>\n",
              "      <td>1.11e+04</td>\n",
              "      <td>0.0</td>\n",
              "      <td>0.0</td>\n",
              "      <td>0.0</td>\n",
              "    </tr>\n",
              "    <tr>\n",
              "      <th>32</th>\n",
              "      <td>Idroelettrico</td>\n",
              "      <td>set</td>\n",
              "      <td>0.0</td>\n",
              "      <td>0.0</td>\n",
              "      <td>0.0</td>\n",
              "      <td>40.0</td>\n",
              "      <td>6.531e+03</td>\n",
              "      <td>0.0</td>\n",
              "      <td>0.0</td>\n",
              "      <td>0.0</td>\n",
              "    </tr>\n",
              "    <tr>\n",
              "      <th>33</th>\n",
              "      <td>Idroelettrico</td>\n",
              "      <td>ott</td>\n",
              "      <td>0.0</td>\n",
              "      <td>0.0</td>\n",
              "      <td>0.0</td>\n",
              "      <td>129.0</td>\n",
              "      <td>6.362e+03</td>\n",
              "      <td>0.0</td>\n",
              "      <td>0.0</td>\n",
              "      <td>0.0</td>\n",
              "    </tr>\n",
              "    <tr>\n",
              "      <th>34</th>\n",
              "      <td>Idroelettrico</td>\n",
              "      <td>nov</td>\n",
              "      <td>0.0</td>\n",
              "      <td>0.0</td>\n",
              "      <td>0.0</td>\n",
              "      <td>439.0</td>\n",
              "      <td>6.947e+03</td>\n",
              "      <td>0.0</td>\n",
              "      <td>0.0</td>\n",
              "      <td>0.0</td>\n",
              "    </tr>\n",
              "    <tr>\n",
              "      <th>35</th>\n",
              "      <td>Idroelettrico</td>\n",
              "      <td>dic</td>\n",
              "      <td>0.0</td>\n",
              "      <td>0.0</td>\n",
              "      <td>0.0</td>\n",
              "      <td>755.0</td>\n",
              "      <td>9.24e+03</td>\n",
              "      <td>0.0</td>\n",
              "      <td>0.0</td>\n",
              "      <td>0.0</td>\n",
              "    </tr>\n",
              "  </tbody>\n",
              "</table>\n",
              "</div>\n",
              "      <button class=\"colab-df-convert\" onclick=\"convertToInteractive('df-00c3766e-9bfa-4416-a54e-63fbd0b9f436')\"\n",
              "              title=\"Convert this dataframe to an interactive table.\"\n",
              "              style=\"display:none;\">\n",
              "        \n",
              "  <svg xmlns=\"http://www.w3.org/2000/svg\" height=\"24px\"viewBox=\"0 0 24 24\"\n",
              "       width=\"24px\">\n",
              "    <path d=\"M0 0h24v24H0V0z\" fill=\"none\"/>\n",
              "    <path d=\"M18.56 5.44l.94 2.06.94-2.06 2.06-.94-2.06-.94-.94-2.06-.94 2.06-2.06.94zm-11 1L8.5 8.5l.94-2.06 2.06-.94-2.06-.94L8.5 2.5l-.94 2.06-2.06.94zm10 10l.94 2.06.94-2.06 2.06-.94-2.06-.94-.94-2.06-.94 2.06-2.06.94z\"/><path d=\"M17.41 7.96l-1.37-1.37c-.4-.4-.92-.59-1.43-.59-.52 0-1.04.2-1.43.59L10.3 9.45l-7.72 7.72c-.78.78-.78 2.05 0 2.83L4 21.41c.39.39.9.59 1.41.59.51 0 1.02-.2 1.41-.59l7.78-7.78 2.81-2.81c.8-.78.8-2.07 0-2.86zM5.41 20L4 18.59l7.72-7.72 1.47 1.35L5.41 20z\"/>\n",
              "  </svg>\n",
              "      </button>\n",
              "      \n",
              "  <style>\n",
              "    .colab-df-container {\n",
              "      display:flex;\n",
              "      flex-wrap:wrap;\n",
              "      gap: 12px;\n",
              "    }\n",
              "\n",
              "    .colab-df-convert {\n",
              "      background-color: #E8F0FE;\n",
              "      border: none;\n",
              "      border-radius: 50%;\n",
              "      cursor: pointer;\n",
              "      display: none;\n",
              "      fill: #1967D2;\n",
              "      height: 32px;\n",
              "      padding: 0 0 0 0;\n",
              "      width: 32px;\n",
              "    }\n",
              "\n",
              "    .colab-df-convert:hover {\n",
              "      background-color: #E2EBFA;\n",
              "      box-shadow: 0px 1px 2px rgba(60, 64, 67, 0.3), 0px 1px 3px 1px rgba(60, 64, 67, 0.15);\n",
              "      fill: #174EA6;\n",
              "    }\n",
              "\n",
              "    [theme=dark] .colab-df-convert {\n",
              "      background-color: #3B4455;\n",
              "      fill: #D2E3FC;\n",
              "    }\n",
              "\n",
              "    [theme=dark] .colab-df-convert:hover {\n",
              "      background-color: #434B5C;\n",
              "      box-shadow: 0px 1px 3px 1px rgba(0, 0, 0, 0.15);\n",
              "      filter: drop-shadow(0px 1px 2px rgba(0, 0, 0, 0.3));\n",
              "      fill: #FFFFFF;\n",
              "    }\n",
              "  </style>\n",
              "\n",
              "      <script>\n",
              "        const buttonEl =\n",
              "          document.querySelector('#df-00c3766e-9bfa-4416-a54e-63fbd0b9f436 button.colab-df-convert');\n",
              "        buttonEl.style.display =\n",
              "          google.colab.kernel.accessAllowed ? 'block' : 'none';\n",
              "\n",
              "        async function convertToInteractive(key) {\n",
              "          const element = document.querySelector('#df-00c3766e-9bfa-4416-a54e-63fbd0b9f436');\n",
              "          const dataTable =\n",
              "            await google.colab.kernel.invokeFunction('convertToInteractive',\n",
              "                                                     [key], {});\n",
              "          if (!dataTable) return;\n",
              "\n",
              "          const docLinkHtml = 'Like what you see? Visit the ' +\n",
              "            '<a target=\"_blank\" href=https://colab.research.google.com/notebooks/data_table.ipynb>data table notebook</a>'\n",
              "            + ' to learn more about interactive tables.';\n",
              "          element.innerHTML = '';\n",
              "          dataTable['output_type'] = 'display_data';\n",
              "          await google.colab.output.renderOutput(dataTable, element);\n",
              "          const docLink = document.createElement('div');\n",
              "          docLink.innerHTML = docLinkHtml;\n",
              "          element.appendChild(docLink);\n",
              "        }\n",
              "      </script>\n",
              "    </div>\n",
              "  </div>\n",
              "  "
            ]
          },
          "metadata": {},
          "execution_count": 94
        }
      ]
    },
    {
      "cell_type": "code",
      "source": [
        "df_produzione['Produzione'].sum()/12"
      ],
      "metadata": {
        "colab": {
          "base_uri": "https://localhost:8080/"
        },
        "id": "p56NbUDuMSc6",
        "outputId": "171ca9b3-aede-446a-abbd-a5de83d80caa"
      },
      "execution_count": null,
      "outputs": [
        {
          "output_type": "execute_result",
          "data": {
            "text/plain": [
              "258835.31916666662"
            ]
          },
          "metadata": {},
          "execution_count": 95
        }
      ]
    },
    {
      "cell_type": "code",
      "metadata": {
        "id": "ofjwUsBI3ewK"
      },
      "source": [
        "#df = dfs['CER']\n",
        "df_ssp = dfs['SSP']\n",
        "\n",
        "#df = df.drop(columns=['Bolletta Annua'])\n",
        "\n",
        "temporary = df.groupby(by=[\"Identificativo\"], as_index=True).agg({\"Fascia 1\":\"sum\", \"Fascia 2\":\"sum\", 'Immissione':'sum', 'Autoconsumo':'sum', 'Produzione Aggiuntiva':'sum'}).rename(columns={\"Fascia 1\":\"Somma Fascia 1\", \"Fascia 2\":\"Somma Fascia 2\", 'Immissione': 'Somma Immissione', 'Autoconsumo': 'Somma Autoconsumo', 'Produzione Aggiuntiva':'Somma Produzione Aggiuntiva'}).reset_index()\n",
        "df = pd.merge(df, temporary, on=['Identificativo'], how=\"left\")\n",
        "df = df.drop(columns = ['Autoconsumo' , 'Produzione Aggiuntiva'])\n",
        "df['Consumo Per Fotovoltaico'] = df.apply(lambda x: (x['Somma Fascia 1']) if (x['Somma Fascia 2'] < 0.5*x['Somma Fascia 1'])  else (x['Somma Fascia 1']*12/10), axis =1) \n",
        "df['Consumo Per Fotovoltaico'] = df['Consumo Per Fotovoltaico'] - df['Somma Autoconsumo'] \n",
        "#df['Produzione'] = df['Taglia Impianto'] * 1250\n",
        "df['Differenza'] = df.apply(lambda x: (1/3*x['Somma Immissione'] - x['Consumo Per Fotovoltaico']) if (x['Identificativo'] == 'Idroelettrico') else (x['Somma Immissione'] - x['Consumo Per Fotovoltaico']), axis = 1)  # Questo è quanto prelevo/immetto al netto della produzione dell'impianto preesistente\n",
        "#df['Differenza'] = df.apply(lambda x: df['Somma Immissione'] - df['Consumo Per Fotovoltaico'] # Questo è quanto prelevo/immetto al netto della produzione dell'impianto preesistente\n",
        "\n",
        "df[\"Taglia Impianto Potenziale\"] = df.apply(lambda x: (abs(x[\"Differenza\"])/1250) if (x[\"Differenza\"] < 0)  else (-x['Differenza']/1250) , axis =1)\n",
        "df['Costo Impianto Potenziale'] = df.apply(lambda x: (x['Taglia Impianto Potenziale']*1200) if (x[\"Differenza\"] < 0)  else (0) , axis =1) \n",
        "df['Costo Potenza da Installare'] = df.apply(lambda x: (x['Potenza Da Installare']*1200) if (x[\"Potenza Da Installare\"] > 0)  else (0) , axis =1) \n",
        "df['Consumo Totale Fasce'] = (df['Fascia 1'] + df['Fascia 2'] + df['Fascia 3'])"
      ],
      "execution_count": null,
      "outputs": []
    },
    {
      "cell_type": "code",
      "source": [],
      "metadata": {
        "id": "RduhvC2qTOYp"
      },
      "execution_count": null,
      "outputs": []
    },
    {
      "cell_type": "code",
      "source": [
        "df['Taglia Impianto Potenziale'].sum()"
      ],
      "metadata": {
        "id": "xqwWltB2-hQM",
        "colab": {
          "base_uri": "https://localhost:8080/"
        },
        "outputId": "ba95b4c1-3ad5-4680-ab93-98bcd9b54bae"
      },
      "execution_count": null,
      "outputs": [
        {
          "output_type": "execute_result",
          "data": {
            "text/plain": [
              "-27223.686751999994"
            ]
          },
          "metadata": {},
          "execution_count": 97
        }
      ]
    },
    {
      "cell_type": "markdown",
      "source": [
        "## Calcolo benefici SSP"
      ],
      "metadata": {
        "id": "Nnrg3jCu9bNI"
      }
    },
    {
      "cell_type": "code",
      "source": [
        "#Parametri economici SSP\n",
        "PUN = 0.1\n",
        "prezzo_energia = 0.9*PUN\n",
        "corr_forfettario = 0.6*PUN"
      ],
      "metadata": {
        "id": "U_Al8OMTJQBj"
      },
      "execution_count": null,
      "outputs": []
    },
    {
      "cell_type": "code",
      "source": [
        "def CalcolaBenficiSSP(df): \n",
        "  temporary_ssp = df.groupby(by=[\"Identificativo\"], as_index=True).agg({\"Produzione\":\"sum\", \"Autoconsumo\":\"sum\", \"Esportata\":\"sum\", \"Importata\":\"sum\" }).rename(columns={\"Produzione\":\"Totale Produzione\", \"Autoconsumo\":\"Totale Autoconsumo\", \"Esportata\":\"Totale Esportata\", \"Importata\":\"Totale Importata\"}).reset_index()\n",
        "  temporary_ssp['Beneficio SSP'] = temporary_ssp.apply(lambda x: min(PUN*x['Totale Importata'], prezzo_energia*x['Totale Esportata']) + corr_forfettario*min(x['Totale Importata'], x['Totale Esportata']), axis =1) \n",
        "  return temporary_ssp"
      ],
      "metadata": {
        "id": "0OlbR6ws-G14"
      },
      "execution_count": null,
      "outputs": []
    },
    {
      "cell_type": "code",
      "source": [
        "#Input\n",
        "if df_ssp.empty: \n",
        "  print('Non sono stati istanziati utenti con scambio sul posto')\n",
        "else: \n",
        "  print('Sono stati istanziati utenti con scambio sul posto')\n",
        "  df_ssp = CalcolaBenficiSSP(df_ssp)\n",
        "df_ssp\n",
        "  "
      ],
      "metadata": {
        "id": "4QGOPC-C9fzS",
        "colab": {
          "base_uri": "https://localhost:8080/",
          "height": 129
        },
        "outputId": "b7b8dc6a-d25f-4b9a-a336-47f4b0f28e4d"
      },
      "execution_count": null,
      "outputs": [
        {
          "output_type": "stream",
          "name": "stdout",
          "text": [
            "Sono stati istanziati utenti con scambio sul posto\n"
          ]
        },
        {
          "output_type": "execute_result",
          "data": {
            "text/plain": [
              "            Identificativo  Totale Produzione  Totale Autoconsumo  \\\n",
              "0               Ciemme srl          1.897e+04           1.313e+04   \n",
              "1  Latteria del Molise Srl          4.989e+04           3.715e+04   \n",
              "\n",
              "   Totale Esportata  Totale Importata  Beneficio SSP  \n",
              "0          7.18e+03         1.901e+04      1.077e+03  \n",
              "1         4.129e+03          4.67e+04          619.4  "
            ],
            "text/html": [
              "\n",
              "  <div id=\"df-b6de0fb0-3654-45a3-bb39-35049530b26c\">\n",
              "    <div class=\"colab-df-container\">\n",
              "      <div>\n",
              "<style scoped>\n",
              "    .dataframe tbody tr th:only-of-type {\n",
              "        vertical-align: middle;\n",
              "    }\n",
              "\n",
              "    .dataframe tbody tr th {\n",
              "        vertical-align: top;\n",
              "    }\n",
              "\n",
              "    .dataframe thead th {\n",
              "        text-align: right;\n",
              "    }\n",
              "</style>\n",
              "<table border=\"1\" class=\"dataframe\">\n",
              "  <thead>\n",
              "    <tr style=\"text-align: right;\">\n",
              "      <th></th>\n",
              "      <th>Identificativo</th>\n",
              "      <th>Totale Produzione</th>\n",
              "      <th>Totale Autoconsumo</th>\n",
              "      <th>Totale Esportata</th>\n",
              "      <th>Totale Importata</th>\n",
              "      <th>Beneficio SSP</th>\n",
              "    </tr>\n",
              "  </thead>\n",
              "  <tbody>\n",
              "    <tr>\n",
              "      <th>0</th>\n",
              "      <td>Ciemme srl</td>\n",
              "      <td>1.897e+04</td>\n",
              "      <td>1.313e+04</td>\n",
              "      <td>7.18e+03</td>\n",
              "      <td>1.901e+04</td>\n",
              "      <td>1.077e+03</td>\n",
              "    </tr>\n",
              "    <tr>\n",
              "      <th>1</th>\n",
              "      <td>Latteria del Molise Srl</td>\n",
              "      <td>4.989e+04</td>\n",
              "      <td>3.715e+04</td>\n",
              "      <td>4.129e+03</td>\n",
              "      <td>4.67e+04</td>\n",
              "      <td>619.4</td>\n",
              "    </tr>\n",
              "  </tbody>\n",
              "</table>\n",
              "</div>\n",
              "      <button class=\"colab-df-convert\" onclick=\"convertToInteractive('df-b6de0fb0-3654-45a3-bb39-35049530b26c')\"\n",
              "              title=\"Convert this dataframe to an interactive table.\"\n",
              "              style=\"display:none;\">\n",
              "        \n",
              "  <svg xmlns=\"http://www.w3.org/2000/svg\" height=\"24px\"viewBox=\"0 0 24 24\"\n",
              "       width=\"24px\">\n",
              "    <path d=\"M0 0h24v24H0V0z\" fill=\"none\"/>\n",
              "    <path d=\"M18.56 5.44l.94 2.06.94-2.06 2.06-.94-2.06-.94-.94-2.06-.94 2.06-2.06.94zm-11 1L8.5 8.5l.94-2.06 2.06-.94-2.06-.94L8.5 2.5l-.94 2.06-2.06.94zm10 10l.94 2.06.94-2.06 2.06-.94-2.06-.94-.94-2.06-.94 2.06-2.06.94z\"/><path d=\"M17.41 7.96l-1.37-1.37c-.4-.4-.92-.59-1.43-.59-.52 0-1.04.2-1.43.59L10.3 9.45l-7.72 7.72c-.78.78-.78 2.05 0 2.83L4 21.41c.39.39.9.59 1.41.59.51 0 1.02-.2 1.41-.59l7.78-7.78 2.81-2.81c.8-.78.8-2.07 0-2.86zM5.41 20L4 18.59l7.72-7.72 1.47 1.35L5.41 20z\"/>\n",
              "  </svg>\n",
              "      </button>\n",
              "      \n",
              "  <style>\n",
              "    .colab-df-container {\n",
              "      display:flex;\n",
              "      flex-wrap:wrap;\n",
              "      gap: 12px;\n",
              "    }\n",
              "\n",
              "    .colab-df-convert {\n",
              "      background-color: #E8F0FE;\n",
              "      border: none;\n",
              "      border-radius: 50%;\n",
              "      cursor: pointer;\n",
              "      display: none;\n",
              "      fill: #1967D2;\n",
              "      height: 32px;\n",
              "      padding: 0 0 0 0;\n",
              "      width: 32px;\n",
              "    }\n",
              "\n",
              "    .colab-df-convert:hover {\n",
              "      background-color: #E2EBFA;\n",
              "      box-shadow: 0px 1px 2px rgba(60, 64, 67, 0.3), 0px 1px 3px 1px rgba(60, 64, 67, 0.15);\n",
              "      fill: #174EA6;\n",
              "    }\n",
              "\n",
              "    [theme=dark] .colab-df-convert {\n",
              "      background-color: #3B4455;\n",
              "      fill: #D2E3FC;\n",
              "    }\n",
              "\n",
              "    [theme=dark] .colab-df-convert:hover {\n",
              "      background-color: #434B5C;\n",
              "      box-shadow: 0px 1px 3px 1px rgba(0, 0, 0, 0.15);\n",
              "      filter: drop-shadow(0px 1px 2px rgba(0, 0, 0, 0.3));\n",
              "      fill: #FFFFFF;\n",
              "    }\n",
              "  </style>\n",
              "\n",
              "      <script>\n",
              "        const buttonEl =\n",
              "          document.querySelector('#df-b6de0fb0-3654-45a3-bb39-35049530b26c button.colab-df-convert');\n",
              "        buttonEl.style.display =\n",
              "          google.colab.kernel.accessAllowed ? 'block' : 'none';\n",
              "\n",
              "        async function convertToInteractive(key) {\n",
              "          const element = document.querySelector('#df-b6de0fb0-3654-45a3-bb39-35049530b26c');\n",
              "          const dataTable =\n",
              "            await google.colab.kernel.invokeFunction('convertToInteractive',\n",
              "                                                     [key], {});\n",
              "          if (!dataTable) return;\n",
              "\n",
              "          const docLinkHtml = 'Like what you see? Visit the ' +\n",
              "            '<a target=\"_blank\" href=https://colab.research.google.com/notebooks/data_table.ipynb>data table notebook</a>'\n",
              "            + ' to learn more about interactive tables.';\n",
              "          element.innerHTML = '';\n",
              "          dataTable['output_type'] = 'display_data';\n",
              "          await google.colab.output.renderOutput(dataTable, element);\n",
              "          const docLink = document.createElement('div');\n",
              "          docLink.innerHTML = docLinkHtml;\n",
              "          element.appendChild(docLink);\n",
              "        }\n",
              "      </script>\n",
              "    </div>\n",
              "  </div>\n",
              "  "
            ]
          },
          "metadata": {},
          "execution_count": 100
        }
      ]
    },
    {
      "cell_type": "code",
      "metadata": {
        "id": "JjAWWRPa-oQH"
      },
      "source": [
        "#df"
      ],
      "execution_count": null,
      "outputs": []
    },
    {
      "cell_type": "code",
      "metadata": {
        "id": "NdcRQZdo_sWV"
      },
      "source": [
        "#Inserisco consumo totale \n",
        "temporary2 = df.groupby(by=[\"Identificativo\"], as_index=True).agg({\"Consumo Totale Fasce\":\"sum\"}).rename(columns={\"Consumo Totale Fasce\":\"Consumo Totale Annuo\"}).reset_index()\n",
        "df = pd.merge(df, temporary2, on=['Identificativo'], how=\"left\")"
      ],
      "execution_count": null,
      "outputs": []
    },
    {
      "cell_type": "code",
      "metadata": {
        "id": "dQyWJ57tgBVB"
      },
      "source": [
        "#Inserisco costo bolletta totale\n",
        "temporary3 =  df.groupby(by=[\"Identificativo\"], as_index=True).agg({\"Bolletta Mensile\":\"sum\"}).rename(columns={\"Bolletta Mensile\":\"Costo Bolletta\"}).reset_index()\n",
        "df = pd.merge(df, temporary3, on=['Identificativo'], how=\"left\")"
      ],
      "execution_count": null,
      "outputs": []
    },
    {
      "cell_type": "code",
      "source": [
        "#df"
      ],
      "metadata": {
        "id": "dSZ9LQpQ5-rt"
      },
      "execution_count": null,
      "outputs": []
    },
    {
      "cell_type": "code",
      "metadata": {
        "id": "yjFEYXAR48nq",
        "colab": {
          "base_uri": "https://localhost:8080/",
          "height": 242
        },
        "outputId": "8c7cc3f4-d2a7-4a02-e3c2-bf97995ecd9e"
      },
      "source": [
        "df_finale = df.groupby('Identificativo').mean().drop(columns=['Fascia 1', 'Fascia 2', 'Fascia 3', 'Consumo Totale Fasce', 'Bolletta Mensile', 'Immissione']).reset_index()\n",
        "#df_finale['Costo Bolletta'] = df_finale.apply(lambda x: ((x['Consumo Totale Annuo'] - x['Produzione'])*costo_medio_energia) if (x['Differenza']< 0) else (0), axis = 1)\n",
        "#####################################################################################\n",
        "#df_finale.loc[df_finale['Identificativo']=='Torrefazione', 'Costo Bolletta'] = 8971#\n",
        "#####################################################################################\n",
        "df_finale = df_finale.drop(columns=['Consumo Totale Annuo'])\n",
        "df_finale"
      ],
      "execution_count": null,
      "outputs": [
        {
          "output_type": "execute_result",
          "data": {
            "text/plain": [
              "  Identificativo  Potenza Da Installare  Somma Fascia 1  Somma Fascia 2  \\\n",
              "0              A                   16.0       1.157e+05        6.27e+04   \n",
              "1              B                  2e+03       9.322e+04       9.829e+04   \n",
              "2  Idroelettrico                    0.0             0.0             0.0   \n",
              "\n",
              "   Somma Immissione  Somma Autoconsumo  Somma Produzione Aggiuntiva  \\\n",
              "0         4.129e+03                0.0                    2.507e+04   \n",
              "1         2.968e+06          1.129e+05                    3.081e+06   \n",
              "2         4.129e+03                0.0                          0.0   \n",
              "\n",
              "   Consumo Per Fotovoltaico  Differenza  Taglia Impianto Potenziale  \\\n",
              "0                 1.388e+05  -1.347e+05                       107.7   \n",
              "1                -1.014e+03   2.969e+06                  -2.375e+03   \n",
              "2                       0.0   1.376e+03                      -1.101   \n",
              "\n",
              "   Costo Impianto Potenziale  Costo Potenza da Installare  Costo Bolletta  \n",
              "0                  1.293e+05                     1.92e+04       1.041e+05  \n",
              "1                        0.0                      2.4e+06       8.007e+03  \n",
              "2                        0.0                          0.0       1.041e+05  "
            ],
            "text/html": [
              "\n",
              "  <div id=\"df-decebecd-9930-407d-bceb-c58786744b52\">\n",
              "    <div class=\"colab-df-container\">\n",
              "      <div>\n",
              "<style scoped>\n",
              "    .dataframe tbody tr th:only-of-type {\n",
              "        vertical-align: middle;\n",
              "    }\n",
              "\n",
              "    .dataframe tbody tr th {\n",
              "        vertical-align: top;\n",
              "    }\n",
              "\n",
              "    .dataframe thead th {\n",
              "        text-align: right;\n",
              "    }\n",
              "</style>\n",
              "<table border=\"1\" class=\"dataframe\">\n",
              "  <thead>\n",
              "    <tr style=\"text-align: right;\">\n",
              "      <th></th>\n",
              "      <th>Identificativo</th>\n",
              "      <th>Potenza Da Installare</th>\n",
              "      <th>Somma Fascia 1</th>\n",
              "      <th>Somma Fascia 2</th>\n",
              "      <th>Somma Immissione</th>\n",
              "      <th>Somma Autoconsumo</th>\n",
              "      <th>Somma Produzione Aggiuntiva</th>\n",
              "      <th>Consumo Per Fotovoltaico</th>\n",
              "      <th>Differenza</th>\n",
              "      <th>Taglia Impianto Potenziale</th>\n",
              "      <th>Costo Impianto Potenziale</th>\n",
              "      <th>Costo Potenza da Installare</th>\n",
              "      <th>Costo Bolletta</th>\n",
              "    </tr>\n",
              "  </thead>\n",
              "  <tbody>\n",
              "    <tr>\n",
              "      <th>0</th>\n",
              "      <td>A</td>\n",
              "      <td>16.0</td>\n",
              "      <td>1.157e+05</td>\n",
              "      <td>6.27e+04</td>\n",
              "      <td>4.129e+03</td>\n",
              "      <td>0.0</td>\n",
              "      <td>2.507e+04</td>\n",
              "      <td>1.388e+05</td>\n",
              "      <td>-1.347e+05</td>\n",
              "      <td>107.7</td>\n",
              "      <td>1.293e+05</td>\n",
              "      <td>1.92e+04</td>\n",
              "      <td>1.041e+05</td>\n",
              "    </tr>\n",
              "    <tr>\n",
              "      <th>1</th>\n",
              "      <td>B</td>\n",
              "      <td>2e+03</td>\n",
              "      <td>9.322e+04</td>\n",
              "      <td>9.829e+04</td>\n",
              "      <td>2.968e+06</td>\n",
              "      <td>1.129e+05</td>\n",
              "      <td>3.081e+06</td>\n",
              "      <td>-1.014e+03</td>\n",
              "      <td>2.969e+06</td>\n",
              "      <td>-2.375e+03</td>\n",
              "      <td>0.0</td>\n",
              "      <td>2.4e+06</td>\n",
              "      <td>8.007e+03</td>\n",
              "    </tr>\n",
              "    <tr>\n",
              "      <th>2</th>\n",
              "      <td>Idroelettrico</td>\n",
              "      <td>0.0</td>\n",
              "      <td>0.0</td>\n",
              "      <td>0.0</td>\n",
              "      <td>4.129e+03</td>\n",
              "      <td>0.0</td>\n",
              "      <td>0.0</td>\n",
              "      <td>0.0</td>\n",
              "      <td>1.376e+03</td>\n",
              "      <td>-1.101</td>\n",
              "      <td>0.0</td>\n",
              "      <td>0.0</td>\n",
              "      <td>1.041e+05</td>\n",
              "    </tr>\n",
              "  </tbody>\n",
              "</table>\n",
              "</div>\n",
              "      <button class=\"colab-df-convert\" onclick=\"convertToInteractive('df-decebecd-9930-407d-bceb-c58786744b52')\"\n",
              "              title=\"Convert this dataframe to an interactive table.\"\n",
              "              style=\"display:none;\">\n",
              "        \n",
              "  <svg xmlns=\"http://www.w3.org/2000/svg\" height=\"24px\"viewBox=\"0 0 24 24\"\n",
              "       width=\"24px\">\n",
              "    <path d=\"M0 0h24v24H0V0z\" fill=\"none\"/>\n",
              "    <path d=\"M18.56 5.44l.94 2.06.94-2.06 2.06-.94-2.06-.94-.94-2.06-.94 2.06-2.06.94zm-11 1L8.5 8.5l.94-2.06 2.06-.94-2.06-.94L8.5 2.5l-.94 2.06-2.06.94zm10 10l.94 2.06.94-2.06 2.06-.94-2.06-.94-.94-2.06-.94 2.06-2.06.94z\"/><path d=\"M17.41 7.96l-1.37-1.37c-.4-.4-.92-.59-1.43-.59-.52 0-1.04.2-1.43.59L10.3 9.45l-7.72 7.72c-.78.78-.78 2.05 0 2.83L4 21.41c.39.39.9.59 1.41.59.51 0 1.02-.2 1.41-.59l7.78-7.78 2.81-2.81c.8-.78.8-2.07 0-2.86zM5.41 20L4 18.59l7.72-7.72 1.47 1.35L5.41 20z\"/>\n",
              "  </svg>\n",
              "      </button>\n",
              "      \n",
              "  <style>\n",
              "    .colab-df-container {\n",
              "      display:flex;\n",
              "      flex-wrap:wrap;\n",
              "      gap: 12px;\n",
              "    }\n",
              "\n",
              "    .colab-df-convert {\n",
              "      background-color: #E8F0FE;\n",
              "      border: none;\n",
              "      border-radius: 50%;\n",
              "      cursor: pointer;\n",
              "      display: none;\n",
              "      fill: #1967D2;\n",
              "      height: 32px;\n",
              "      padding: 0 0 0 0;\n",
              "      width: 32px;\n",
              "    }\n",
              "\n",
              "    .colab-df-convert:hover {\n",
              "      background-color: #E2EBFA;\n",
              "      box-shadow: 0px 1px 2px rgba(60, 64, 67, 0.3), 0px 1px 3px 1px rgba(60, 64, 67, 0.15);\n",
              "      fill: #174EA6;\n",
              "    }\n",
              "\n",
              "    [theme=dark] .colab-df-convert {\n",
              "      background-color: #3B4455;\n",
              "      fill: #D2E3FC;\n",
              "    }\n",
              "\n",
              "    [theme=dark] .colab-df-convert:hover {\n",
              "      background-color: #434B5C;\n",
              "      box-shadow: 0px 1px 3px 1px rgba(0, 0, 0, 0.15);\n",
              "      filter: drop-shadow(0px 1px 2px rgba(0, 0, 0, 0.3));\n",
              "      fill: #FFFFFF;\n",
              "    }\n",
              "  </style>\n",
              "\n",
              "      <script>\n",
              "        const buttonEl =\n",
              "          document.querySelector('#df-decebecd-9930-407d-bceb-c58786744b52 button.colab-df-convert');\n",
              "        buttonEl.style.display =\n",
              "          google.colab.kernel.accessAllowed ? 'block' : 'none';\n",
              "\n",
              "        async function convertToInteractive(key) {\n",
              "          const element = document.querySelector('#df-decebecd-9930-407d-bceb-c58786744b52');\n",
              "          const dataTable =\n",
              "            await google.colab.kernel.invokeFunction('convertToInteractive',\n",
              "                                                     [key], {});\n",
              "          if (!dataTable) return;\n",
              "\n",
              "          const docLinkHtml = 'Like what you see? Visit the ' +\n",
              "            '<a target=\"_blank\" href=https://colab.research.google.com/notebooks/data_table.ipynb>data table notebook</a>'\n",
              "            + ' to learn more about interactive tables.';\n",
              "          element.innerHTML = '';\n",
              "          dataTable['output_type'] = 'display_data';\n",
              "          await google.colab.output.renderOutput(dataTable, element);\n",
              "          const docLink = document.createElement('div');\n",
              "          docLink.innerHTML = docLinkHtml;\n",
              "          element.appendChild(docLink);\n",
              "        }\n",
              "      </script>\n",
              "    </div>\n",
              "  </div>\n",
              "  "
            ]
          },
          "metadata": {},
          "execution_count": 105
        }
      ]
    },
    {
      "cell_type": "markdown",
      "metadata": {
        "id": "w9hWE1DBEDAR"
      },
      "source": [
        "Variabile Taglia Impianto Potenziale"
      ]
    },
    {
      "cell_type": "markdown",
      "metadata": {
        "id": "3JuNc0wXDqLw"
      },
      "source": [
        "**Potenza da Installare** "
      ]
    },
    {
      "cell_type": "code",
      "metadata": {
        "id": "2AkBdfsx4keG",
        "colab": {
          "base_uri": "https://localhost:8080/"
        },
        "outputId": "81cfc83f-65ae-40b0-c62f-f3ad4aeb9252"
      },
      "source": [
        "df_finale['Taglia Impianto Potenziale'].sum()"
      ],
      "execution_count": null,
      "outputs": [
        {
          "output_type": "execute_result",
          "data": {
            "text/plain": [
              "-2268.640562666666"
            ]
          },
          "metadata": {},
          "execution_count": 106
        }
      ]
    },
    {
      "cell_type": "markdown",
      "metadata": {
        "id": "lMwDwGgzDxSc"
      },
      "source": [
        "Produzione degli impianti potenziali"
      ]
    },
    {
      "cell_type": "code",
      "metadata": {
        "id": "JLw15BpnD11m",
        "colab": {
          "base_uri": "https://localhost:8080/"
        },
        "outputId": "2c3fe42f-9945-4762-cd01-dc53279d2fcd"
      },
      "source": [
        "df_finale['Taglia Impianto Potenziale'].sum()*1250"
      ],
      "execution_count": null,
      "outputs": [
        {
          "output_type": "execute_result",
          "data": {
            "text/plain": [
              "-2835800.7033333327"
            ]
          },
          "metadata": {},
          "execution_count": 107
        }
      ]
    },
    {
      "cell_type": "markdown",
      "metadata": {
        "id": "rBBrlbKQGPpF"
      },
      "source": [
        "Energia Condivisa - Caso Impianto Plus"
      ]
    },
    {
      "cell_type": "markdown",
      "source": [
        "# 3) Specificare taglia impianto\n",
        "Se taglia_specifica = 0 allora la simulazione viene condotta identificando la massima taglia necessaria per soddisfare un fabbisogno pari al consumo di F1 + il 40% di tale valore per ogni utenza istanziata. \n",
        "In formula: consumo per fotovoltaico = F1*(1+7/5)\n",
        "Se viene specificata una taglia (in kWp) allora la simulazione viene condotta per la potenza specificata. \n",
        "\n",
        "---\n",
        "\n"
      ],
      "metadata": {
        "id": "vQHBmyFAI5y8"
      }
    },
    {
      "cell_type": "code",
      "source": [
        "#Se taglia_specifica = -1 => viene calcolata la taglia ideale per soddisfare il fabbisogno di F1 + il 25% dei consumi di F1\n",
        "taglia_specifica = -1"
      ],
      "metadata": {
        "id": "sKozOxOEI5Pe"
      },
      "execution_count": null,
      "outputs": []
    },
    {
      "cell_type": "markdown",
      "metadata": {
        "id": "MBsyFKVCM6wU"
      },
      "source": [
        "Inserisco riga produttore"
      ]
    },
    {
      "cell_type": "code",
      "metadata": {
        "id": "52_Y8GE8M9tz"
      },
      "source": [
        "if taglia_specifica > 0: \n",
        "  df_finale['Taglia Impianto Potenziale'] = 0\n",
        "  df_finale['Costo Impianto Potenziale'] = 0\n",
        "  produttore = {'Identificativo':'Produttore', 'Taglia Impianto':taglia_specifica, 'Somma Fascia 1':0, 'Consumo Per Fotovoltaico':0, 'Somma Immissione':taglia_specifica*1250, 'Costo Bolletta': 0, 'Differenza':taglia_specifica*1250, 'Taglia Impianto Potenziale':taglia_specifica, 'Costo Impianto Potenziale': taglia_specifica*1200, 'Percentuale Condivisa': 0 }\n",
        "  df_finale = df_finale.append(produttore, ignore_index=True)\n",
        "elif taglia_specifica  == -1: \n",
        "  produttore = {'Identificativo':'Produttore', 'Taglia Impianto':df_finale['Taglia Impianto Potenziale'].sum(), 'Somma Fascia 1':0, 'Consumo Per Fotovoltaico':0, 'Somma Immissione':df_finale['Taglia Impianto Potenziale'].sum()*1250, 'Costo Bolletta': 0, 'Differenza':df_finale['Taglia Impianto Potenziale'].sum()*1250, 'Taglia Impianto Potenziale':df_finale['Taglia Impianto Potenziale'].sum(), 'Costo Impianto Potenziale': df_finale['Taglia Impianto Potenziale'].sum()*1200, 'Percentuale Condivisa': 0 }\n",
        "  df_finale = df_finale.append(produttore, ignore_index=True)\n",
        "elif taglia_specifica == 0: \n",
        "  df_finale['Taglia Impianto Potenziale'] = 0\n",
        "  df_finale['Costo Impianto Potenziale'] = 0\n"
      ],
      "execution_count": null,
      "outputs": []
    },
    {
      "cell_type": "markdown",
      "metadata": {
        "id": "of-CBIzvESPI"
      },
      "source": [
        "Energia Condivisa - Caso Impianto Bilanciato\n"
      ]
    },
    {
      "cell_type": "code",
      "metadata": {
        "id": "OecEHEMiEfvL",
        "colab": {
          "base_uri": "https://localhost:8080/"
        },
        "outputId": "062c26f7-dff4-4673-b8a5-4cf02d8dbc02"
      },
      "source": [
        "if taglia_specifica == 0:\n",
        "  print('non ho specificato la taglia')\n",
        "  negativi = abs(df_finale[df_finale['Differenza'] <0]['Differenza'].sum()) #contributi in prelievo\n",
        "  positivi = df_finale['Somma Immissione'].sum()\n",
        "  condivisa = min(negativi, positivi)\n",
        "  print('positivi vale:'+ str(positivi))\n",
        "  print('negativi vale: ' +str(negativi))\n",
        "\n",
        "else: \n",
        "  print('ho specificato la taglia')\n",
        "  negativi = abs(df_finale[df_finale['Differenza'] <0]['Differenza'].sum()) #contributi in prelievo\n",
        "  positivi = df_finale[(df_finale['Identificativo'] != 'Produttore') & (df_finale['Differenza'] > 0)]['Differenza'].sum() + df_finale[df_finale['Identificativo'] == 'Produttore']['Differenza'].sum() #contributi in immissione\n",
        "  condivisa = min(negativi, positivi)\n",
        "  print('positivi vale:'+ str(positivi))\n",
        "  print('negativi vale: ' +str(negativi))\n",
        "\n",
        "condivisa"
      ],
      "execution_count": null,
      "outputs": [
        {
          "output_type": "stream",
          "name": "stdout",
          "text": [
            "ho specificato la taglia\n",
            "positivi vale:134665.40000000037\n",
            "negativi vale: 2970466.1033333326\n"
          ]
        },
        {
          "output_type": "execute_result",
          "data": {
            "text/plain": [
              "134665.40000000037"
            ]
          },
          "metadata": {},
          "execution_count": 110
        }
      ]
    },
    {
      "cell_type": "code",
      "source": [
        "df_finale[df_finale['Differenza'] > 0]['Differenza'].sum()"
      ],
      "metadata": {
        "id": "7fGKGwk4SYWp",
        "colab": {
          "base_uri": "https://localhost:8080/"
        },
        "outputId": "ff938a0a-f575-4b8e-c0dc-61d12e7245d5"
      },
      "execution_count": null,
      "outputs": [
        {
          "output_type": "execute_result",
          "data": {
            "text/plain": [
              "2970466.103333333"
            ]
          },
          "metadata": {},
          "execution_count": 111
        }
      ]
    },
    {
      "cell_type": "code",
      "source": [
        "df_finale['Taglia Impianto Potenziale'].sum()*1250"
      ],
      "metadata": {
        "id": "g58hKL4fScBw",
        "colab": {
          "base_uri": "https://localhost:8080/"
        },
        "outputId": "37b16a80-c873-458e-fe3e-f879388fbe12"
      },
      "execution_count": null,
      "outputs": [
        {
          "output_type": "execute_result",
          "data": {
            "text/plain": [
              "-5671601.406666665"
            ]
          },
          "metadata": {},
          "execution_count": 112
        }
      ]
    },
    {
      "cell_type": "code",
      "source": [
        "print(negativi, positivi)"
      ],
      "metadata": {
        "id": "s5ObS9LEwMHh",
        "colab": {
          "base_uri": "https://localhost:8080/"
        },
        "outputId": "e83dcc9a-cce3-4984-dd24-460b0bfa9d62"
      },
      "execution_count": null,
      "outputs": [
        {
          "output_type": "stream",
          "name": "stdout",
          "text": [
            "2970466.1033333326 134665.40000000037\n"
          ]
        }
      ]
    },
    {
      "cell_type": "code",
      "source": [
        "df_finale['Categoria'] = df_finale.apply(lambda x: ('Consumer') if (x[\"Somma Immissione\"] == 0)  else ( 'Prosumer' if (x['Somma Immissione'] != 0 and x['Consumo Per Fotovoltaico'] != 0)  else 'Produttore') , axis =1) \n",
        "numero_produttori = len(df_finale[df_finale['Categoria'] == 'Produttore'])\n",
        "numero_prosumer = len(df_finale[df_finale['Categoria'] == 'Prosumer'])\n",
        "numero_partecipanti = df_finale['Identificativo'].count() - len(df_finale[df_finale['Identificativo'] == 'Idroelettrico']) # Partecipanti sono quelli che partecipano anche ai costi, l'idroelettrico non partecipa ai costi\n",
        "numero_membri = df_finale['Identificativo'].count() #Membri sono tutti quelli che afferiscono alla CER\n",
        "numero_consumer = numero_partecipanti - numero_prosumer - numero_produttori\n",
        "\n"
      ],
      "metadata": {
        "id": "9TMbMrK-cand"
      },
      "execution_count": null,
      "outputs": []
    },
    {
      "cell_type": "code",
      "source": [
        "numero_partecipanti"
      ],
      "metadata": {
        "id": "wqftdZh5nDs0",
        "colab": {
          "base_uri": "https://localhost:8080/"
        },
        "outputId": "ab7ad07c-3aa2-473e-dffd-947c84e924a5"
      },
      "execution_count": null,
      "outputs": [
        {
          "output_type": "execute_result",
          "data": {
            "text/plain": [
              "3"
            ]
          },
          "metadata": {},
          "execution_count": 115
        }
      ]
    },
    {
      "cell_type": "code",
      "source": [
        "numero_membri"
      ],
      "metadata": {
        "id": "S7C0eXQvg2tK",
        "colab": {
          "base_uri": "https://localhost:8080/"
        },
        "outputId": "574726c7-6282-473d-9db8-e3a0d36ef1a7"
      },
      "execution_count": null,
      "outputs": [
        {
          "output_type": "execute_result",
          "data": {
            "text/plain": [
              "4"
            ]
          },
          "metadata": {},
          "execution_count": 116
        }
      ]
    },
    {
      "cell_type": "code",
      "source": [
        "numero_produttori"
      ],
      "metadata": {
        "id": "2sFGkhcHrPYi",
        "colab": {
          "base_uri": "https://localhost:8080/"
        },
        "outputId": "55ea7c4d-aec5-4065-e1c6-a8a708949829"
      },
      "execution_count": null,
      "outputs": [
        {
          "output_type": "execute_result",
          "data": {
            "text/plain": [
              "2"
            ]
          },
          "metadata": {},
          "execution_count": 117
        }
      ]
    },
    {
      "cell_type": "code",
      "source": [
        "numero_prosumer"
      ],
      "metadata": {
        "id": "f3i2_W99fRzk",
        "colab": {
          "base_uri": "https://localhost:8080/"
        },
        "outputId": "46c6fb2e-9254-4bba-f306-15df21c98e26"
      },
      "execution_count": null,
      "outputs": [
        {
          "output_type": "execute_result",
          "data": {
            "text/plain": [
              "2"
            ]
          },
          "metadata": {},
          "execution_count": 118
        }
      ]
    },
    {
      "cell_type": "code",
      "metadata": {
        "id": "ZgOE1k6vIYYc"
      },
      "source": [
        "#Partecipazione in prelievo (tutti gli utenti)\n",
        "tot_prelievo = abs(df_finale[df_finale['Differenza']<0]['Differenza'].sum())\n",
        "df_finale['Percentuale Condivisa'] = df_finale.apply(lambda x: (abs(x['Differenza']) / tot_prelievo ) if (x[\"Differenza\"] < 0)  else (0) , axis =1) \n",
        "#df_finale['Percentuale Condivisa'] = df_finale.apply(lambda x: (abs(x['Differenza'])/condivisa) if (x[\"Differenza\"] < 0)  else (0) , axis =1) \n"
      ],
      "execution_count": null,
      "outputs": []
    },
    {
      "cell_type": "code",
      "source": [
        "df_finale"
      ],
      "metadata": {
        "id": "lIpB9QPYWvjM",
        "colab": {
          "base_uri": "https://localhost:8080/",
          "height": 273
        },
        "outputId": "c728018b-1f4c-4539-e63a-e15455af0a0d"
      },
      "execution_count": null,
      "outputs": [
        {
          "output_type": "execute_result",
          "data": {
            "text/plain": [
              "  Identificativo  Potenza Da Installare  Somma Fascia 1  Somma Fascia 2  \\\n",
              "0              A                   16.0       1.157e+05        6.27e+04   \n",
              "1              B                  2e+03       9.322e+04       9.829e+04   \n",
              "2  Idroelettrico                    0.0             0.0             0.0   \n",
              "3     Produttore                    NaN             0.0             NaN   \n",
              "\n",
              "   Somma Immissione  Somma Autoconsumo  Somma Produzione Aggiuntiva  \\\n",
              "0         4.129e+03                0.0                    2.507e+04   \n",
              "1         2.968e+06          1.129e+05                    3.081e+06   \n",
              "2         4.129e+03                0.0                          0.0   \n",
              "3        -2.836e+06                NaN                          NaN   \n",
              "\n",
              "   Consumo Per Fotovoltaico  Differenza  Taglia Impianto Potenziale  \\\n",
              "0                 1.388e+05  -1.347e+05                       107.7   \n",
              "1                -1.014e+03   2.969e+06                  -2.375e+03   \n",
              "2                       0.0   1.376e+03                      -1.101   \n",
              "3                       0.0  -2.836e+06                  -2.269e+03   \n",
              "\n",
              "   Costo Impianto Potenziale  Costo Potenza da Installare  Costo Bolletta  \\\n",
              "0                  1.293e+05                     1.92e+04       1.041e+05   \n",
              "1                        0.0                      2.4e+06       8.007e+03   \n",
              "2                        0.0                          0.0       1.041e+05   \n",
              "3                 -2.722e+06                          NaN             0.0   \n",
              "\n",
              "   Percentuale Condivisa  Taglia Impianto   Categoria  \n",
              "0                0.04533              NaN    Prosumer  \n",
              "1                    0.0              NaN    Prosumer  \n",
              "2                    0.0              NaN  Produttore  \n",
              "3                 0.9547       -2.269e+03  Produttore  "
            ],
            "text/html": [
              "\n",
              "  <div id=\"df-3a767ec0-2c47-455a-9d32-6d813453fc7f\">\n",
              "    <div class=\"colab-df-container\">\n",
              "      <div>\n",
              "<style scoped>\n",
              "    .dataframe tbody tr th:only-of-type {\n",
              "        vertical-align: middle;\n",
              "    }\n",
              "\n",
              "    .dataframe tbody tr th {\n",
              "        vertical-align: top;\n",
              "    }\n",
              "\n",
              "    .dataframe thead th {\n",
              "        text-align: right;\n",
              "    }\n",
              "</style>\n",
              "<table border=\"1\" class=\"dataframe\">\n",
              "  <thead>\n",
              "    <tr style=\"text-align: right;\">\n",
              "      <th></th>\n",
              "      <th>Identificativo</th>\n",
              "      <th>Potenza Da Installare</th>\n",
              "      <th>Somma Fascia 1</th>\n",
              "      <th>Somma Fascia 2</th>\n",
              "      <th>Somma Immissione</th>\n",
              "      <th>Somma Autoconsumo</th>\n",
              "      <th>Somma Produzione Aggiuntiva</th>\n",
              "      <th>Consumo Per Fotovoltaico</th>\n",
              "      <th>Differenza</th>\n",
              "      <th>Taglia Impianto Potenziale</th>\n",
              "      <th>Costo Impianto Potenziale</th>\n",
              "      <th>Costo Potenza da Installare</th>\n",
              "      <th>Costo Bolletta</th>\n",
              "      <th>Percentuale Condivisa</th>\n",
              "      <th>Taglia Impianto</th>\n",
              "      <th>Categoria</th>\n",
              "    </tr>\n",
              "  </thead>\n",
              "  <tbody>\n",
              "    <tr>\n",
              "      <th>0</th>\n",
              "      <td>A</td>\n",
              "      <td>16.0</td>\n",
              "      <td>1.157e+05</td>\n",
              "      <td>6.27e+04</td>\n",
              "      <td>4.129e+03</td>\n",
              "      <td>0.0</td>\n",
              "      <td>2.507e+04</td>\n",
              "      <td>1.388e+05</td>\n",
              "      <td>-1.347e+05</td>\n",
              "      <td>107.7</td>\n",
              "      <td>1.293e+05</td>\n",
              "      <td>1.92e+04</td>\n",
              "      <td>1.041e+05</td>\n",
              "      <td>0.04533</td>\n",
              "      <td>NaN</td>\n",
              "      <td>Prosumer</td>\n",
              "    </tr>\n",
              "    <tr>\n",
              "      <th>1</th>\n",
              "      <td>B</td>\n",
              "      <td>2e+03</td>\n",
              "      <td>9.322e+04</td>\n",
              "      <td>9.829e+04</td>\n",
              "      <td>2.968e+06</td>\n",
              "      <td>1.129e+05</td>\n",
              "      <td>3.081e+06</td>\n",
              "      <td>-1.014e+03</td>\n",
              "      <td>2.969e+06</td>\n",
              "      <td>-2.375e+03</td>\n",
              "      <td>0.0</td>\n",
              "      <td>2.4e+06</td>\n",
              "      <td>8.007e+03</td>\n",
              "      <td>0.0</td>\n",
              "      <td>NaN</td>\n",
              "      <td>Prosumer</td>\n",
              "    </tr>\n",
              "    <tr>\n",
              "      <th>2</th>\n",
              "      <td>Idroelettrico</td>\n",
              "      <td>0.0</td>\n",
              "      <td>0.0</td>\n",
              "      <td>0.0</td>\n",
              "      <td>4.129e+03</td>\n",
              "      <td>0.0</td>\n",
              "      <td>0.0</td>\n",
              "      <td>0.0</td>\n",
              "      <td>1.376e+03</td>\n",
              "      <td>-1.101</td>\n",
              "      <td>0.0</td>\n",
              "      <td>0.0</td>\n",
              "      <td>1.041e+05</td>\n",
              "      <td>0.0</td>\n",
              "      <td>NaN</td>\n",
              "      <td>Produttore</td>\n",
              "    </tr>\n",
              "    <tr>\n",
              "      <th>3</th>\n",
              "      <td>Produttore</td>\n",
              "      <td>NaN</td>\n",
              "      <td>0.0</td>\n",
              "      <td>NaN</td>\n",
              "      <td>-2.836e+06</td>\n",
              "      <td>NaN</td>\n",
              "      <td>NaN</td>\n",
              "      <td>0.0</td>\n",
              "      <td>-2.836e+06</td>\n",
              "      <td>-2.269e+03</td>\n",
              "      <td>-2.722e+06</td>\n",
              "      <td>NaN</td>\n",
              "      <td>0.0</td>\n",
              "      <td>0.9547</td>\n",
              "      <td>-2.269e+03</td>\n",
              "      <td>Produttore</td>\n",
              "    </tr>\n",
              "  </tbody>\n",
              "</table>\n",
              "</div>\n",
              "      <button class=\"colab-df-convert\" onclick=\"convertToInteractive('df-3a767ec0-2c47-455a-9d32-6d813453fc7f')\"\n",
              "              title=\"Convert this dataframe to an interactive table.\"\n",
              "              style=\"display:none;\">\n",
              "        \n",
              "  <svg xmlns=\"http://www.w3.org/2000/svg\" height=\"24px\"viewBox=\"0 0 24 24\"\n",
              "       width=\"24px\">\n",
              "    <path d=\"M0 0h24v24H0V0z\" fill=\"none\"/>\n",
              "    <path d=\"M18.56 5.44l.94 2.06.94-2.06 2.06-.94-2.06-.94-.94-2.06-.94 2.06-2.06.94zm-11 1L8.5 8.5l.94-2.06 2.06-.94-2.06-.94L8.5 2.5l-.94 2.06-2.06.94zm10 10l.94 2.06.94-2.06 2.06-.94-2.06-.94-.94-2.06-.94 2.06-2.06.94z\"/><path d=\"M17.41 7.96l-1.37-1.37c-.4-.4-.92-.59-1.43-.59-.52 0-1.04.2-1.43.59L10.3 9.45l-7.72 7.72c-.78.78-.78 2.05 0 2.83L4 21.41c.39.39.9.59 1.41.59.51 0 1.02-.2 1.41-.59l7.78-7.78 2.81-2.81c.8-.78.8-2.07 0-2.86zM5.41 20L4 18.59l7.72-7.72 1.47 1.35L5.41 20z\"/>\n",
              "  </svg>\n",
              "      </button>\n",
              "      \n",
              "  <style>\n",
              "    .colab-df-container {\n",
              "      display:flex;\n",
              "      flex-wrap:wrap;\n",
              "      gap: 12px;\n",
              "    }\n",
              "\n",
              "    .colab-df-convert {\n",
              "      background-color: #E8F0FE;\n",
              "      border: none;\n",
              "      border-radius: 50%;\n",
              "      cursor: pointer;\n",
              "      display: none;\n",
              "      fill: #1967D2;\n",
              "      height: 32px;\n",
              "      padding: 0 0 0 0;\n",
              "      width: 32px;\n",
              "    }\n",
              "\n",
              "    .colab-df-convert:hover {\n",
              "      background-color: #E2EBFA;\n",
              "      box-shadow: 0px 1px 2px rgba(60, 64, 67, 0.3), 0px 1px 3px 1px rgba(60, 64, 67, 0.15);\n",
              "      fill: #174EA6;\n",
              "    }\n",
              "\n",
              "    [theme=dark] .colab-df-convert {\n",
              "      background-color: #3B4455;\n",
              "      fill: #D2E3FC;\n",
              "    }\n",
              "\n",
              "    [theme=dark] .colab-df-convert:hover {\n",
              "      background-color: #434B5C;\n",
              "      box-shadow: 0px 1px 3px 1px rgba(0, 0, 0, 0.15);\n",
              "      filter: drop-shadow(0px 1px 2px rgba(0, 0, 0, 0.3));\n",
              "      fill: #FFFFFF;\n",
              "    }\n",
              "  </style>\n",
              "\n",
              "      <script>\n",
              "        const buttonEl =\n",
              "          document.querySelector('#df-3a767ec0-2c47-455a-9d32-6d813453fc7f button.colab-df-convert');\n",
              "        buttonEl.style.display =\n",
              "          google.colab.kernel.accessAllowed ? 'block' : 'none';\n",
              "\n",
              "        async function convertToInteractive(key) {\n",
              "          const element = document.querySelector('#df-3a767ec0-2c47-455a-9d32-6d813453fc7f');\n",
              "          const dataTable =\n",
              "            await google.colab.kernel.invokeFunction('convertToInteractive',\n",
              "                                                     [key], {});\n",
              "          if (!dataTable) return;\n",
              "\n",
              "          const docLinkHtml = 'Like what you see? Visit the ' +\n",
              "            '<a target=\"_blank\" href=https://colab.research.google.com/notebooks/data_table.ipynb>data table notebook</a>'\n",
              "            + ' to learn more about interactive tables.';\n",
              "          element.innerHTML = '';\n",
              "          dataTable['output_type'] = 'display_data';\n",
              "          await google.colab.output.renderOutput(dataTable, element);\n",
              "          const docLink = document.createElement('div');\n",
              "          docLink.innerHTML = docLinkHtml;\n",
              "          element.appendChild(docLink);\n",
              "        }\n",
              "      </script>\n",
              "    </div>\n",
              "  </div>\n",
              "  "
            ]
          },
          "metadata": {},
          "execution_count": 120
        }
      ]
    },
    {
      "cell_type": "code",
      "metadata": {
        "id": "_FbjlRwW0fEc"
      },
      "source": [
        "#Partecipazione in immissione produttore & prosumer  df_finale[(df_finale['Identificativo'] != 'Idroelettrico') & (df_finale['Somma Immissione'] > 0)]\n",
        "#df_finale[df_finale['Somma Immissione'] > 0]['Somma Immissione'].sum()\n",
        "tot_immessa = df_finale[(df_finale['Identificativo'] != 'Idroelettrico') & (df_finale['Somma Immissione'] > 0)]['Somma Immissione'].sum()    # + df_finale[(df_finale['Differenza']>0) & (df_finale['Categoria'] != 'Produttore')]['Differenza'].sum()  #Immetto ciò che imposto nell'excel + eventule surplus della produzione nel momento in cui ho differenza > 0\n",
        "df_finale['Percentuale Immessa'] = df_finale.apply(lambda x: (abs(x['Somma Immissione'])/tot_immessa) if (x[\"Somma Immissione\"] > 0 and x['Identificativo'] != 'Idroelettrico')  else (0) , axis =1)"
      ],
      "execution_count": null,
      "outputs": []
    },
    {
      "cell_type": "code",
      "source": [
        "tot_immessa"
      ],
      "metadata": {
        "id": "cIENu6D-ZmLZ",
        "colab": {
          "base_uri": "https://localhost:8080/"
        },
        "outputId": "5bc28cbd-80dd-4540-fa65-967e6e942fbb"
      },
      "execution_count": null,
      "outputs": [
        {
          "output_type": "execute_result",
          "data": {
            "text/plain": [
              "2972204.53"
            ]
          },
          "metadata": {},
          "execution_count": 122
        }
      ]
    },
    {
      "cell_type": "code",
      "source": [
        "#Partecipazione in immissione prosumer\n",
        "tot_immessa_prosumer = df_finale[df_finale['Categoria'] == 'Prosumer']['Somma Immissione'].sum()\n",
        "df_finale['Percentuale Immessa Prosumer'] = df_finale.apply(lambda x: (x['Somma Immissione']/tot_immessa_prosumer) if (x[\"Categoria\"] == 'Prosumer')  else (0) , axis =1)"
      ],
      "metadata": {
        "id": "nMAWVddFXZsL"
      },
      "execution_count": null,
      "outputs": []
    },
    {
      "cell_type": "code",
      "source": [
        "df_finale\n",
        "df_finale.fillna(0)"
      ],
      "metadata": {
        "id": "MKSYMfVReDDV",
        "colab": {
          "base_uri": "https://localhost:8080/",
          "height": 273
        },
        "outputId": "77173334-c292-4aa1-ad7f-a6926902b4f4"
      },
      "execution_count": null,
      "outputs": [
        {
          "output_type": "execute_result",
          "data": {
            "text/plain": [
              "  Identificativo  Potenza Da Installare  Somma Fascia 1  Somma Fascia 2  \\\n",
              "0              A                   16.0       1.157e+05        6.27e+04   \n",
              "1              B                  2e+03       9.322e+04       9.829e+04   \n",
              "2  Idroelettrico                    0.0             0.0             0.0   \n",
              "3     Produttore                    0.0             0.0             0.0   \n",
              "\n",
              "   Somma Immissione  Somma Autoconsumo  Somma Produzione Aggiuntiva  \\\n",
              "0         4.129e+03                0.0                    2.507e+04   \n",
              "1         2.968e+06          1.129e+05                    3.081e+06   \n",
              "2         4.129e+03                0.0                          0.0   \n",
              "3        -2.836e+06                0.0                          0.0   \n",
              "\n",
              "   Consumo Per Fotovoltaico  Differenza  Taglia Impianto Potenziale  \\\n",
              "0                 1.388e+05  -1.347e+05                       107.7   \n",
              "1                -1.014e+03   2.969e+06                  -2.375e+03   \n",
              "2                       0.0   1.376e+03                      -1.101   \n",
              "3                       0.0  -2.836e+06                  -2.269e+03   \n",
              "\n",
              "   Costo Impianto Potenziale  Costo Potenza da Installare  Costo Bolletta  \\\n",
              "0                  1.293e+05                     1.92e+04       1.041e+05   \n",
              "1                        0.0                      2.4e+06       8.007e+03   \n",
              "2                        0.0                          0.0       1.041e+05   \n",
              "3                 -2.722e+06                          0.0             0.0   \n",
              "\n",
              "   Percentuale Condivisa  Taglia Impianto   Categoria  Percentuale Immessa  \\\n",
              "0                0.04533              0.0    Prosumer             0.001389   \n",
              "1                    0.0              0.0    Prosumer               0.9986   \n",
              "2                    0.0              0.0  Produttore                  0.0   \n",
              "3                 0.9547       -2.269e+03  Produttore                  0.0   \n",
              "\n",
              "   Percentuale Immessa Prosumer  \n",
              "0                      0.001389  \n",
              "1                        0.9986  \n",
              "2                           0.0  \n",
              "3                           0.0  "
            ],
            "text/html": [
              "\n",
              "  <div id=\"df-b41f42dd-36d1-4e84-bbc1-1bb9f2e81d90\">\n",
              "    <div class=\"colab-df-container\">\n",
              "      <div>\n",
              "<style scoped>\n",
              "    .dataframe tbody tr th:only-of-type {\n",
              "        vertical-align: middle;\n",
              "    }\n",
              "\n",
              "    .dataframe tbody tr th {\n",
              "        vertical-align: top;\n",
              "    }\n",
              "\n",
              "    .dataframe thead th {\n",
              "        text-align: right;\n",
              "    }\n",
              "</style>\n",
              "<table border=\"1\" class=\"dataframe\">\n",
              "  <thead>\n",
              "    <tr style=\"text-align: right;\">\n",
              "      <th></th>\n",
              "      <th>Identificativo</th>\n",
              "      <th>Potenza Da Installare</th>\n",
              "      <th>Somma Fascia 1</th>\n",
              "      <th>Somma Fascia 2</th>\n",
              "      <th>Somma Immissione</th>\n",
              "      <th>Somma Autoconsumo</th>\n",
              "      <th>Somma Produzione Aggiuntiva</th>\n",
              "      <th>Consumo Per Fotovoltaico</th>\n",
              "      <th>Differenza</th>\n",
              "      <th>Taglia Impianto Potenziale</th>\n",
              "      <th>Costo Impianto Potenziale</th>\n",
              "      <th>Costo Potenza da Installare</th>\n",
              "      <th>Costo Bolletta</th>\n",
              "      <th>Percentuale Condivisa</th>\n",
              "      <th>Taglia Impianto</th>\n",
              "      <th>Categoria</th>\n",
              "      <th>Percentuale Immessa</th>\n",
              "      <th>Percentuale Immessa Prosumer</th>\n",
              "    </tr>\n",
              "  </thead>\n",
              "  <tbody>\n",
              "    <tr>\n",
              "      <th>0</th>\n",
              "      <td>A</td>\n",
              "      <td>16.0</td>\n",
              "      <td>1.157e+05</td>\n",
              "      <td>6.27e+04</td>\n",
              "      <td>4.129e+03</td>\n",
              "      <td>0.0</td>\n",
              "      <td>2.507e+04</td>\n",
              "      <td>1.388e+05</td>\n",
              "      <td>-1.347e+05</td>\n",
              "      <td>107.7</td>\n",
              "      <td>1.293e+05</td>\n",
              "      <td>1.92e+04</td>\n",
              "      <td>1.041e+05</td>\n",
              "      <td>0.04533</td>\n",
              "      <td>0.0</td>\n",
              "      <td>Prosumer</td>\n",
              "      <td>0.001389</td>\n",
              "      <td>0.001389</td>\n",
              "    </tr>\n",
              "    <tr>\n",
              "      <th>1</th>\n",
              "      <td>B</td>\n",
              "      <td>2e+03</td>\n",
              "      <td>9.322e+04</td>\n",
              "      <td>9.829e+04</td>\n",
              "      <td>2.968e+06</td>\n",
              "      <td>1.129e+05</td>\n",
              "      <td>3.081e+06</td>\n",
              "      <td>-1.014e+03</td>\n",
              "      <td>2.969e+06</td>\n",
              "      <td>-2.375e+03</td>\n",
              "      <td>0.0</td>\n",
              "      <td>2.4e+06</td>\n",
              "      <td>8.007e+03</td>\n",
              "      <td>0.0</td>\n",
              "      <td>0.0</td>\n",
              "      <td>Prosumer</td>\n",
              "      <td>0.9986</td>\n",
              "      <td>0.9986</td>\n",
              "    </tr>\n",
              "    <tr>\n",
              "      <th>2</th>\n",
              "      <td>Idroelettrico</td>\n",
              "      <td>0.0</td>\n",
              "      <td>0.0</td>\n",
              "      <td>0.0</td>\n",
              "      <td>4.129e+03</td>\n",
              "      <td>0.0</td>\n",
              "      <td>0.0</td>\n",
              "      <td>0.0</td>\n",
              "      <td>1.376e+03</td>\n",
              "      <td>-1.101</td>\n",
              "      <td>0.0</td>\n",
              "      <td>0.0</td>\n",
              "      <td>1.041e+05</td>\n",
              "      <td>0.0</td>\n",
              "      <td>0.0</td>\n",
              "      <td>Produttore</td>\n",
              "      <td>0.0</td>\n",
              "      <td>0.0</td>\n",
              "    </tr>\n",
              "    <tr>\n",
              "      <th>3</th>\n",
              "      <td>Produttore</td>\n",
              "      <td>0.0</td>\n",
              "      <td>0.0</td>\n",
              "      <td>0.0</td>\n",
              "      <td>-2.836e+06</td>\n",
              "      <td>0.0</td>\n",
              "      <td>0.0</td>\n",
              "      <td>0.0</td>\n",
              "      <td>-2.836e+06</td>\n",
              "      <td>-2.269e+03</td>\n",
              "      <td>-2.722e+06</td>\n",
              "      <td>0.0</td>\n",
              "      <td>0.0</td>\n",
              "      <td>0.9547</td>\n",
              "      <td>-2.269e+03</td>\n",
              "      <td>Produttore</td>\n",
              "      <td>0.0</td>\n",
              "      <td>0.0</td>\n",
              "    </tr>\n",
              "  </tbody>\n",
              "</table>\n",
              "</div>\n",
              "      <button class=\"colab-df-convert\" onclick=\"convertToInteractive('df-b41f42dd-36d1-4e84-bbc1-1bb9f2e81d90')\"\n",
              "              title=\"Convert this dataframe to an interactive table.\"\n",
              "              style=\"display:none;\">\n",
              "        \n",
              "  <svg xmlns=\"http://www.w3.org/2000/svg\" height=\"24px\"viewBox=\"0 0 24 24\"\n",
              "       width=\"24px\">\n",
              "    <path d=\"M0 0h24v24H0V0z\" fill=\"none\"/>\n",
              "    <path d=\"M18.56 5.44l.94 2.06.94-2.06 2.06-.94-2.06-.94-.94-2.06-.94 2.06-2.06.94zm-11 1L8.5 8.5l.94-2.06 2.06-.94-2.06-.94L8.5 2.5l-.94 2.06-2.06.94zm10 10l.94 2.06.94-2.06 2.06-.94-2.06-.94-.94-2.06-.94 2.06-2.06.94z\"/><path d=\"M17.41 7.96l-1.37-1.37c-.4-.4-.92-.59-1.43-.59-.52 0-1.04.2-1.43.59L10.3 9.45l-7.72 7.72c-.78.78-.78 2.05 0 2.83L4 21.41c.39.39.9.59 1.41.59.51 0 1.02-.2 1.41-.59l7.78-7.78 2.81-2.81c.8-.78.8-2.07 0-2.86zM5.41 20L4 18.59l7.72-7.72 1.47 1.35L5.41 20z\"/>\n",
              "  </svg>\n",
              "      </button>\n",
              "      \n",
              "  <style>\n",
              "    .colab-df-container {\n",
              "      display:flex;\n",
              "      flex-wrap:wrap;\n",
              "      gap: 12px;\n",
              "    }\n",
              "\n",
              "    .colab-df-convert {\n",
              "      background-color: #E8F0FE;\n",
              "      border: none;\n",
              "      border-radius: 50%;\n",
              "      cursor: pointer;\n",
              "      display: none;\n",
              "      fill: #1967D2;\n",
              "      height: 32px;\n",
              "      padding: 0 0 0 0;\n",
              "      width: 32px;\n",
              "    }\n",
              "\n",
              "    .colab-df-convert:hover {\n",
              "      background-color: #E2EBFA;\n",
              "      box-shadow: 0px 1px 2px rgba(60, 64, 67, 0.3), 0px 1px 3px 1px rgba(60, 64, 67, 0.15);\n",
              "      fill: #174EA6;\n",
              "    }\n",
              "\n",
              "    [theme=dark] .colab-df-convert {\n",
              "      background-color: #3B4455;\n",
              "      fill: #D2E3FC;\n",
              "    }\n",
              "\n",
              "    [theme=dark] .colab-df-convert:hover {\n",
              "      background-color: #434B5C;\n",
              "      box-shadow: 0px 1px 3px 1px rgba(0, 0, 0, 0.15);\n",
              "      filter: drop-shadow(0px 1px 2px rgba(0, 0, 0, 0.3));\n",
              "      fill: #FFFFFF;\n",
              "    }\n",
              "  </style>\n",
              "\n",
              "      <script>\n",
              "        const buttonEl =\n",
              "          document.querySelector('#df-b41f42dd-36d1-4e84-bbc1-1bb9f2e81d90 button.colab-df-convert');\n",
              "        buttonEl.style.display =\n",
              "          google.colab.kernel.accessAllowed ? 'block' : 'none';\n",
              "\n",
              "        async function convertToInteractive(key) {\n",
              "          const element = document.querySelector('#df-b41f42dd-36d1-4e84-bbc1-1bb9f2e81d90');\n",
              "          const dataTable =\n",
              "            await google.colab.kernel.invokeFunction('convertToInteractive',\n",
              "                                                     [key], {});\n",
              "          if (!dataTable) return;\n",
              "\n",
              "          const docLinkHtml = 'Like what you see? Visit the ' +\n",
              "            '<a target=\"_blank\" href=https://colab.research.google.com/notebooks/data_table.ipynb>data table notebook</a>'\n",
              "            + ' to learn more about interactive tables.';\n",
              "          element.innerHTML = '';\n",
              "          dataTable['output_type'] = 'display_data';\n",
              "          await google.colab.output.renderOutput(dataTable, element);\n",
              "          const docLink = document.createElement('div');\n",
              "          docLink.innerHTML = docLinkHtml;\n",
              "          element.appendChild(docLink);\n",
              "        }\n",
              "      </script>\n",
              "    </div>\n",
              "  </div>\n",
              "  "
            ]
          },
          "metadata": {},
          "execution_count": 124
        }
      ]
    },
    {
      "cell_type": "markdown",
      "metadata": {
        "id": "yd--kD_RIVvX"
      },
      "source": [
        "Calcolo Partecipazione Condivisione"
      ]
    },
    {
      "cell_type": "code",
      "metadata": {
        "id": "ZmW9ghioI6RK",
        "colab": {
          "base_uri": "https://localhost:8080/"
        },
        "outputId": "5dbab83b-0b88-475f-ad8f-adb06049878d"
      },
      "source": [
        "Incentivo_Totale_Condivisione= condivisa*(incentivo_arera+incentivo_mise)\n",
        "Incentivo_Totale_Condivisione"
      ],
      "execution_count": null,
      "outputs": [
        {
          "output_type": "execute_result",
          "data": {
            "text/plain": [
              "16025.182600000044"
            ]
          },
          "metadata": {},
          "execution_count": 125
        }
      ]
    },
    {
      "cell_type": "markdown",
      "source": [
        "# 4) Ripartizione incentivo condivisione"
      ],
      "metadata": {
        "id": "gHfc1ZTDsT8z"
      }
    },
    {
      "cell_type": "code",
      "source": [
        "df_finale[df_finale['Identificativo'] == 'Idroelettrico']"
      ],
      "metadata": {
        "id": "ppGYW1FxbOG9",
        "colab": {
          "base_uri": "https://localhost:8080/",
          "height": 179
        },
        "outputId": "82d74aba-706f-4a89-e875-fbb5727bd484"
      },
      "execution_count": null,
      "outputs": [
        {
          "output_type": "execute_result",
          "data": {
            "text/plain": [
              "  Identificativo  Potenza Da Installare  Somma Fascia 1  Somma Fascia 2  \\\n",
              "2  Idroelettrico                    0.0             0.0             0.0   \n",
              "\n",
              "   Somma Immissione  Somma Autoconsumo  Somma Produzione Aggiuntiva  \\\n",
              "2         4.129e+03                0.0                          0.0   \n",
              "\n",
              "   Consumo Per Fotovoltaico  Differenza  Taglia Impianto Potenziale  \\\n",
              "2                       0.0   1.376e+03                      -1.101   \n",
              "\n",
              "   Costo Impianto Potenziale  Costo Potenza da Installare  Costo Bolletta  \\\n",
              "2                        0.0                          0.0       1.041e+05   \n",
              "\n",
              "   Percentuale Condivisa  Taglia Impianto   Categoria  Percentuale Immessa  \\\n",
              "2                    0.0              NaN  Produttore                  0.0   \n",
              "\n",
              "   Percentuale Immessa Prosumer  \n",
              "2                           0.0  "
            ],
            "text/html": [
              "\n",
              "  <div id=\"df-636bbcf6-5935-4030-a8b2-4532cdcd1d39\">\n",
              "    <div class=\"colab-df-container\">\n",
              "      <div>\n",
              "<style scoped>\n",
              "    .dataframe tbody tr th:only-of-type {\n",
              "        vertical-align: middle;\n",
              "    }\n",
              "\n",
              "    .dataframe tbody tr th {\n",
              "        vertical-align: top;\n",
              "    }\n",
              "\n",
              "    .dataframe thead th {\n",
              "        text-align: right;\n",
              "    }\n",
              "</style>\n",
              "<table border=\"1\" class=\"dataframe\">\n",
              "  <thead>\n",
              "    <tr style=\"text-align: right;\">\n",
              "      <th></th>\n",
              "      <th>Identificativo</th>\n",
              "      <th>Potenza Da Installare</th>\n",
              "      <th>Somma Fascia 1</th>\n",
              "      <th>Somma Fascia 2</th>\n",
              "      <th>Somma Immissione</th>\n",
              "      <th>Somma Autoconsumo</th>\n",
              "      <th>Somma Produzione Aggiuntiva</th>\n",
              "      <th>Consumo Per Fotovoltaico</th>\n",
              "      <th>Differenza</th>\n",
              "      <th>Taglia Impianto Potenziale</th>\n",
              "      <th>Costo Impianto Potenziale</th>\n",
              "      <th>Costo Potenza da Installare</th>\n",
              "      <th>Costo Bolletta</th>\n",
              "      <th>Percentuale Condivisa</th>\n",
              "      <th>Taglia Impianto</th>\n",
              "      <th>Categoria</th>\n",
              "      <th>Percentuale Immessa</th>\n",
              "      <th>Percentuale Immessa Prosumer</th>\n",
              "    </tr>\n",
              "  </thead>\n",
              "  <tbody>\n",
              "    <tr>\n",
              "      <th>2</th>\n",
              "      <td>Idroelettrico</td>\n",
              "      <td>0.0</td>\n",
              "      <td>0.0</td>\n",
              "      <td>0.0</td>\n",
              "      <td>4.129e+03</td>\n",
              "      <td>0.0</td>\n",
              "      <td>0.0</td>\n",
              "      <td>0.0</td>\n",
              "      <td>1.376e+03</td>\n",
              "      <td>-1.101</td>\n",
              "      <td>0.0</td>\n",
              "      <td>0.0</td>\n",
              "      <td>1.041e+05</td>\n",
              "      <td>0.0</td>\n",
              "      <td>NaN</td>\n",
              "      <td>Produttore</td>\n",
              "      <td>0.0</td>\n",
              "      <td>0.0</td>\n",
              "    </tr>\n",
              "  </tbody>\n",
              "</table>\n",
              "</div>\n",
              "      <button class=\"colab-df-convert\" onclick=\"convertToInteractive('df-636bbcf6-5935-4030-a8b2-4532cdcd1d39')\"\n",
              "              title=\"Convert this dataframe to an interactive table.\"\n",
              "              style=\"display:none;\">\n",
              "        \n",
              "  <svg xmlns=\"http://www.w3.org/2000/svg\" height=\"24px\"viewBox=\"0 0 24 24\"\n",
              "       width=\"24px\">\n",
              "    <path d=\"M0 0h24v24H0V0z\" fill=\"none\"/>\n",
              "    <path d=\"M18.56 5.44l.94 2.06.94-2.06 2.06-.94-2.06-.94-.94-2.06-.94 2.06-2.06.94zm-11 1L8.5 8.5l.94-2.06 2.06-.94-2.06-.94L8.5 2.5l-.94 2.06-2.06.94zm10 10l.94 2.06.94-2.06 2.06-.94-2.06-.94-.94-2.06-.94 2.06-2.06.94z\"/><path d=\"M17.41 7.96l-1.37-1.37c-.4-.4-.92-.59-1.43-.59-.52 0-1.04.2-1.43.59L10.3 9.45l-7.72 7.72c-.78.78-.78 2.05 0 2.83L4 21.41c.39.39.9.59 1.41.59.51 0 1.02-.2 1.41-.59l7.78-7.78 2.81-2.81c.8-.78.8-2.07 0-2.86zM5.41 20L4 18.59l7.72-7.72 1.47 1.35L5.41 20z\"/>\n",
              "  </svg>\n",
              "      </button>\n",
              "      \n",
              "  <style>\n",
              "    .colab-df-container {\n",
              "      display:flex;\n",
              "      flex-wrap:wrap;\n",
              "      gap: 12px;\n",
              "    }\n",
              "\n",
              "    .colab-df-convert {\n",
              "      background-color: #E8F0FE;\n",
              "      border: none;\n",
              "      border-radius: 50%;\n",
              "      cursor: pointer;\n",
              "      display: none;\n",
              "      fill: #1967D2;\n",
              "      height: 32px;\n",
              "      padding: 0 0 0 0;\n",
              "      width: 32px;\n",
              "    }\n",
              "\n",
              "    .colab-df-convert:hover {\n",
              "      background-color: #E2EBFA;\n",
              "      box-shadow: 0px 1px 2px rgba(60, 64, 67, 0.3), 0px 1px 3px 1px rgba(60, 64, 67, 0.15);\n",
              "      fill: #174EA6;\n",
              "    }\n",
              "\n",
              "    [theme=dark] .colab-df-convert {\n",
              "      background-color: #3B4455;\n",
              "      fill: #D2E3FC;\n",
              "    }\n",
              "\n",
              "    [theme=dark] .colab-df-convert:hover {\n",
              "      background-color: #434B5C;\n",
              "      box-shadow: 0px 1px 3px 1px rgba(0, 0, 0, 0.15);\n",
              "      filter: drop-shadow(0px 1px 2px rgba(0, 0, 0, 0.3));\n",
              "      fill: #FFFFFF;\n",
              "    }\n",
              "  </style>\n",
              "\n",
              "      <script>\n",
              "        const buttonEl =\n",
              "          document.querySelector('#df-636bbcf6-5935-4030-a8b2-4532cdcd1d39 button.colab-df-convert');\n",
              "        buttonEl.style.display =\n",
              "          google.colab.kernel.accessAllowed ? 'block' : 'none';\n",
              "\n",
              "        async function convertToInteractive(key) {\n",
              "          const element = document.querySelector('#df-636bbcf6-5935-4030-a8b2-4532cdcd1d39');\n",
              "          const dataTable =\n",
              "            await google.colab.kernel.invokeFunction('convertToInteractive',\n",
              "                                                     [key], {});\n",
              "          if (!dataTable) return;\n",
              "\n",
              "          const docLinkHtml = 'Like what you see? Visit the ' +\n",
              "            '<a target=\"_blank\" href=https://colab.research.google.com/notebooks/data_table.ipynb>data table notebook</a>'\n",
              "            + ' to learn more about interactive tables.';\n",
              "          element.innerHTML = '';\n",
              "          dataTable['output_type'] = 'display_data';\n",
              "          await google.colab.output.renderOutput(dataTable, element);\n",
              "          const docLink = document.createElement('div');\n",
              "          docLink.innerHTML = docLinkHtml;\n",
              "          element.appendChild(docLink);\n",
              "        }\n",
              "      </script>\n",
              "    </div>\n",
              "  </div>\n",
              "  "
            ]
          },
          "metadata": {},
          "execution_count": 126
        }
      ]
    },
    {
      "cell_type": "code",
      "source": [
        "Incentivo_Totale_Condivisione"
      ],
      "metadata": {
        "id": "_EtZQ_iW2Eoz",
        "colab": {
          "base_uri": "https://localhost:8080/"
        },
        "outputId": "9d38314e-a929-43a3-f095-8e0154077109"
      },
      "execution_count": null,
      "outputs": [
        {
          "output_type": "execute_result",
          "data": {
            "text/plain": [
              "16025.182600000044"
            ]
          },
          "metadata": {},
          "execution_count": 127
        }
      ]
    },
    {
      "cell_type": "code",
      "metadata": {
        "id": "wFRiKvg2JE_W"
      },
      "source": [
        "Incentivo_Attribuibile = Incentivo_Totale_Condivisione\n",
        "#Calcolo quota idroelettrico\n",
        "if len(df_finale[df_finale['Identificativo'] == 'Idroelettrico']) > 0: #Se esiste un produttore idroelettrico aggiorna la quota attribuibile\n",
        "  Quota_Idro = inc_cond_idro * df_finale[df_finale['Identificativo'] == 'Idroelettrico']['Somma Immissione'].sum() ##1/3 dell'energia che immette viene remunerata a 70€/MWh\n",
        "  if(Quota_Idro > Incentivo_Totale_Condivisione): \n",
        "    print('ATTENZIONE LA QUOTA PER L\\'IDROELETTRICO SUPERA L\\'INCENTIVO TOTALE ALLA CONDIVISIONE')\n",
        "  Incentivo_Attribuibile = Incentivo_Attribuibile - Quota_Idro\n",
        "else: \n",
        "  Quota_Idro = 0\n",
        "\n",
        "######## ATTENZIONE: AD OGNI STEP LA SOMMA DEI DUE NUMERI DEVE ESSERE 1\n",
        "Incentivo_Attribuibile = 0.90*(Incentivo_Totale_Condivisione - Quota_Idro)\n",
        "Incentivo_Costi_Gestione = 0.10*Incentivo_Totale_Condivisione\n",
        "#########\n",
        "Quota_Fissa = (0.20*Incentivo_Attribuibile) #ATTENZIONE: QUESTA QUOTA E' DA DIVIDERE IN PARTI UGUALI FRA I MEMBRI DELLA COMUNITA'.\n",
        "Quota_Variabile = 0.80*Incentivo_Attribuibile\n",
        "#########\n",
        "Quota_Consumatori = 0.60*Quota_Variabile \n",
        "Quota_Immissione = 0.40*Quota_Variabile\n",
        "#########\n",
        "Quota_Produttore = 0.98*Quota_Immissione\n",
        "Quota_Prosumer = 0.02*Quota_Immissione\n",
        "######### GESTISCO ECCEZIONE IN CUI NON CI SONO PROSUMER PER NON PERDERE QUOTE DI INCENTIVO\n",
        "if(numero_prosumer == 0): \n",
        "  Quota_Produttore = 1*Quota_Immissione\n",
        "  Quota_Prosumer = 0*Quota_Immissione"
      ],
      "execution_count": null,
      "outputs": []
    },
    {
      "cell_type": "code",
      "metadata": {
        "id": "x_SM0u2CukAQ",
        "colab": {
          "base_uri": "https://localhost:8080/"
        },
        "outputId": "5b7a3eba-13eb-4db2-dc05-67af5385431c"
      },
      "source": [
        "print('Incentivo Totale Condivisione: '+str(Incentivo_Totale_Condivisione))\n",
        "print(f'Quota Idro: {Quota_Idro}')\n",
        "print(f'Incentivo Attribuibile: {Incentivo_Attribuibile}')\n",
        "print(f'Incentivo Costi di Gestione: {Incentivo_Costi_Gestione}')\n",
        "print(f'Quota Fissa: {Quota_Fissa}')\n",
        "print(f'Quota Variabile: {Quota_Variabile}')\n",
        "print(f'Quota Produttore: {Quota_Produttore}')\n",
        "print(f'Quota Consumatori: {Quota_Consumatori}')"
      ],
      "execution_count": null,
      "outputs": [
        {
          "output_type": "stream",
          "name": "stdout",
          "text": [
            "Incentivo Totale Condivisione: 16025.182600000044\n",
            "Quota Idro: 289.03000000000003\n",
            "Incentivo Attribuibile: 14162.537340000039\n",
            "Incentivo Costi di Gestione: 1602.5182600000044\n",
            "Quota Fissa: 2832.507468000008\n",
            "Quota Variabile: 11330.029872000032\n",
            "Quota Produttore: 4441.371709824012\n",
            "Quota Consumatori: 6798.017923200019\n"
          ]
        }
      ]
    },
    {
      "cell_type": "code",
      "source": [
        "if Incentivo_Totale_Condivisione == Incentivo_Attribuibile + Incentivo_Costi_Gestione + Quota_Idro: \n",
        "  print('C\\'è congruenza')"
      ],
      "metadata": {
        "id": "hQKeIn6GciAy"
      },
      "execution_count": null,
      "outputs": []
    },
    {
      "cell_type": "code",
      "metadata": {
        "id": "_ekFTGKGyPkT",
        "colab": {
          "base_uri": "https://localhost:8080/"
        },
        "outputId": "604e840f-e08a-41d9-ea25-fbb69354d4bd"
      },
      "source": [
        "print('Quota Fissa ' +str(Quota_Fissa))\n",
        "print('Quota Immissione ' +str(Quota_Immissione))\n",
        "print('Quota Consumatori ' +str(Quota_Consumatori))\n",
        "print('Quota Produttore ' +str(Quota_Produttore))\n",
        "print('Quota Prosumer ' +str(Quota_Prosumer))"
      ],
      "execution_count": null,
      "outputs": [
        {
          "output_type": "stream",
          "name": "stdout",
          "text": [
            "Quota Fissa 2832.507468000008\n",
            "Quota Immissione 4532.011948800013\n",
            "Quota Consumatori 6798.017923200019\n",
            "Quota Produttore 4441.371709824012\n",
            "Quota Prosumer 90.64023897600026\n"
          ]
        }
      ]
    },
    {
      "cell_type": "code",
      "source": [
        "def CalcolaIncentivo(copy): \n",
        "    #copy = df.copy()\n",
        "    if(copy['Categoria'] == 'Consumer'): \n",
        "      #print('Nome: '+str(copy['Identificativo']) + ' Categoria: ' +str(copy['Categoria']))\n",
        "      #print('quota pro capite: '+ str(QuotaProCapite))\n",
        "      #print('percentuale condivisa: '+ str(Quota_Produttore*copy['Percentuale Condivisa']))\n",
        "      #print('Totale suo incentivo: '+str( QuotaProCapite + Quota_Consumatori*copy['Percentuale Condivisa']))\n",
        "      #print('##########################################################################################')\n",
        "      return QuotaProCapite + Quota_Consumatori*copy['Percentuale Condivisa']\n",
        "\n",
        "\n",
        "    elif(copy['Categoria'] == 'Prosumer'): \n",
        "      #print('Nome: '+str(copy['Identificativo']) + ' Categoria: ' +str(copy['Categoria']))\n",
        "      #print('quota pro capite: '+ str(QuotaProCapite))\n",
        "      #print('percentuale immessa: '+ str(Quota_Produttore*copy['Percentuale Immessa']))\n",
        "      #print('percentuale immessa prosumer: '+str(Quota_Prosumer*copy['Percentuale Immessa Prosumer']))\n",
        "      #print('Totale suo incentivo: '+str( QuotaProCapite + Quota_Produttore*copy['Percentuale Immessa'] + Quota_Prosumer*copy['Percentuale Immessa Prosumer']))\n",
        "      #print('##########################################################################################')\n",
        "      return QuotaProCapite + Quota_Consumatori*copy['Percentuale Condivisa'] + Quota_Produttore*copy['Percentuale Immessa'] + Quota_Prosumer*copy['Percentuale Immessa Prosumer']\n",
        "\n",
        "\n",
        "    elif(copy['Categoria'] == 'Produttore'): \n",
        "      #print('Nome: '+str(copy['Identificativo']) + ' Categoria: ' +str(copy['Categoria']))\n",
        "      #print('quota pro capite: '+ str(QuotaProCapite))\n",
        "      #print('percentuale immessa: '+ str(Quota_Produttore*copy['Percentuale Immessa']))\n",
        "      #print('Totale suo incentivo: '+str( QuotaProCapite + Quota_Produttore*copy['Percentuale Immessa']))\n",
        "      #print('##########################################################################################')                ''' INSERIMENTO IDROELETTRICO'''\n",
        "      if copy['Identificativo'] == 'Idroelettrico': \n",
        "        return Quota_Idro ########################!!!!!!!!!!!!!!!!!!!!!!!!!!!!!!!!!!!!!!!!!!########## Definire a cosa attinge il produttore idroelettrico. \n",
        "      return  QuotaProCapite + Quota_Produttore*copy['Percentuale Immessa']\n",
        "    else: \n",
        "      print('non rientra in nessuna categoria ERRORE')"
      ],
      "metadata": {
        "id": "NYU_Bnydpj33"
      },
      "execution_count": null,
      "outputs": []
    },
    {
      "cell_type": "code",
      "source": [
        "Quota_Fissa"
      ],
      "metadata": {
        "id": "ZAY242NokPUy",
        "colab": {
          "base_uri": "https://localhost:8080/"
        },
        "outputId": "c57dc291-5e64-4289-88dc-2037d651dc74"
      },
      "execution_count": null,
      "outputs": [
        {
          "output_type": "execute_result",
          "data": {
            "text/plain": [
              "2832.507468000008"
            ]
          },
          "metadata": {},
          "execution_count": 133
        }
      ]
    },
    {
      "cell_type": "code",
      "source": [
        "numero_partecipanti"
      ],
      "metadata": {
        "id": "sXhzE-n9kZJg",
        "colab": {
          "base_uri": "https://localhost:8080/"
        },
        "outputId": "b779cef4-e784-43cc-ac4c-5017f120587a"
      },
      "execution_count": null,
      "outputs": [
        {
          "output_type": "execute_result",
          "data": {
            "text/plain": [
              "3"
            ]
          },
          "metadata": {},
          "execution_count": 134
        }
      ]
    },
    {
      "cell_type": "code",
      "metadata": {
        "id": "Ei8IHdvCLZCA",
        "colab": {
          "base_uri": "https://localhost:8080/",
          "height": 303
        },
        "outputId": "4a27ad9c-925f-4a0f-c1e7-d659ce17131c"
      },
      "source": [
        "#Consumatori: Quota fissa + % Quota Consumatori\n",
        "#Produttore: Quota fissa + % Fissa su Quota Variabile\n",
        "#df_finale['Incentivo Condivisione'] = df_finale.apply(lambda x: (Quota_Fissa/numero_partecipanti + x['Percentuale Condivisa']*Quota_Consumatori) if (x['Categoria'] == 'Consumer')  else ( (Quota_Fissa/numero_partecipanti + Quota_Produttore/(numero_produttori+ numero_prosumer) if (x['Categoria'] == 'Produttore') else (Quota_Fissa/numero_partecipanti + Quota_Prosumer/numero_prosumer + Quota_Produttore/(numero_produttori+numero_prosumer), axis =1)\n",
        "\n",
        "#df_finale['Incentivo Condivisione'] = df_finale.apply(lambda x: Quota_Fissa/numero_partecipanti + ( (Quota_Consumatori*x['Percentuale Condivisa']) if (x['Categoria'] == 'Consumer')  else ( (Quota_Produttore*x['Percentuale Immessa'] + Quota_Prosumer*x['Percentuale Immessa Prosumer']) if(x['Categoria'] == 'Prosumer') else (Quota_Produttore*x['Percentuale Immessa']))), axis =1)\n",
        "QuotaProCapite = Quota_Fissa/numero_partecipanti #La quota pro capite viene attribuita nella funzione Calcola incentivo. \n",
        "\n",
        "df_finale['Incentivo Condivisione'] = df_finale.apply(CalcolaIncentivo, axis = 1)\n",
        "\n",
        "#df_finale['Incentivo Condivisione '] = df_finale.apply(lambda x: QuotaProCapite + Quota_Produttore*x['Percentuale Immessa'] if (x['Categoria'] == 'Produttore')  else (  (QuotaProCapite + Quota_Produttore*x['Percentuale Immessa'] + Quota_Prosumer*x['Percentuale Immessa Prosumer']) if(x['Categoria'] == 'Prosumer') else (QuotaProCapite + Quota_Consumatori*x['Percentuale Condivisa'])), axis=1)\n",
        "\n",
        "df_finale['Ritiro Dedicato'] = df_finale.apply(lambda x: (x['Somma Immissione']*ritiro_dedicato) if (x[\"Somma Immissione\"] > 0 and x['Identificativo'] != 'Idroelettrico')  else 0, axis =1) #N.B viene escluso il produttore idroelettrico\n",
        "\n",
        "df_finale['Vendita Energia Idroelettrico'] = df_finale.apply(lambda x: (x['Somma Immissione']*val_prod_idro) if (x['Identificativo'] == 'Idroelettrico')  else 0, axis =1) #Calcolo vedita alla rete energia idroelettrico secondo parametro settato \"val_prod_idro\"\n",
        "\n",
        "Ritiro_Dedicato_Totale = df_finale['Ritiro Dedicato'].sum()\n",
        "\n",
        "df_finale['Incentivo Totale'] = df_finale['Incentivo Condivisione'] + df_finale['Ritiro Dedicato'] + df_finale['Vendita Energia Idroelettrico'] #Calcolo incentivo totale singolo utente. N.B. quota pro capite attribuita in funzione calcola incentivo \n",
        "df_finale"
      ],
      "execution_count": null,
      "outputs": [
        {
          "output_type": "execute_result",
          "data": {
            "text/plain": [
              "  Identificativo  Potenza Da Installare  Somma Fascia 1  Somma Fascia 2  \\\n",
              "0              A                   16.0       1.157e+05        6.27e+04   \n",
              "1              B                  2e+03       9.322e+04       9.829e+04   \n",
              "2  Idroelettrico                    0.0             0.0             0.0   \n",
              "3     Produttore                    NaN             0.0             NaN   \n",
              "\n",
              "   Somma Immissione  Somma Autoconsumo  Somma Produzione Aggiuntiva  \\\n",
              "0         4.129e+03                0.0                    2.507e+04   \n",
              "1         2.968e+06          1.129e+05                    3.081e+06   \n",
              "2         4.129e+03                0.0                          0.0   \n",
              "3        -2.836e+06                NaN                          NaN   \n",
              "\n",
              "   Consumo Per Fotovoltaico  Differenza  Taglia Impianto Potenziale  ...  \\\n",
              "0                 1.388e+05  -1.347e+05                       107.7  ...   \n",
              "1                -1.014e+03   2.969e+06                  -2.375e+03  ...   \n",
              "2                       0.0   1.376e+03                      -1.101  ...   \n",
              "3                       0.0  -2.836e+06                  -2.269e+03  ...   \n",
              "\n",
              "   Costo Bolletta  Percentuale Condivisa  Taglia Impianto   Categoria  \\\n",
              "0       1.041e+05                0.04533              NaN    Prosumer   \n",
              "1       8.007e+03                    0.0              NaN    Prosumer   \n",
              "2       1.041e+05                    0.0              NaN  Produttore   \n",
              "3             0.0                 0.9547       -2.269e+03  Produttore   \n",
              "\n",
              "   Percentuale Immessa Percentuale Immessa Prosumer  Incentivo Condivisione  \\\n",
              "0             0.001389                     0.001389               1.259e+03   \n",
              "1               0.9986                       0.9986                5.47e+03   \n",
              "2                  0.0                          0.0                   289.0   \n",
              "3                  0.0                          0.0                   944.2   \n",
              "\n",
              "   Ritiro Dedicato  Vendita Energia Idroelettrico  Incentivo Totale  \n",
              "0            371.6                            0.0          1.63e+03  \n",
              "1        2.671e+05                            0.0         2.726e+05  \n",
              "2              0.0                          371.6             660.6  \n",
              "3              0.0                            0.0             944.2  \n",
              "\n",
              "[4 rows x 22 columns]"
            ],
            "text/html": [
              "\n",
              "  <div id=\"df-dc75aa91-f79d-4796-abba-94387ad55652\">\n",
              "    <div class=\"colab-df-container\">\n",
              "      <div>\n",
              "<style scoped>\n",
              "    .dataframe tbody tr th:only-of-type {\n",
              "        vertical-align: middle;\n",
              "    }\n",
              "\n",
              "    .dataframe tbody tr th {\n",
              "        vertical-align: top;\n",
              "    }\n",
              "\n",
              "    .dataframe thead th {\n",
              "        text-align: right;\n",
              "    }\n",
              "</style>\n",
              "<table border=\"1\" class=\"dataframe\">\n",
              "  <thead>\n",
              "    <tr style=\"text-align: right;\">\n",
              "      <th></th>\n",
              "      <th>Identificativo</th>\n",
              "      <th>Potenza Da Installare</th>\n",
              "      <th>Somma Fascia 1</th>\n",
              "      <th>Somma Fascia 2</th>\n",
              "      <th>Somma Immissione</th>\n",
              "      <th>Somma Autoconsumo</th>\n",
              "      <th>Somma Produzione Aggiuntiva</th>\n",
              "      <th>Consumo Per Fotovoltaico</th>\n",
              "      <th>Differenza</th>\n",
              "      <th>Taglia Impianto Potenziale</th>\n",
              "      <th>...</th>\n",
              "      <th>Costo Bolletta</th>\n",
              "      <th>Percentuale Condivisa</th>\n",
              "      <th>Taglia Impianto</th>\n",
              "      <th>Categoria</th>\n",
              "      <th>Percentuale Immessa</th>\n",
              "      <th>Percentuale Immessa Prosumer</th>\n",
              "      <th>Incentivo Condivisione</th>\n",
              "      <th>Ritiro Dedicato</th>\n",
              "      <th>Vendita Energia Idroelettrico</th>\n",
              "      <th>Incentivo Totale</th>\n",
              "    </tr>\n",
              "  </thead>\n",
              "  <tbody>\n",
              "    <tr>\n",
              "      <th>0</th>\n",
              "      <td>A</td>\n",
              "      <td>16.0</td>\n",
              "      <td>1.157e+05</td>\n",
              "      <td>6.27e+04</td>\n",
              "      <td>4.129e+03</td>\n",
              "      <td>0.0</td>\n",
              "      <td>2.507e+04</td>\n",
              "      <td>1.388e+05</td>\n",
              "      <td>-1.347e+05</td>\n",
              "      <td>107.7</td>\n",
              "      <td>...</td>\n",
              "      <td>1.041e+05</td>\n",
              "      <td>0.04533</td>\n",
              "      <td>NaN</td>\n",
              "      <td>Prosumer</td>\n",
              "      <td>0.001389</td>\n",
              "      <td>0.001389</td>\n",
              "      <td>1.259e+03</td>\n",
              "      <td>371.6</td>\n",
              "      <td>0.0</td>\n",
              "      <td>1.63e+03</td>\n",
              "    </tr>\n",
              "    <tr>\n",
              "      <th>1</th>\n",
              "      <td>B</td>\n",
              "      <td>2e+03</td>\n",
              "      <td>9.322e+04</td>\n",
              "      <td>9.829e+04</td>\n",
              "      <td>2.968e+06</td>\n",
              "      <td>1.129e+05</td>\n",
              "      <td>3.081e+06</td>\n",
              "      <td>-1.014e+03</td>\n",
              "      <td>2.969e+06</td>\n",
              "      <td>-2.375e+03</td>\n",
              "      <td>...</td>\n",
              "      <td>8.007e+03</td>\n",
              "      <td>0.0</td>\n",
              "      <td>NaN</td>\n",
              "      <td>Prosumer</td>\n",
              "      <td>0.9986</td>\n",
              "      <td>0.9986</td>\n",
              "      <td>5.47e+03</td>\n",
              "      <td>2.671e+05</td>\n",
              "      <td>0.0</td>\n",
              "      <td>2.726e+05</td>\n",
              "    </tr>\n",
              "    <tr>\n",
              "      <th>2</th>\n",
              "      <td>Idroelettrico</td>\n",
              "      <td>0.0</td>\n",
              "      <td>0.0</td>\n",
              "      <td>0.0</td>\n",
              "      <td>4.129e+03</td>\n",
              "      <td>0.0</td>\n",
              "      <td>0.0</td>\n",
              "      <td>0.0</td>\n",
              "      <td>1.376e+03</td>\n",
              "      <td>-1.101</td>\n",
              "      <td>...</td>\n",
              "      <td>1.041e+05</td>\n",
              "      <td>0.0</td>\n",
              "      <td>NaN</td>\n",
              "      <td>Produttore</td>\n",
              "      <td>0.0</td>\n",
              "      <td>0.0</td>\n",
              "      <td>289.0</td>\n",
              "      <td>0.0</td>\n",
              "      <td>371.6</td>\n",
              "      <td>660.6</td>\n",
              "    </tr>\n",
              "    <tr>\n",
              "      <th>3</th>\n",
              "      <td>Produttore</td>\n",
              "      <td>NaN</td>\n",
              "      <td>0.0</td>\n",
              "      <td>NaN</td>\n",
              "      <td>-2.836e+06</td>\n",
              "      <td>NaN</td>\n",
              "      <td>NaN</td>\n",
              "      <td>0.0</td>\n",
              "      <td>-2.836e+06</td>\n",
              "      <td>-2.269e+03</td>\n",
              "      <td>...</td>\n",
              "      <td>0.0</td>\n",
              "      <td>0.9547</td>\n",
              "      <td>-2.269e+03</td>\n",
              "      <td>Produttore</td>\n",
              "      <td>0.0</td>\n",
              "      <td>0.0</td>\n",
              "      <td>944.2</td>\n",
              "      <td>0.0</td>\n",
              "      <td>0.0</td>\n",
              "      <td>944.2</td>\n",
              "    </tr>\n",
              "  </tbody>\n",
              "</table>\n",
              "<p>4 rows × 22 columns</p>\n",
              "</div>\n",
              "      <button class=\"colab-df-convert\" onclick=\"convertToInteractive('df-dc75aa91-f79d-4796-abba-94387ad55652')\"\n",
              "              title=\"Convert this dataframe to an interactive table.\"\n",
              "              style=\"display:none;\">\n",
              "        \n",
              "  <svg xmlns=\"http://www.w3.org/2000/svg\" height=\"24px\"viewBox=\"0 0 24 24\"\n",
              "       width=\"24px\">\n",
              "    <path d=\"M0 0h24v24H0V0z\" fill=\"none\"/>\n",
              "    <path d=\"M18.56 5.44l.94 2.06.94-2.06 2.06-.94-2.06-.94-.94-2.06-.94 2.06-2.06.94zm-11 1L8.5 8.5l.94-2.06 2.06-.94-2.06-.94L8.5 2.5l-.94 2.06-2.06.94zm10 10l.94 2.06.94-2.06 2.06-.94-2.06-.94-.94-2.06-.94 2.06-2.06.94z\"/><path d=\"M17.41 7.96l-1.37-1.37c-.4-.4-.92-.59-1.43-.59-.52 0-1.04.2-1.43.59L10.3 9.45l-7.72 7.72c-.78.78-.78 2.05 0 2.83L4 21.41c.39.39.9.59 1.41.59.51 0 1.02-.2 1.41-.59l7.78-7.78 2.81-2.81c.8-.78.8-2.07 0-2.86zM5.41 20L4 18.59l7.72-7.72 1.47 1.35L5.41 20z\"/>\n",
              "  </svg>\n",
              "      </button>\n",
              "      \n",
              "  <style>\n",
              "    .colab-df-container {\n",
              "      display:flex;\n",
              "      flex-wrap:wrap;\n",
              "      gap: 12px;\n",
              "    }\n",
              "\n",
              "    .colab-df-convert {\n",
              "      background-color: #E8F0FE;\n",
              "      border: none;\n",
              "      border-radius: 50%;\n",
              "      cursor: pointer;\n",
              "      display: none;\n",
              "      fill: #1967D2;\n",
              "      height: 32px;\n",
              "      padding: 0 0 0 0;\n",
              "      width: 32px;\n",
              "    }\n",
              "\n",
              "    .colab-df-convert:hover {\n",
              "      background-color: #E2EBFA;\n",
              "      box-shadow: 0px 1px 2px rgba(60, 64, 67, 0.3), 0px 1px 3px 1px rgba(60, 64, 67, 0.15);\n",
              "      fill: #174EA6;\n",
              "    }\n",
              "\n",
              "    [theme=dark] .colab-df-convert {\n",
              "      background-color: #3B4455;\n",
              "      fill: #D2E3FC;\n",
              "    }\n",
              "\n",
              "    [theme=dark] .colab-df-convert:hover {\n",
              "      background-color: #434B5C;\n",
              "      box-shadow: 0px 1px 3px 1px rgba(0, 0, 0, 0.15);\n",
              "      filter: drop-shadow(0px 1px 2px rgba(0, 0, 0, 0.3));\n",
              "      fill: #FFFFFF;\n",
              "    }\n",
              "  </style>\n",
              "\n",
              "      <script>\n",
              "        const buttonEl =\n",
              "          document.querySelector('#df-dc75aa91-f79d-4796-abba-94387ad55652 button.colab-df-convert');\n",
              "        buttonEl.style.display =\n",
              "          google.colab.kernel.accessAllowed ? 'block' : 'none';\n",
              "\n",
              "        async function convertToInteractive(key) {\n",
              "          const element = document.querySelector('#df-dc75aa91-f79d-4796-abba-94387ad55652');\n",
              "          const dataTable =\n",
              "            await google.colab.kernel.invokeFunction('convertToInteractive',\n",
              "                                                     [key], {});\n",
              "          if (!dataTable) return;\n",
              "\n",
              "          const docLinkHtml = 'Like what you see? Visit the ' +\n",
              "            '<a target=\"_blank\" href=https://colab.research.google.com/notebooks/data_table.ipynb>data table notebook</a>'\n",
              "            + ' to learn more about interactive tables.';\n",
              "          element.innerHTML = '';\n",
              "          dataTable['output_type'] = 'display_data';\n",
              "          await google.colab.output.renderOutput(dataTable, element);\n",
              "          const docLink = document.createElement('div');\n",
              "          docLink.innerHTML = docLinkHtml;\n",
              "          element.appendChild(docLink);\n",
              "        }\n",
              "      </script>\n",
              "    </div>\n",
              "  </div>\n",
              "  "
            ]
          },
          "metadata": {},
          "execution_count": 135
        }
      ]
    },
    {
      "cell_type": "markdown",
      "metadata": {
        "id": "p8ozqY-MA6YW"
      },
      "source": [
        "***Conto Economico della CE***"
      ]
    },
    {
      "cell_type": "markdown",
      "metadata": {
        "id": "hTl4ZzGsBe1g"
      },
      "source": [
        "Voci di Costo"
      ]
    },
    {
      "cell_type": "markdown",
      "metadata": {
        "id": "k3ayL_a-vsxJ"
      },
      "source": [
        "#5) Parametri di Ammortamento"
      ]
    },
    {
      "cell_type": "markdown",
      "metadata": {
        "id": "DlemMVz8ZDgD"
      },
      "source": [
        "Elenco voci di costo e tempi di ammortamento"
      ]
    },
    {
      "cell_type": "code",
      "metadata": {
        "id": "wl08xMBf-FrM"
      },
      "source": [
        "Architettura_CER = 400 #€/partecipante una tantum\n",
        "Tempo_Ammortamento_Architettura = 4 #Anni\n",
        "####################################################################\n",
        "Commissione = 48 #€/partecipante all'anno\n",
        "####################################################################\n",
        "Ammortamento_Impianto_Fotovoltaico = 0.00 # % del costo dell'impianto\n",
        "Tempo_Ammortamento_Fotovoltaico = 10 #Anni\n"
      ],
      "execution_count": null,
      "outputs": []
    },
    {
      "cell_type": "code",
      "metadata": {
        "id": "XCxHUi_Iv9No"
      },
      "source": [
        "d = {'Architettura': [Architettura_CER], 'Tempo_Ammortamento_Architettura': [Tempo_Ammortamento_Architettura], 'Tempo_Ammortamento_Architettura': [Tempo_Ammortamento_Architettura], 'Commissione': [Commissione], 'Ammortamento_Impianto_Fotovoltaico': [Ammortamento_Impianto_Fotovoltaico], 'Tempo_Ammortamento_Fotovoltaico': [Tempo_Ammortamento_Fotovoltaico]}\n",
        "Parametri_Ammortamento = pd.DataFrame(data = d)"
      ],
      "execution_count": null,
      "outputs": []
    },
    {
      "cell_type": "code",
      "metadata": {
        "id": "jxD34_nuxS2q",
        "colab": {
          "base_uri": "https://localhost:8080/",
          "height": 81
        },
        "outputId": "48d98ecd-40c0-48b7-e89c-265d4f5850bd"
      },
      "source": [
        "Parametri_Ammortamento"
      ],
      "execution_count": null,
      "outputs": [
        {
          "output_type": "execute_result",
          "data": {
            "text/plain": [
              "   Architettura  Tempo_Ammortamento_Architettura  Commissione  \\\n",
              "0           400                                4           48   \n",
              "\n",
              "   Ammortamento_Impianto_Fotovoltaico  Tempo_Ammortamento_Fotovoltaico  \n",
              "0                                 0.0                               10  "
            ],
            "text/html": [
              "\n",
              "  <div id=\"df-3d424665-81ea-4315-9550-569d194e2cfa\">\n",
              "    <div class=\"colab-df-container\">\n",
              "      <div>\n",
              "<style scoped>\n",
              "    .dataframe tbody tr th:only-of-type {\n",
              "        vertical-align: middle;\n",
              "    }\n",
              "\n",
              "    .dataframe tbody tr th {\n",
              "        vertical-align: top;\n",
              "    }\n",
              "\n",
              "    .dataframe thead th {\n",
              "        text-align: right;\n",
              "    }\n",
              "</style>\n",
              "<table border=\"1\" class=\"dataframe\">\n",
              "  <thead>\n",
              "    <tr style=\"text-align: right;\">\n",
              "      <th></th>\n",
              "      <th>Architettura</th>\n",
              "      <th>Tempo_Ammortamento_Architettura</th>\n",
              "      <th>Commissione</th>\n",
              "      <th>Ammortamento_Impianto_Fotovoltaico</th>\n",
              "      <th>Tempo_Ammortamento_Fotovoltaico</th>\n",
              "    </tr>\n",
              "  </thead>\n",
              "  <tbody>\n",
              "    <tr>\n",
              "      <th>0</th>\n",
              "      <td>400</td>\n",
              "      <td>4</td>\n",
              "      <td>48</td>\n",
              "      <td>0.0</td>\n",
              "      <td>10</td>\n",
              "    </tr>\n",
              "  </tbody>\n",
              "</table>\n",
              "</div>\n",
              "      <button class=\"colab-df-convert\" onclick=\"convertToInteractive('df-3d424665-81ea-4315-9550-569d194e2cfa')\"\n",
              "              title=\"Convert this dataframe to an interactive table.\"\n",
              "              style=\"display:none;\">\n",
              "        \n",
              "  <svg xmlns=\"http://www.w3.org/2000/svg\" height=\"24px\"viewBox=\"0 0 24 24\"\n",
              "       width=\"24px\">\n",
              "    <path d=\"M0 0h24v24H0V0z\" fill=\"none\"/>\n",
              "    <path d=\"M18.56 5.44l.94 2.06.94-2.06 2.06-.94-2.06-.94-.94-2.06-.94 2.06-2.06.94zm-11 1L8.5 8.5l.94-2.06 2.06-.94-2.06-.94L8.5 2.5l-.94 2.06-2.06.94zm10 10l.94 2.06.94-2.06 2.06-.94-2.06-.94-.94-2.06-.94 2.06-2.06.94z\"/><path d=\"M17.41 7.96l-1.37-1.37c-.4-.4-.92-.59-1.43-.59-.52 0-1.04.2-1.43.59L10.3 9.45l-7.72 7.72c-.78.78-.78 2.05 0 2.83L4 21.41c.39.39.9.59 1.41.59.51 0 1.02-.2 1.41-.59l7.78-7.78 2.81-2.81c.8-.78.8-2.07 0-2.86zM5.41 20L4 18.59l7.72-7.72 1.47 1.35L5.41 20z\"/>\n",
              "  </svg>\n",
              "      </button>\n",
              "      \n",
              "  <style>\n",
              "    .colab-df-container {\n",
              "      display:flex;\n",
              "      flex-wrap:wrap;\n",
              "      gap: 12px;\n",
              "    }\n",
              "\n",
              "    .colab-df-convert {\n",
              "      background-color: #E8F0FE;\n",
              "      border: none;\n",
              "      border-radius: 50%;\n",
              "      cursor: pointer;\n",
              "      display: none;\n",
              "      fill: #1967D2;\n",
              "      height: 32px;\n",
              "      padding: 0 0 0 0;\n",
              "      width: 32px;\n",
              "    }\n",
              "\n",
              "    .colab-df-convert:hover {\n",
              "      background-color: #E2EBFA;\n",
              "      box-shadow: 0px 1px 2px rgba(60, 64, 67, 0.3), 0px 1px 3px 1px rgba(60, 64, 67, 0.15);\n",
              "      fill: #174EA6;\n",
              "    }\n",
              "\n",
              "    [theme=dark] .colab-df-convert {\n",
              "      background-color: #3B4455;\n",
              "      fill: #D2E3FC;\n",
              "    }\n",
              "\n",
              "    [theme=dark] .colab-df-convert:hover {\n",
              "      background-color: #434B5C;\n",
              "      box-shadow: 0px 1px 3px 1px rgba(0, 0, 0, 0.15);\n",
              "      filter: drop-shadow(0px 1px 2px rgba(0, 0, 0, 0.3));\n",
              "      fill: #FFFFFF;\n",
              "    }\n",
              "  </style>\n",
              "\n",
              "      <script>\n",
              "        const buttonEl =\n",
              "          document.querySelector('#df-3d424665-81ea-4315-9550-569d194e2cfa button.colab-df-convert');\n",
              "        buttonEl.style.display =\n",
              "          google.colab.kernel.accessAllowed ? 'block' : 'none';\n",
              "\n",
              "        async function convertToInteractive(key) {\n",
              "          const element = document.querySelector('#df-3d424665-81ea-4315-9550-569d194e2cfa');\n",
              "          const dataTable =\n",
              "            await google.colab.kernel.invokeFunction('convertToInteractive',\n",
              "                                                     [key], {});\n",
              "          if (!dataTable) return;\n",
              "\n",
              "          const docLinkHtml = 'Like what you see? Visit the ' +\n",
              "            '<a target=\"_blank\" href=https://colab.research.google.com/notebooks/data_table.ipynb>data table notebook</a>'\n",
              "            + ' to learn more about interactive tables.';\n",
              "          element.innerHTML = '';\n",
              "          dataTable['output_type'] = 'display_data';\n",
              "          await google.colab.output.renderOutput(dataTable, element);\n",
              "          const docLink = document.createElement('div');\n",
              "          docLink.innerHTML = docLinkHtml;\n",
              "          element.appendChild(docLink);\n",
              "        }\n",
              "      </script>\n",
              "    </div>\n",
              "  </div>\n",
              "  "
            ]
          },
          "metadata": {},
          "execution_count": 138
        }
      ]
    },
    {
      "cell_type": "markdown",
      "metadata": {
        "id": "RyWM09uIZG_R"
      },
      "source": [
        "Flussi di cassa CER"
      ]
    },
    {
      "cell_type": "code",
      "metadata": {
        "id": "1JpamZgqKDAT",
        "colab": {
          "base_uri": "https://localhost:8080/"
        },
        "outputId": "143b3b28-c9be-4d63-8a80-099f78fba298"
      },
      "source": [
        "Flussi_Di_Cassa_CER = (Incentivo_Totale_Condivisione + Ritiro_Dedicato_Totale)\n",
        "Flussi_Di_Cassa_CER"
      ],
      "execution_count": null,
      "outputs": [
        {
          "output_type": "execute_result",
          "data": {
            "text/plain": [
              "283523.59030000004"
            ]
          },
          "metadata": {},
          "execution_count": 139
        }
      ]
    },
    {
      "cell_type": "markdown",
      "metadata": {
        "id": "Dzyf1j370f9I"
      },
      "source": [
        "Trattenute condivisione"
      ]
    },
    {
      "cell_type": "code",
      "metadata": {
        "id": "-usTRrHC0iKg",
        "colab": {
          "base_uri": "https://localhost:8080/"
        },
        "outputId": "b98cc53b-f541-4223-a632-504138cc7d40"
      },
      "source": [
        "Incentivo_Costi_Gestione"
      ],
      "execution_count": null,
      "outputs": [
        {
          "output_type": "execute_result",
          "data": {
            "text/plain": [
              "1602.5182600000044"
            ]
          },
          "metadata": {},
          "execution_count": 140
        }
      ]
    },
    {
      "cell_type": "markdown",
      "metadata": {
        "id": "eXiUTxljZNSi"
      },
      "source": [
        "Costo totale per la costruzione dei nuovi impianti della CER"
      ]
    },
    {
      "cell_type": "code",
      "source": [
        "df_finale"
      ],
      "metadata": {
        "id": "nZifGZyDnURG",
        "colab": {
          "base_uri": "https://localhost:8080/",
          "height": 303
        },
        "outputId": "593a4ae2-2036-424a-eba5-b423607a923b"
      },
      "execution_count": null,
      "outputs": [
        {
          "output_type": "execute_result",
          "data": {
            "text/plain": [
              "  Identificativo  Potenza Da Installare  Somma Fascia 1  Somma Fascia 2  \\\n",
              "0              A                   16.0       1.157e+05        6.27e+04   \n",
              "1              B                  2e+03       9.322e+04       9.829e+04   \n",
              "2  Idroelettrico                    0.0             0.0             0.0   \n",
              "3     Produttore                    NaN             0.0             NaN   \n",
              "\n",
              "   Somma Immissione  Somma Autoconsumo  Somma Produzione Aggiuntiva  \\\n",
              "0         4.129e+03                0.0                    2.507e+04   \n",
              "1         2.968e+06          1.129e+05                    3.081e+06   \n",
              "2         4.129e+03                0.0                          0.0   \n",
              "3        -2.836e+06                NaN                          NaN   \n",
              "\n",
              "   Consumo Per Fotovoltaico  Differenza  Taglia Impianto Potenziale  ...  \\\n",
              "0                 1.388e+05  -1.347e+05                       107.7  ...   \n",
              "1                -1.014e+03   2.969e+06                  -2.375e+03  ...   \n",
              "2                       0.0   1.376e+03                      -1.101  ...   \n",
              "3                       0.0  -2.836e+06                  -2.269e+03  ...   \n",
              "\n",
              "   Costo Bolletta  Percentuale Condivisa  Taglia Impianto   Categoria  \\\n",
              "0       1.041e+05                0.04533              NaN    Prosumer   \n",
              "1       8.007e+03                    0.0              NaN    Prosumer   \n",
              "2       1.041e+05                    0.0              NaN  Produttore   \n",
              "3             0.0                 0.9547       -2.269e+03  Produttore   \n",
              "\n",
              "   Percentuale Immessa Percentuale Immessa Prosumer  Incentivo Condivisione  \\\n",
              "0             0.001389                     0.001389               1.259e+03   \n",
              "1               0.9986                       0.9986                5.47e+03   \n",
              "2                  0.0                          0.0                   289.0   \n",
              "3                  0.0                          0.0                   944.2   \n",
              "\n",
              "   Ritiro Dedicato  Vendita Energia Idroelettrico  Incentivo Totale  \n",
              "0            371.6                            0.0          1.63e+03  \n",
              "1        2.671e+05                            0.0         2.726e+05  \n",
              "2              0.0                          371.6             660.6  \n",
              "3              0.0                            0.0             944.2  \n",
              "\n",
              "[4 rows x 22 columns]"
            ],
            "text/html": [
              "\n",
              "  <div id=\"df-b144c114-0bde-4679-9f54-41052251cc50\">\n",
              "    <div class=\"colab-df-container\">\n",
              "      <div>\n",
              "<style scoped>\n",
              "    .dataframe tbody tr th:only-of-type {\n",
              "        vertical-align: middle;\n",
              "    }\n",
              "\n",
              "    .dataframe tbody tr th {\n",
              "        vertical-align: top;\n",
              "    }\n",
              "\n",
              "    .dataframe thead th {\n",
              "        text-align: right;\n",
              "    }\n",
              "</style>\n",
              "<table border=\"1\" class=\"dataframe\">\n",
              "  <thead>\n",
              "    <tr style=\"text-align: right;\">\n",
              "      <th></th>\n",
              "      <th>Identificativo</th>\n",
              "      <th>Potenza Da Installare</th>\n",
              "      <th>Somma Fascia 1</th>\n",
              "      <th>Somma Fascia 2</th>\n",
              "      <th>Somma Immissione</th>\n",
              "      <th>Somma Autoconsumo</th>\n",
              "      <th>Somma Produzione Aggiuntiva</th>\n",
              "      <th>Consumo Per Fotovoltaico</th>\n",
              "      <th>Differenza</th>\n",
              "      <th>Taglia Impianto Potenziale</th>\n",
              "      <th>...</th>\n",
              "      <th>Costo Bolletta</th>\n",
              "      <th>Percentuale Condivisa</th>\n",
              "      <th>Taglia Impianto</th>\n",
              "      <th>Categoria</th>\n",
              "      <th>Percentuale Immessa</th>\n",
              "      <th>Percentuale Immessa Prosumer</th>\n",
              "      <th>Incentivo Condivisione</th>\n",
              "      <th>Ritiro Dedicato</th>\n",
              "      <th>Vendita Energia Idroelettrico</th>\n",
              "      <th>Incentivo Totale</th>\n",
              "    </tr>\n",
              "  </thead>\n",
              "  <tbody>\n",
              "    <tr>\n",
              "      <th>0</th>\n",
              "      <td>A</td>\n",
              "      <td>16.0</td>\n",
              "      <td>1.157e+05</td>\n",
              "      <td>6.27e+04</td>\n",
              "      <td>4.129e+03</td>\n",
              "      <td>0.0</td>\n",
              "      <td>2.507e+04</td>\n",
              "      <td>1.388e+05</td>\n",
              "      <td>-1.347e+05</td>\n",
              "      <td>107.7</td>\n",
              "      <td>...</td>\n",
              "      <td>1.041e+05</td>\n",
              "      <td>0.04533</td>\n",
              "      <td>NaN</td>\n",
              "      <td>Prosumer</td>\n",
              "      <td>0.001389</td>\n",
              "      <td>0.001389</td>\n",
              "      <td>1.259e+03</td>\n",
              "      <td>371.6</td>\n",
              "      <td>0.0</td>\n",
              "      <td>1.63e+03</td>\n",
              "    </tr>\n",
              "    <tr>\n",
              "      <th>1</th>\n",
              "      <td>B</td>\n",
              "      <td>2e+03</td>\n",
              "      <td>9.322e+04</td>\n",
              "      <td>9.829e+04</td>\n",
              "      <td>2.968e+06</td>\n",
              "      <td>1.129e+05</td>\n",
              "      <td>3.081e+06</td>\n",
              "      <td>-1.014e+03</td>\n",
              "      <td>2.969e+06</td>\n",
              "      <td>-2.375e+03</td>\n",
              "      <td>...</td>\n",
              "      <td>8.007e+03</td>\n",
              "      <td>0.0</td>\n",
              "      <td>NaN</td>\n",
              "      <td>Prosumer</td>\n",
              "      <td>0.9986</td>\n",
              "      <td>0.9986</td>\n",
              "      <td>5.47e+03</td>\n",
              "      <td>2.671e+05</td>\n",
              "      <td>0.0</td>\n",
              "      <td>2.726e+05</td>\n",
              "    </tr>\n",
              "    <tr>\n",
              "      <th>2</th>\n",
              "      <td>Idroelettrico</td>\n",
              "      <td>0.0</td>\n",
              "      <td>0.0</td>\n",
              "      <td>0.0</td>\n",
              "      <td>4.129e+03</td>\n",
              "      <td>0.0</td>\n",
              "      <td>0.0</td>\n",
              "      <td>0.0</td>\n",
              "      <td>1.376e+03</td>\n",
              "      <td>-1.101</td>\n",
              "      <td>...</td>\n",
              "      <td>1.041e+05</td>\n",
              "      <td>0.0</td>\n",
              "      <td>NaN</td>\n",
              "      <td>Produttore</td>\n",
              "      <td>0.0</td>\n",
              "      <td>0.0</td>\n",
              "      <td>289.0</td>\n",
              "      <td>0.0</td>\n",
              "      <td>371.6</td>\n",
              "      <td>660.6</td>\n",
              "    </tr>\n",
              "    <tr>\n",
              "      <th>3</th>\n",
              "      <td>Produttore</td>\n",
              "      <td>NaN</td>\n",
              "      <td>0.0</td>\n",
              "      <td>NaN</td>\n",
              "      <td>-2.836e+06</td>\n",
              "      <td>NaN</td>\n",
              "      <td>NaN</td>\n",
              "      <td>0.0</td>\n",
              "      <td>-2.836e+06</td>\n",
              "      <td>-2.269e+03</td>\n",
              "      <td>...</td>\n",
              "      <td>0.0</td>\n",
              "      <td>0.9547</td>\n",
              "      <td>-2.269e+03</td>\n",
              "      <td>Produttore</td>\n",
              "      <td>0.0</td>\n",
              "      <td>0.0</td>\n",
              "      <td>944.2</td>\n",
              "      <td>0.0</td>\n",
              "      <td>0.0</td>\n",
              "      <td>944.2</td>\n",
              "    </tr>\n",
              "  </tbody>\n",
              "</table>\n",
              "<p>4 rows × 22 columns</p>\n",
              "</div>\n",
              "      <button class=\"colab-df-convert\" onclick=\"convertToInteractive('df-b144c114-0bde-4679-9f54-41052251cc50')\"\n",
              "              title=\"Convert this dataframe to an interactive table.\"\n",
              "              style=\"display:none;\">\n",
              "        \n",
              "  <svg xmlns=\"http://www.w3.org/2000/svg\" height=\"24px\"viewBox=\"0 0 24 24\"\n",
              "       width=\"24px\">\n",
              "    <path d=\"M0 0h24v24H0V0z\" fill=\"none\"/>\n",
              "    <path d=\"M18.56 5.44l.94 2.06.94-2.06 2.06-.94-2.06-.94-.94-2.06-.94 2.06-2.06.94zm-11 1L8.5 8.5l.94-2.06 2.06-.94-2.06-.94L8.5 2.5l-.94 2.06-2.06.94zm10 10l.94 2.06.94-2.06 2.06-.94-2.06-.94-.94-2.06-.94 2.06-2.06.94z\"/><path d=\"M17.41 7.96l-1.37-1.37c-.4-.4-.92-.59-1.43-.59-.52 0-1.04.2-1.43.59L10.3 9.45l-7.72 7.72c-.78.78-.78 2.05 0 2.83L4 21.41c.39.39.9.59 1.41.59.51 0 1.02-.2 1.41-.59l7.78-7.78 2.81-2.81c.8-.78.8-2.07 0-2.86zM5.41 20L4 18.59l7.72-7.72 1.47 1.35L5.41 20z\"/>\n",
              "  </svg>\n",
              "      </button>\n",
              "      \n",
              "  <style>\n",
              "    .colab-df-container {\n",
              "      display:flex;\n",
              "      flex-wrap:wrap;\n",
              "      gap: 12px;\n",
              "    }\n",
              "\n",
              "    .colab-df-convert {\n",
              "      background-color: #E8F0FE;\n",
              "      border: none;\n",
              "      border-radius: 50%;\n",
              "      cursor: pointer;\n",
              "      display: none;\n",
              "      fill: #1967D2;\n",
              "      height: 32px;\n",
              "      padding: 0 0 0 0;\n",
              "      width: 32px;\n",
              "    }\n",
              "\n",
              "    .colab-df-convert:hover {\n",
              "      background-color: #E2EBFA;\n",
              "      box-shadow: 0px 1px 2px rgba(60, 64, 67, 0.3), 0px 1px 3px 1px rgba(60, 64, 67, 0.15);\n",
              "      fill: #174EA6;\n",
              "    }\n",
              "\n",
              "    [theme=dark] .colab-df-convert {\n",
              "      background-color: #3B4455;\n",
              "      fill: #D2E3FC;\n",
              "    }\n",
              "\n",
              "    [theme=dark] .colab-df-convert:hover {\n",
              "      background-color: #434B5C;\n",
              "      box-shadow: 0px 1px 3px 1px rgba(0, 0, 0, 0.15);\n",
              "      filter: drop-shadow(0px 1px 2px rgba(0, 0, 0, 0.3));\n",
              "      fill: #FFFFFF;\n",
              "    }\n",
              "  </style>\n",
              "\n",
              "      <script>\n",
              "        const buttonEl =\n",
              "          document.querySelector('#df-b144c114-0bde-4679-9f54-41052251cc50 button.colab-df-convert');\n",
              "        buttonEl.style.display =\n",
              "          google.colab.kernel.accessAllowed ? 'block' : 'none';\n",
              "\n",
              "        async function convertToInteractive(key) {\n",
              "          const element = document.querySelector('#df-b144c114-0bde-4679-9f54-41052251cc50');\n",
              "          const dataTable =\n",
              "            await google.colab.kernel.invokeFunction('convertToInteractive',\n",
              "                                                     [key], {});\n",
              "          if (!dataTable) return;\n",
              "\n",
              "          const docLinkHtml = 'Like what you see? Visit the ' +\n",
              "            '<a target=\"_blank\" href=https://colab.research.google.com/notebooks/data_table.ipynb>data table notebook</a>'\n",
              "            + ' to learn more about interactive tables.';\n",
              "          element.innerHTML = '';\n",
              "          dataTable['output_type'] = 'display_data';\n",
              "          await google.colab.output.renderOutput(dataTable, element);\n",
              "          const docLink = document.createElement('div');\n",
              "          docLink.innerHTML = docLinkHtml;\n",
              "          element.appendChild(docLink);\n",
              "        }\n",
              "      </script>\n",
              "    </div>\n",
              "  </div>\n",
              "  "
            ]
          },
          "metadata": {},
          "execution_count": 141
        }
      ]
    },
    {
      "cell_type": "code",
      "metadata": {
        "id": "fjSwRb2QL8TY",
        "colab": {
          "base_uri": "https://localhost:8080/"
        },
        "outputId": "b2d8b160-a034-4f80-f021-551d0557a9a2"
      },
      "source": [
        "Costo_Totale_Impianti = df_finale[df_finale['Categoria']=='Produttore']['Costo Impianto Potenziale'].sum()\n",
        "Costo_Totale_Impianti"
      ],
      "execution_count": null,
      "outputs": [
        {
          "output_type": "execute_result",
          "data": {
            "text/plain": [
              "-2722368.675199999"
            ]
          },
          "metadata": {},
          "execution_count": 142
        }
      ]
    },
    {
      "cell_type": "markdown",
      "metadata": {
        "id": "42jJpM5uZSqt"
      },
      "source": [
        "Costi di Funzionamento = commissione + costo architettura + rimborso quota impianti a produttori"
      ]
    },
    {
      "cell_type": "code",
      "metadata": {
        "id": "O3mcMr_KDNmb"
      },
      "source": [
        "Costi_Di_Funzionamento = (Commissione * numero_partecipanti) + ((Architettura_CER * numero_partecipanti)/Tempo_Ammortamento_Architettura) #Sarebbero da considerare separati\n",
        "Costi_Di_Impianto = (Costo_Totale_Impianti*Ammortamento_Impianto_Fotovoltaico/Tempo_Ammortamento_Fotovoltaico)\n",
        "\n",
        "\n",
        "Costi_Di_Funzionamento_Produttore = ( (Costi_Di_Funzionamento)/numero_partecipanti ) * numero_produttori\n",
        "Costi_Di_Funzionamento_Consumer = ((Costi_Di_Funzionamento-Costi_Di_Funzionamento_Produttore))"
      ],
      "execution_count": null,
      "outputs": []
    },
    {
      "cell_type": "code",
      "metadata": {
        "id": "HsgzVOoUeIY-",
        "colab": {
          "base_uri": "https://localhost:8080/"
        },
        "outputId": "b03cd6d1-d926-4886-f382-0565e2dcd4ee"
      },
      "source": [
        "print('Costi funzionamento + Impianto: '+str(Costi_Di_Funzionamento+Costi_Di_Impianto))\n",
        "print('Costi di funzionamento consumer: '+str(Costi_Di_Funzionamento_Consumer))\n",
        "print('Costi di funzionamento produttore: '+str(Costi_Di_Funzionamento_Produttore))\n"
      ],
      "execution_count": null,
      "outputs": [
        {
          "output_type": "stream",
          "name": "stdout",
          "text": [
            "Costi funzionamento + Impianto: 444.0\n",
            "Costi di funzionamento consumer: 148.0\n",
            "Costi di funzionamento produttore: 296.0\n"
          ]
        }
      ]
    },
    {
      "cell_type": "code",
      "metadata": {
        "id": "mbQo4Q1uUKCw",
        "colab": {
          "base_uri": "https://localhost:8080/"
        },
        "outputId": "7dd2bd35-8e03-4bc3-88c6-b86508638bd4"
      },
      "source": [
        "Trattenute_Incentivi = Incentivo_Costi_Gestione\n",
        "Trattenute_Incentivi"
      ],
      "execution_count": null,
      "outputs": [
        {
          "output_type": "execute_result",
          "data": {
            "text/plain": [
              "1602.5182600000044"
            ]
          },
          "metadata": {},
          "execution_count": 145
        }
      ]
    },
    {
      "cell_type": "markdown",
      "metadata": {
        "id": "2pkte-7bZisE"
      },
      "source": [
        "Bilancio Economico CER"
      ]
    },
    {
      "cell_type": "code",
      "metadata": {
        "id": "2PjTjn9CW4nW",
        "colab": {
          "base_uri": "https://localhost:8080/"
        },
        "outputId": "1d4f1480-32f4-4eda-c8af-f9e466ee9402"
      },
      "source": [
        "Margine_CER = Incentivo_Attribuibile - Costi_Di_Funzionamento - Costi_Di_Impianto\n",
        "Margine_CER"
      ],
      "execution_count": null,
      "outputs": [
        {
          "output_type": "execute_result",
          "data": {
            "text/plain": [
              "13718.537340000039"
            ]
          },
          "metadata": {},
          "execution_count": 146
        }
      ]
    },
    {
      "cell_type": "code",
      "metadata": {
        "id": "WGbdKYEfKOhC",
        "colab": {
          "base_uri": "https://localhost:8080/"
        },
        "outputId": "b4dd2086-7e95-4677-da93-a3fec8b68498"
      },
      "source": [
        "Bilancio_Economico_CER = Flussi_Di_Cassa_CER - Costi_Di_Funzionamento - Costi_Di_Impianto - Trattenute_Incentivi\n",
        "Bilancio_Economico_CER"
      ],
      "execution_count": null,
      "outputs": [
        {
          "output_type": "execute_result",
          "data": {
            "text/plain": [
              "281477.07204000006"
            ]
          },
          "metadata": {},
          "execution_count": 147
        }
      ]
    },
    {
      "cell_type": "code",
      "metadata": {
        "id": "dDRCdk_s-LaD",
        "colab": {
          "base_uri": "https://localhost:8080/"
        },
        "outputId": "8e2bebbc-68b9-46cd-abfd-24be187edb65"
      },
      "source": [
        "df_finale[df_finale['Identificativo']!='Produttore']['Incentivo Condivisione'].sum()"
      ],
      "execution_count": null,
      "outputs": [
        {
          "output_type": "execute_result",
          "data": {
            "text/plain": [
              "7017.56684532546"
            ]
          },
          "metadata": {},
          "execution_count": 148
        }
      ]
    },
    {
      "cell_type": "markdown",
      "metadata": {
        "id": "hbv-e740Ga3F"
      },
      "source": [
        "Calcolo tempo di rientro degli investimenti impianti"
      ]
    },
    {
      "cell_type": "code",
      "source": [
        "# Entrata annuale per il produttore fotovoltaico derivante dall'ammortamento della percentuale dell'impianto sui componenti della CE\n",
        "df_finale['Rata CER Impianto'] = df_finale.apply(lambda x: ( (x['Costo Impianto Potenziale']*(Ammortamento_Impianto_Fotovoltaico)/Tempo_Ammortamento_Fotovoltaico) ) if ((x[\"Categoria\"] == 'Produttore') and x['Identificativo'] != 'Idroelettrico')  else (0) , axis =1)\n",
        "\n",
        "# Ripartisco i costi di funzionamento della CE: Produttore paga i costi di funzionamento produttore, I consumer pagano i costi di funzionamento consumer, Idroelettrico non paga nulla\n",
        "df_finale['Costi Funzionamento CER'] = df_finale.apply(lambda x: (0) if (x['Identificativo'] == 'Idroelettrico') else ( (Costi_Di_Funzionamento_Produttore/numero_produttori) if (x['Categoria'] == 'Produttore') else ( Costi_Di_Funzionamento_Consumer *( x['Incentivo Condivisione'] / df_finale[df_finale['Identificativo']!='Produttore']['Incentivo Condivisione'].sum())) ), axis = 1)\n",
        "\n",
        "# Ripartisco i costi di Impianto fra i membri della CE (0 per produttore perché non può pagarsi il suo impianto e proporzionale all'incentivo di condivisione per gli altri membri)\n",
        "df_finale['Contributo Alla Produzione'] = df_finale.apply(lambda x: ( ( 0 ) ) if ((x[\"Categoria\"] == 'Produttore'))  else ( Costi_Di_Impianto *( x['Incentivo Condivisione'] / (df_finale[df_finale['Identificativo']!='Produttore']['Incentivo Condivisione'].sum()) )) , axis =1)\n",
        "# \n",
        "df_finale['Rientro Investimento Impianto'] = df_finale.apply(lambda x: ( (x['Costo Impianto Potenziale']) / (x['Incentivo Condivisione'] + x['Ritiro Dedicato'] + x['Rata CER Impianto'] - x['Costi Funzionamento CER']) ) if ((x[\"Categoria\"] == 'Produttore') & (x['Identificativo'] != 'Idroelettrico'))  else (0) , axis =1)\n",
        "\n",
        "df_finale['Beneficio Economico Totale'] = df_finale.apply(lambda x: ( x['Incentivo Totale'] + x['Rata CER Impianto'] - x['Costi Funzionamento CER']) if (x[\"Categoria\"] == 'Produttore')  else (x['Vendita Energia Idroelettrico'] + x['Incentivo Condivisione'] if x['Identificativo'] == 'Idroelettrico' else (x['Incentivo Totale'] - x['Costi Funzionamento CER'] - x['Contributo Alla Produzione'])) , axis =1)\n",
        "\n",
        "# Calcolo proporzione pagamento incentivo condivisione per calcolare quanto uno paga il gestore della cer (% sulle trattenute incentivo condivisione)\n",
        "inc_cond_no_prod = df_finale[df_finale['Categoria'] != 'Produttore']['Incentivo Condivisione'].sum() #totale incentivo condivisione, produttore escluso\n",
        "df_finale['Percentuale Trattenuta Incentivo Condivisione'] = df_finale.apply(lambda x: ( ( x['Incentivo Condivisione'] / inc_cond_no_prod ) if (x['Categoria'] != 'Produttore') else (0) ), axis =1) #percentuale incentivo condivisione del singolo utente sul totale \n",
        "df_finale['Trattenuta Incentivo Condivisione'] = df_finale.apply(lambda x: ( (  Trattenute_Incentivi *(x['Percentuale Trattenuta Incentivo Condivisione'] )) ), axis =1) #Calcolo quanto un utente deve fornire al produttore per il contributo alla produzione proporzionalmente all'incentivo condivisione percepito\n",
        "\n",
        "df_finale.drop(columns = ['Rata CER Impianto'])"
      ],
      "metadata": {
        "id": "JbnzaF85z8I6",
        "colab": {
          "base_uri": "https://localhost:8080/",
          "height": 320
        },
        "outputId": "129311c0-57d9-40b7-c832-f0150cc3aea2"
      },
      "execution_count": null,
      "outputs": [
        {
          "output_type": "execute_result",
          "data": {
            "text/plain": [
              "  Identificativo  Potenza Da Installare  Somma Fascia 1  Somma Fascia 2  \\\n",
              "0              A                   16.0       1.157e+05        6.27e+04   \n",
              "1              B                  2e+03       9.322e+04       9.829e+04   \n",
              "2  Idroelettrico                    0.0             0.0             0.0   \n",
              "3     Produttore                    NaN             0.0             NaN   \n",
              "\n",
              "   Somma Immissione  Somma Autoconsumo  Somma Produzione Aggiuntiva  \\\n",
              "0         4.129e+03                0.0                    2.507e+04   \n",
              "1         2.968e+06          1.129e+05                    3.081e+06   \n",
              "2         4.129e+03                0.0                          0.0   \n",
              "3        -2.836e+06                NaN                          NaN   \n",
              "\n",
              "   Consumo Per Fotovoltaico  Differenza  Taglia Impianto Potenziale  ...  \\\n",
              "0                 1.388e+05  -1.347e+05                       107.7  ...   \n",
              "1                -1.014e+03   2.969e+06                  -2.375e+03  ...   \n",
              "2                       0.0   1.376e+03                      -1.101  ...   \n",
              "3                       0.0  -2.836e+06                  -2.269e+03  ...   \n",
              "\n",
              "   Incentivo Condivisione  Ritiro Dedicato  Vendita Energia Idroelettrico  \\\n",
              "0               1.259e+03            371.6                            0.0   \n",
              "1                5.47e+03        2.671e+05                            0.0   \n",
              "2                   289.0              0.0                          371.6   \n",
              "3                   944.2              0.0                            0.0   \n",
              "\n",
              "   Incentivo Totale  Costi Funzionamento CER Contributo Alla Produzione  \\\n",
              "0          1.63e+03                    26.54                       -0.0   \n",
              "1         2.726e+05                    115.4                       -0.0   \n",
              "2             660.6                      0.0                        0.0   \n",
              "3             944.2                    148.0                        0.0   \n",
              "\n",
              "   Rientro Investimento Impianto  Beneficio Economico Totale  \\\n",
              "0                            0.0                   1.604e+03   \n",
              "1                            0.0                   2.725e+05   \n",
              "2                            0.0                       660.6   \n",
              "3                     -3.419e+03                       796.2   \n",
              "\n",
              "   Percentuale Trattenuta Incentivo Condivisione  \\\n",
              "0                                         0.1871   \n",
              "1                                         0.8129   \n",
              "2                                            0.0   \n",
              "3                                            0.0   \n",
              "\n",
              "   Trattenuta Incentivo Condivisione  \n",
              "0                              299.8  \n",
              "1                          1.303e+03  \n",
              "2                                0.0  \n",
              "3                                0.0  \n",
              "\n",
              "[4 rows x 28 columns]"
            ],
            "text/html": [
              "\n",
              "  <div id=\"df-1167138b-3b67-40ef-98d3-9f6c5c8b8c27\">\n",
              "    <div class=\"colab-df-container\">\n",
              "      <div>\n",
              "<style scoped>\n",
              "    .dataframe tbody tr th:only-of-type {\n",
              "        vertical-align: middle;\n",
              "    }\n",
              "\n",
              "    .dataframe tbody tr th {\n",
              "        vertical-align: top;\n",
              "    }\n",
              "\n",
              "    .dataframe thead th {\n",
              "        text-align: right;\n",
              "    }\n",
              "</style>\n",
              "<table border=\"1\" class=\"dataframe\">\n",
              "  <thead>\n",
              "    <tr style=\"text-align: right;\">\n",
              "      <th></th>\n",
              "      <th>Identificativo</th>\n",
              "      <th>Potenza Da Installare</th>\n",
              "      <th>Somma Fascia 1</th>\n",
              "      <th>Somma Fascia 2</th>\n",
              "      <th>Somma Immissione</th>\n",
              "      <th>Somma Autoconsumo</th>\n",
              "      <th>Somma Produzione Aggiuntiva</th>\n",
              "      <th>Consumo Per Fotovoltaico</th>\n",
              "      <th>Differenza</th>\n",
              "      <th>Taglia Impianto Potenziale</th>\n",
              "      <th>...</th>\n",
              "      <th>Incentivo Condivisione</th>\n",
              "      <th>Ritiro Dedicato</th>\n",
              "      <th>Vendita Energia Idroelettrico</th>\n",
              "      <th>Incentivo Totale</th>\n",
              "      <th>Costi Funzionamento CER</th>\n",
              "      <th>Contributo Alla Produzione</th>\n",
              "      <th>Rientro Investimento Impianto</th>\n",
              "      <th>Beneficio Economico Totale</th>\n",
              "      <th>Percentuale Trattenuta Incentivo Condivisione</th>\n",
              "      <th>Trattenuta Incentivo Condivisione</th>\n",
              "    </tr>\n",
              "  </thead>\n",
              "  <tbody>\n",
              "    <tr>\n",
              "      <th>0</th>\n",
              "      <td>A</td>\n",
              "      <td>16.0</td>\n",
              "      <td>1.157e+05</td>\n",
              "      <td>6.27e+04</td>\n",
              "      <td>4.129e+03</td>\n",
              "      <td>0.0</td>\n",
              "      <td>2.507e+04</td>\n",
              "      <td>1.388e+05</td>\n",
              "      <td>-1.347e+05</td>\n",
              "      <td>107.7</td>\n",
              "      <td>...</td>\n",
              "      <td>1.259e+03</td>\n",
              "      <td>371.6</td>\n",
              "      <td>0.0</td>\n",
              "      <td>1.63e+03</td>\n",
              "      <td>26.54</td>\n",
              "      <td>-0.0</td>\n",
              "      <td>0.0</td>\n",
              "      <td>1.604e+03</td>\n",
              "      <td>0.1871</td>\n",
              "      <td>299.8</td>\n",
              "    </tr>\n",
              "    <tr>\n",
              "      <th>1</th>\n",
              "      <td>B</td>\n",
              "      <td>2e+03</td>\n",
              "      <td>9.322e+04</td>\n",
              "      <td>9.829e+04</td>\n",
              "      <td>2.968e+06</td>\n",
              "      <td>1.129e+05</td>\n",
              "      <td>3.081e+06</td>\n",
              "      <td>-1.014e+03</td>\n",
              "      <td>2.969e+06</td>\n",
              "      <td>-2.375e+03</td>\n",
              "      <td>...</td>\n",
              "      <td>5.47e+03</td>\n",
              "      <td>2.671e+05</td>\n",
              "      <td>0.0</td>\n",
              "      <td>2.726e+05</td>\n",
              "      <td>115.4</td>\n",
              "      <td>-0.0</td>\n",
              "      <td>0.0</td>\n",
              "      <td>2.725e+05</td>\n",
              "      <td>0.8129</td>\n",
              "      <td>1.303e+03</td>\n",
              "    </tr>\n",
              "    <tr>\n",
              "      <th>2</th>\n",
              "      <td>Idroelettrico</td>\n",
              "      <td>0.0</td>\n",
              "      <td>0.0</td>\n",
              "      <td>0.0</td>\n",
              "      <td>4.129e+03</td>\n",
              "      <td>0.0</td>\n",
              "      <td>0.0</td>\n",
              "      <td>0.0</td>\n",
              "      <td>1.376e+03</td>\n",
              "      <td>-1.101</td>\n",
              "      <td>...</td>\n",
              "      <td>289.0</td>\n",
              "      <td>0.0</td>\n",
              "      <td>371.6</td>\n",
              "      <td>660.6</td>\n",
              "      <td>0.0</td>\n",
              "      <td>0.0</td>\n",
              "      <td>0.0</td>\n",
              "      <td>660.6</td>\n",
              "      <td>0.0</td>\n",
              "      <td>0.0</td>\n",
              "    </tr>\n",
              "    <tr>\n",
              "      <th>3</th>\n",
              "      <td>Produttore</td>\n",
              "      <td>NaN</td>\n",
              "      <td>0.0</td>\n",
              "      <td>NaN</td>\n",
              "      <td>-2.836e+06</td>\n",
              "      <td>NaN</td>\n",
              "      <td>NaN</td>\n",
              "      <td>0.0</td>\n",
              "      <td>-2.836e+06</td>\n",
              "      <td>-2.269e+03</td>\n",
              "      <td>...</td>\n",
              "      <td>944.2</td>\n",
              "      <td>0.0</td>\n",
              "      <td>0.0</td>\n",
              "      <td>944.2</td>\n",
              "      <td>148.0</td>\n",
              "      <td>0.0</td>\n",
              "      <td>-3.419e+03</td>\n",
              "      <td>796.2</td>\n",
              "      <td>0.0</td>\n",
              "      <td>0.0</td>\n",
              "    </tr>\n",
              "  </tbody>\n",
              "</table>\n",
              "<p>4 rows × 28 columns</p>\n",
              "</div>\n",
              "      <button class=\"colab-df-convert\" onclick=\"convertToInteractive('df-1167138b-3b67-40ef-98d3-9f6c5c8b8c27')\"\n",
              "              title=\"Convert this dataframe to an interactive table.\"\n",
              "              style=\"display:none;\">\n",
              "        \n",
              "  <svg xmlns=\"http://www.w3.org/2000/svg\" height=\"24px\"viewBox=\"0 0 24 24\"\n",
              "       width=\"24px\">\n",
              "    <path d=\"M0 0h24v24H0V0z\" fill=\"none\"/>\n",
              "    <path d=\"M18.56 5.44l.94 2.06.94-2.06 2.06-.94-2.06-.94-.94-2.06-.94 2.06-2.06.94zm-11 1L8.5 8.5l.94-2.06 2.06-.94-2.06-.94L8.5 2.5l-.94 2.06-2.06.94zm10 10l.94 2.06.94-2.06 2.06-.94-2.06-.94-.94-2.06-.94 2.06-2.06.94z\"/><path d=\"M17.41 7.96l-1.37-1.37c-.4-.4-.92-.59-1.43-.59-.52 0-1.04.2-1.43.59L10.3 9.45l-7.72 7.72c-.78.78-.78 2.05 0 2.83L4 21.41c.39.39.9.59 1.41.59.51 0 1.02-.2 1.41-.59l7.78-7.78 2.81-2.81c.8-.78.8-2.07 0-2.86zM5.41 20L4 18.59l7.72-7.72 1.47 1.35L5.41 20z\"/>\n",
              "  </svg>\n",
              "      </button>\n",
              "      \n",
              "  <style>\n",
              "    .colab-df-container {\n",
              "      display:flex;\n",
              "      flex-wrap:wrap;\n",
              "      gap: 12px;\n",
              "    }\n",
              "\n",
              "    .colab-df-convert {\n",
              "      background-color: #E8F0FE;\n",
              "      border: none;\n",
              "      border-radius: 50%;\n",
              "      cursor: pointer;\n",
              "      display: none;\n",
              "      fill: #1967D2;\n",
              "      height: 32px;\n",
              "      padding: 0 0 0 0;\n",
              "      width: 32px;\n",
              "    }\n",
              "\n",
              "    .colab-df-convert:hover {\n",
              "      background-color: #E2EBFA;\n",
              "      box-shadow: 0px 1px 2px rgba(60, 64, 67, 0.3), 0px 1px 3px 1px rgba(60, 64, 67, 0.15);\n",
              "      fill: #174EA6;\n",
              "    }\n",
              "\n",
              "    [theme=dark] .colab-df-convert {\n",
              "      background-color: #3B4455;\n",
              "      fill: #D2E3FC;\n",
              "    }\n",
              "\n",
              "    [theme=dark] .colab-df-convert:hover {\n",
              "      background-color: #434B5C;\n",
              "      box-shadow: 0px 1px 3px 1px rgba(0, 0, 0, 0.15);\n",
              "      filter: drop-shadow(0px 1px 2px rgba(0, 0, 0, 0.3));\n",
              "      fill: #FFFFFF;\n",
              "    }\n",
              "  </style>\n",
              "\n",
              "      <script>\n",
              "        const buttonEl =\n",
              "          document.querySelector('#df-1167138b-3b67-40ef-98d3-9f6c5c8b8c27 button.colab-df-convert');\n",
              "        buttonEl.style.display =\n",
              "          google.colab.kernel.accessAllowed ? 'block' : 'none';\n",
              "\n",
              "        async function convertToInteractive(key) {\n",
              "          const element = document.querySelector('#df-1167138b-3b67-40ef-98d3-9f6c5c8b8c27');\n",
              "          const dataTable =\n",
              "            await google.colab.kernel.invokeFunction('convertToInteractive',\n",
              "                                                     [key], {});\n",
              "          if (!dataTable) return;\n",
              "\n",
              "          const docLinkHtml = 'Like what you see? Visit the ' +\n",
              "            '<a target=\"_blank\" href=https://colab.research.google.com/notebooks/data_table.ipynb>data table notebook</a>'\n",
              "            + ' to learn more about interactive tables.';\n",
              "          element.innerHTML = '';\n",
              "          dataTable['output_type'] = 'display_data';\n",
              "          await google.colab.output.renderOutput(dataTable, element);\n",
              "          const docLink = document.createElement('div');\n",
              "          docLink.innerHTML = docLinkHtml;\n",
              "          element.appendChild(docLink);\n",
              "        }\n",
              "      </script>\n",
              "    </div>\n",
              "  </div>\n",
              "  "
            ]
          },
          "metadata": {},
          "execution_count": 149
        }
      ]
    },
    {
      "cell_type": "code",
      "source": [
        "df_finale"
      ],
      "metadata": {
        "id": "PlyrVd4u6wfR",
        "colab": {
          "base_uri": "https://localhost:8080/",
          "height": 320
        },
        "outputId": "730e9253-612b-40cf-8ea0-5514363c06f5"
      },
      "execution_count": null,
      "outputs": [
        {
          "output_type": "execute_result",
          "data": {
            "text/plain": [
              "  Identificativo  Potenza Da Installare  Somma Fascia 1  Somma Fascia 2  \\\n",
              "0              A                   16.0       1.157e+05        6.27e+04   \n",
              "1              B                  2e+03       9.322e+04       9.829e+04   \n",
              "2  Idroelettrico                    0.0             0.0             0.0   \n",
              "3     Produttore                    NaN             0.0             NaN   \n",
              "\n",
              "   Somma Immissione  Somma Autoconsumo  Somma Produzione Aggiuntiva  \\\n",
              "0         4.129e+03                0.0                    2.507e+04   \n",
              "1         2.968e+06          1.129e+05                    3.081e+06   \n",
              "2         4.129e+03                0.0                          0.0   \n",
              "3        -2.836e+06                NaN                          NaN   \n",
              "\n",
              "   Consumo Per Fotovoltaico  Differenza  Taglia Impianto Potenziale  ...  \\\n",
              "0                 1.388e+05  -1.347e+05                       107.7  ...   \n",
              "1                -1.014e+03   2.969e+06                  -2.375e+03  ...   \n",
              "2                       0.0   1.376e+03                      -1.101  ...   \n",
              "3                       0.0  -2.836e+06                  -2.269e+03  ...   \n",
              "\n",
              "   Ritiro Dedicato  Vendita Energia Idroelettrico  Incentivo Totale  \\\n",
              "0            371.6                            0.0          1.63e+03   \n",
              "1        2.671e+05                            0.0         2.726e+05   \n",
              "2              0.0                          371.6             660.6   \n",
              "3              0.0                            0.0             944.2   \n",
              "\n",
              "   Rata CER Impianto  Costi Funzionamento CER Contributo Alla Produzione  \\\n",
              "0                0.0                    26.54                       -0.0   \n",
              "1                0.0                    115.4                       -0.0   \n",
              "2                0.0                      0.0                        0.0   \n",
              "3               -0.0                    148.0                        0.0   \n",
              "\n",
              "   Rientro Investimento Impianto  Beneficio Economico Totale  \\\n",
              "0                            0.0                   1.604e+03   \n",
              "1                            0.0                   2.725e+05   \n",
              "2                            0.0                       660.6   \n",
              "3                     -3.419e+03                       796.2   \n",
              "\n",
              "   Percentuale Trattenuta Incentivo Condivisione  \\\n",
              "0                                         0.1871   \n",
              "1                                         0.8129   \n",
              "2                                            0.0   \n",
              "3                                            0.0   \n",
              "\n",
              "   Trattenuta Incentivo Condivisione  \n",
              "0                              299.8  \n",
              "1                          1.303e+03  \n",
              "2                                0.0  \n",
              "3                                0.0  \n",
              "\n",
              "[4 rows x 29 columns]"
            ],
            "text/html": [
              "\n",
              "  <div id=\"df-ba1090aa-29da-4c8e-97a8-e41041fd6905\">\n",
              "    <div class=\"colab-df-container\">\n",
              "      <div>\n",
              "<style scoped>\n",
              "    .dataframe tbody tr th:only-of-type {\n",
              "        vertical-align: middle;\n",
              "    }\n",
              "\n",
              "    .dataframe tbody tr th {\n",
              "        vertical-align: top;\n",
              "    }\n",
              "\n",
              "    .dataframe thead th {\n",
              "        text-align: right;\n",
              "    }\n",
              "</style>\n",
              "<table border=\"1\" class=\"dataframe\">\n",
              "  <thead>\n",
              "    <tr style=\"text-align: right;\">\n",
              "      <th></th>\n",
              "      <th>Identificativo</th>\n",
              "      <th>Potenza Da Installare</th>\n",
              "      <th>Somma Fascia 1</th>\n",
              "      <th>Somma Fascia 2</th>\n",
              "      <th>Somma Immissione</th>\n",
              "      <th>Somma Autoconsumo</th>\n",
              "      <th>Somma Produzione Aggiuntiva</th>\n",
              "      <th>Consumo Per Fotovoltaico</th>\n",
              "      <th>Differenza</th>\n",
              "      <th>Taglia Impianto Potenziale</th>\n",
              "      <th>...</th>\n",
              "      <th>Ritiro Dedicato</th>\n",
              "      <th>Vendita Energia Idroelettrico</th>\n",
              "      <th>Incentivo Totale</th>\n",
              "      <th>Rata CER Impianto</th>\n",
              "      <th>Costi Funzionamento CER</th>\n",
              "      <th>Contributo Alla Produzione</th>\n",
              "      <th>Rientro Investimento Impianto</th>\n",
              "      <th>Beneficio Economico Totale</th>\n",
              "      <th>Percentuale Trattenuta Incentivo Condivisione</th>\n",
              "      <th>Trattenuta Incentivo Condivisione</th>\n",
              "    </tr>\n",
              "  </thead>\n",
              "  <tbody>\n",
              "    <tr>\n",
              "      <th>0</th>\n",
              "      <td>A</td>\n",
              "      <td>16.0</td>\n",
              "      <td>1.157e+05</td>\n",
              "      <td>6.27e+04</td>\n",
              "      <td>4.129e+03</td>\n",
              "      <td>0.0</td>\n",
              "      <td>2.507e+04</td>\n",
              "      <td>1.388e+05</td>\n",
              "      <td>-1.347e+05</td>\n",
              "      <td>107.7</td>\n",
              "      <td>...</td>\n",
              "      <td>371.6</td>\n",
              "      <td>0.0</td>\n",
              "      <td>1.63e+03</td>\n",
              "      <td>0.0</td>\n",
              "      <td>26.54</td>\n",
              "      <td>-0.0</td>\n",
              "      <td>0.0</td>\n",
              "      <td>1.604e+03</td>\n",
              "      <td>0.1871</td>\n",
              "      <td>299.8</td>\n",
              "    </tr>\n",
              "    <tr>\n",
              "      <th>1</th>\n",
              "      <td>B</td>\n",
              "      <td>2e+03</td>\n",
              "      <td>9.322e+04</td>\n",
              "      <td>9.829e+04</td>\n",
              "      <td>2.968e+06</td>\n",
              "      <td>1.129e+05</td>\n",
              "      <td>3.081e+06</td>\n",
              "      <td>-1.014e+03</td>\n",
              "      <td>2.969e+06</td>\n",
              "      <td>-2.375e+03</td>\n",
              "      <td>...</td>\n",
              "      <td>2.671e+05</td>\n",
              "      <td>0.0</td>\n",
              "      <td>2.726e+05</td>\n",
              "      <td>0.0</td>\n",
              "      <td>115.4</td>\n",
              "      <td>-0.0</td>\n",
              "      <td>0.0</td>\n",
              "      <td>2.725e+05</td>\n",
              "      <td>0.8129</td>\n",
              "      <td>1.303e+03</td>\n",
              "    </tr>\n",
              "    <tr>\n",
              "      <th>2</th>\n",
              "      <td>Idroelettrico</td>\n",
              "      <td>0.0</td>\n",
              "      <td>0.0</td>\n",
              "      <td>0.0</td>\n",
              "      <td>4.129e+03</td>\n",
              "      <td>0.0</td>\n",
              "      <td>0.0</td>\n",
              "      <td>0.0</td>\n",
              "      <td>1.376e+03</td>\n",
              "      <td>-1.101</td>\n",
              "      <td>...</td>\n",
              "      <td>0.0</td>\n",
              "      <td>371.6</td>\n",
              "      <td>660.6</td>\n",
              "      <td>0.0</td>\n",
              "      <td>0.0</td>\n",
              "      <td>0.0</td>\n",
              "      <td>0.0</td>\n",
              "      <td>660.6</td>\n",
              "      <td>0.0</td>\n",
              "      <td>0.0</td>\n",
              "    </tr>\n",
              "    <tr>\n",
              "      <th>3</th>\n",
              "      <td>Produttore</td>\n",
              "      <td>NaN</td>\n",
              "      <td>0.0</td>\n",
              "      <td>NaN</td>\n",
              "      <td>-2.836e+06</td>\n",
              "      <td>NaN</td>\n",
              "      <td>NaN</td>\n",
              "      <td>0.0</td>\n",
              "      <td>-2.836e+06</td>\n",
              "      <td>-2.269e+03</td>\n",
              "      <td>...</td>\n",
              "      <td>0.0</td>\n",
              "      <td>0.0</td>\n",
              "      <td>944.2</td>\n",
              "      <td>-0.0</td>\n",
              "      <td>148.0</td>\n",
              "      <td>0.0</td>\n",
              "      <td>-3.419e+03</td>\n",
              "      <td>796.2</td>\n",
              "      <td>0.0</td>\n",
              "      <td>0.0</td>\n",
              "    </tr>\n",
              "  </tbody>\n",
              "</table>\n",
              "<p>4 rows × 29 columns</p>\n",
              "</div>\n",
              "      <button class=\"colab-df-convert\" onclick=\"convertToInteractive('df-ba1090aa-29da-4c8e-97a8-e41041fd6905')\"\n",
              "              title=\"Convert this dataframe to an interactive table.\"\n",
              "              style=\"display:none;\">\n",
              "        \n",
              "  <svg xmlns=\"http://www.w3.org/2000/svg\" height=\"24px\"viewBox=\"0 0 24 24\"\n",
              "       width=\"24px\">\n",
              "    <path d=\"M0 0h24v24H0V0z\" fill=\"none\"/>\n",
              "    <path d=\"M18.56 5.44l.94 2.06.94-2.06 2.06-.94-2.06-.94-.94-2.06-.94 2.06-2.06.94zm-11 1L8.5 8.5l.94-2.06 2.06-.94-2.06-.94L8.5 2.5l-.94 2.06-2.06.94zm10 10l.94 2.06.94-2.06 2.06-.94-2.06-.94-.94-2.06-.94 2.06-2.06.94z\"/><path d=\"M17.41 7.96l-1.37-1.37c-.4-.4-.92-.59-1.43-.59-.52 0-1.04.2-1.43.59L10.3 9.45l-7.72 7.72c-.78.78-.78 2.05 0 2.83L4 21.41c.39.39.9.59 1.41.59.51 0 1.02-.2 1.41-.59l7.78-7.78 2.81-2.81c.8-.78.8-2.07 0-2.86zM5.41 20L4 18.59l7.72-7.72 1.47 1.35L5.41 20z\"/>\n",
              "  </svg>\n",
              "      </button>\n",
              "      \n",
              "  <style>\n",
              "    .colab-df-container {\n",
              "      display:flex;\n",
              "      flex-wrap:wrap;\n",
              "      gap: 12px;\n",
              "    }\n",
              "\n",
              "    .colab-df-convert {\n",
              "      background-color: #E8F0FE;\n",
              "      border: none;\n",
              "      border-radius: 50%;\n",
              "      cursor: pointer;\n",
              "      display: none;\n",
              "      fill: #1967D2;\n",
              "      height: 32px;\n",
              "      padding: 0 0 0 0;\n",
              "      width: 32px;\n",
              "    }\n",
              "\n",
              "    .colab-df-convert:hover {\n",
              "      background-color: #E2EBFA;\n",
              "      box-shadow: 0px 1px 2px rgba(60, 64, 67, 0.3), 0px 1px 3px 1px rgba(60, 64, 67, 0.15);\n",
              "      fill: #174EA6;\n",
              "    }\n",
              "\n",
              "    [theme=dark] .colab-df-convert {\n",
              "      background-color: #3B4455;\n",
              "      fill: #D2E3FC;\n",
              "    }\n",
              "\n",
              "    [theme=dark] .colab-df-convert:hover {\n",
              "      background-color: #434B5C;\n",
              "      box-shadow: 0px 1px 3px 1px rgba(0, 0, 0, 0.15);\n",
              "      filter: drop-shadow(0px 1px 2px rgba(0, 0, 0, 0.3));\n",
              "      fill: #FFFFFF;\n",
              "    }\n",
              "  </style>\n",
              "\n",
              "      <script>\n",
              "        const buttonEl =\n",
              "          document.querySelector('#df-ba1090aa-29da-4c8e-97a8-e41041fd6905 button.colab-df-convert');\n",
              "        buttonEl.style.display =\n",
              "          google.colab.kernel.accessAllowed ? 'block' : 'none';\n",
              "\n",
              "        async function convertToInteractive(key) {\n",
              "          const element = document.querySelector('#df-ba1090aa-29da-4c8e-97a8-e41041fd6905');\n",
              "          const dataTable =\n",
              "            await google.colab.kernel.invokeFunction('convertToInteractive',\n",
              "                                                     [key], {});\n",
              "          if (!dataTable) return;\n",
              "\n",
              "          const docLinkHtml = 'Like what you see? Visit the ' +\n",
              "            '<a target=\"_blank\" href=https://colab.research.google.com/notebooks/data_table.ipynb>data table notebook</a>'\n",
              "            + ' to learn more about interactive tables.';\n",
              "          element.innerHTML = '';\n",
              "          dataTable['output_type'] = 'display_data';\n",
              "          await google.colab.output.renderOutput(dataTable, element);\n",
              "          const docLink = document.createElement('div');\n",
              "          docLink.innerHTML = docLinkHtml;\n",
              "          element.appendChild(docLink);\n",
              "        }\n",
              "      </script>\n",
              "    </div>\n",
              "  </div>\n",
              "  "
            ]
          },
          "metadata": {},
          "execution_count": 150
        }
      ]
    },
    {
      "cell_type": "markdown",
      "source": [
        "Rimanipolazione finale organizzazione DF"
      ],
      "metadata": {
        "id": "9WGEXMLrhfly"
      }
    },
    {
      "cell_type": "code",
      "source": [
        "#Cambio di segno la colonna contributo alla produzione\n",
        "df_finale = df_finale.fillna(0)\n",
        "df_finale['Contributo Alla Produzione']= -df_finale['Contributo Alla Produzione']\n",
        "#Inserisco il valore di rata cer impianto di produttore nella colonna contributo alla produzione\n",
        "df_finale.loc[df_finale['Categoria'] =='Produttore', 'Contributo Alla Produzione'] = df_finale[df_finale['Categoria'] =='Produttore']['Rata CER Impianto']\n",
        "#Drop della colonne non volute\n",
        "if(numero_produttori > 0): \n",
        "  df_finale.drop(['Rata CER Impianto', 'Somma Fascia 1', 'Somma Fascia 2', 'Taglia Impianto', 'Consumo Per Fotovoltaico'], axis=1, inplace=True)\n",
        "else:\n",
        "  df_finale.drop(['Rata CER Impianto', 'Somma Fascia 1', 'Somma Fascia 2', 'Consumo Per Fotovoltaico'], axis=1, inplace=True)"
      ],
      "metadata": {
        "id": "jn4Z7A_iX8Jv"
      },
      "execution_count": null,
      "outputs": []
    },
    {
      "cell_type": "code",
      "source": [
        "#Rinomino \"Differenza\" in \"Bilancio Energetico\", Incentivo Totale in Entrate Totali e Trattentuta Incentivo Condivisione in Costi Gestione CER\n",
        "df_finale = df_finale.rename(columns = {'Differenza': 'Bilancio Energetico', 'Incentivo Totale': 'Entrate Totali', 'Trattenuta Incentivo Condivizione': 'Costi Gestione CER'})"
      ],
      "metadata": {
        "id": "XsaZh9I_cxW8"
      },
      "execution_count": null,
      "outputs": []
    },
    {
      "cell_type": "markdown",
      "source": [
        "#6) Tabella riassuntiva finale"
      ],
      "metadata": {
        "id": "hPc5vasFhlAb"
      }
    },
    {
      "cell_type": "code",
      "source": [
        "#df_finale.style.format(thousands = '.', precision = 0)\n",
        "df_finale.style.format(thousands = ',', precision = 2)"
      ],
      "metadata": {
        "id": "rcbPucqTiLcl",
        "colab": {
          "base_uri": "https://localhost:8080/",
          "height": 247
        },
        "outputId": "70799363-4c1a-4971-a2bd-4624b60e0209"
      },
      "execution_count": null,
      "outputs": [
        {
          "output_type": "execute_result",
          "data": {
            "text/plain": [
              "<pandas.io.formats.style.Styler at 0x7f9334206cd0>"
            ],
            "text/html": [
              "<style type=\"text/css\">\n",
              "</style>\n",
              "<table id=\"T_1466d_\" class=\"dataframe\">\n",
              "  <thead>\n",
              "    <tr>\n",
              "      <th class=\"blank level0\" >&nbsp;</th>\n",
              "      <th class=\"col_heading level0 col0\" >Identificativo</th>\n",
              "      <th class=\"col_heading level0 col1\" >Potenza Da Installare</th>\n",
              "      <th class=\"col_heading level0 col2\" >Somma Immissione</th>\n",
              "      <th class=\"col_heading level0 col3\" >Somma Autoconsumo</th>\n",
              "      <th class=\"col_heading level0 col4\" >Somma Produzione Aggiuntiva</th>\n",
              "      <th class=\"col_heading level0 col5\" >Bilancio Energetico</th>\n",
              "      <th class=\"col_heading level0 col6\" >Taglia Impianto Potenziale</th>\n",
              "      <th class=\"col_heading level0 col7\" >Costo Impianto Potenziale</th>\n",
              "      <th class=\"col_heading level0 col8\" >Costo Potenza da Installare</th>\n",
              "      <th class=\"col_heading level0 col9\" >Costo Bolletta</th>\n",
              "      <th class=\"col_heading level0 col10\" >Percentuale Condivisa</th>\n",
              "      <th class=\"col_heading level0 col11\" >Categoria</th>\n",
              "      <th class=\"col_heading level0 col12\" >Percentuale Immessa</th>\n",
              "      <th class=\"col_heading level0 col13\" >Percentuale Immessa Prosumer</th>\n",
              "      <th class=\"col_heading level0 col14\" >Incentivo Condivisione</th>\n",
              "      <th class=\"col_heading level0 col15\" >Ritiro Dedicato</th>\n",
              "      <th class=\"col_heading level0 col16\" >Vendita Energia Idroelettrico</th>\n",
              "      <th class=\"col_heading level0 col17\" >Entrate Totali</th>\n",
              "      <th class=\"col_heading level0 col18\" >Costi Funzionamento CER</th>\n",
              "      <th class=\"col_heading level0 col19\" >Contributo Alla Produzione</th>\n",
              "      <th class=\"col_heading level0 col20\" >Rientro Investimento Impianto</th>\n",
              "      <th class=\"col_heading level0 col21\" >Beneficio Economico Totale</th>\n",
              "      <th class=\"col_heading level0 col22\" >Percentuale Trattenuta Incentivo Condivisione</th>\n",
              "      <th class=\"col_heading level0 col23\" >Trattenuta Incentivo Condivisione</th>\n",
              "    </tr>\n",
              "  </thead>\n",
              "  <tbody>\n",
              "    <tr>\n",
              "      <th id=\"T_1466d_level0_row0\" class=\"row_heading level0 row0\" >0</th>\n",
              "      <td id=\"T_1466d_row0_col0\" class=\"data row0 col0\" >A</td>\n",
              "      <td id=\"T_1466d_row0_col1\" class=\"data row0 col1\" >16.00</td>\n",
              "      <td id=\"T_1466d_row0_col2\" class=\"data row0 col2\" >4,129.00</td>\n",
              "      <td id=\"T_1466d_row0_col3\" class=\"data row0 col3\" >0.00</td>\n",
              "      <td id=\"T_1466d_row0_col4\" class=\"data row0 col4\" >25,074.14</td>\n",
              "      <td id=\"T_1466d_row0_col5\" class=\"data row0 col5\" >-134,665.40</td>\n",
              "      <td id=\"T_1466d_row0_col6\" class=\"data row0 col6\" >107.73</td>\n",
              "      <td id=\"T_1466d_row0_col7\" class=\"data row0 col7\" >129,278.78</td>\n",
              "      <td id=\"T_1466d_row0_col8\" class=\"data row0 col8\" >19,200.00</td>\n",
              "      <td id=\"T_1466d_row0_col9\" class=\"data row0 col9\" >104,145.52</td>\n",
              "      <td id=\"T_1466d_row0_col10\" class=\"data row0 col10\" >0.05</td>\n",
              "      <td id=\"T_1466d_row0_col11\" class=\"data row0 col11\" >Prosumer</td>\n",
              "      <td id=\"T_1466d_row0_col12\" class=\"data row0 col12\" >0.00</td>\n",
              "      <td id=\"T_1466d_row0_col13\" class=\"data row0 col13\" >0.00</td>\n",
              "      <td id=\"T_1466d_row0_col14\" class=\"data row0 col14\" >1,258.65</td>\n",
              "      <td id=\"T_1466d_row0_col15\" class=\"data row0 col15\" >371.61</td>\n",
              "      <td id=\"T_1466d_row0_col16\" class=\"data row0 col16\" >0.00</td>\n",
              "      <td id=\"T_1466d_row0_col17\" class=\"data row0 col17\" >1,630.26</td>\n",
              "      <td id=\"T_1466d_row0_col18\" class=\"data row0 col18\" >26.54</td>\n",
              "      <td id=\"T_1466d_row0_col19\" class=\"data row0 col19\" >0.00</td>\n",
              "      <td id=\"T_1466d_row0_col20\" class=\"data row0 col20\" >0.00</td>\n",
              "      <td id=\"T_1466d_row0_col21\" class=\"data row0 col21\" >1,603.72</td>\n",
              "      <td id=\"T_1466d_row0_col22\" class=\"data row0 col22\" >0.19</td>\n",
              "      <td id=\"T_1466d_row0_col23\" class=\"data row0 col23\" >299.77</td>\n",
              "    </tr>\n",
              "    <tr>\n",
              "      <th id=\"T_1466d_level0_row1\" class=\"row_heading level0 row1\" >1</th>\n",
              "      <td id=\"T_1466d_row1_col0\" class=\"data row1 col0\" >B</td>\n",
              "      <td id=\"T_1466d_row1_col1\" class=\"data row1 col1\" >2,000.00</td>\n",
              "      <td id=\"T_1466d_row1_col2\" class=\"data row1 col2\" >2,968,075.53</td>\n",
              "      <td id=\"T_1466d_row1_col3\" class=\"data row1 col3\" >112,874.16</td>\n",
              "      <td id=\"T_1466d_row1_col4\" class=\"data row1 col4\" >3,080,949.69</td>\n",
              "      <td id=\"T_1466d_row1_col5\" class=\"data row1 col5\" >2,969,089.77</td>\n",
              "      <td id=\"T_1466d_row1_col6\" class=\"data row1 col6\" >-2,375.27</td>\n",
              "      <td id=\"T_1466d_row1_col7\" class=\"data row1 col7\" >0.00</td>\n",
              "      <td id=\"T_1466d_row1_col8\" class=\"data row1 col8\" >2,400,000.00</td>\n",
              "      <td id=\"T_1466d_row1_col9\" class=\"data row1 col9\" >8,006.68</td>\n",
              "      <td id=\"T_1466d_row1_col10\" class=\"data row1 col10\" >0.00</td>\n",
              "      <td id=\"T_1466d_row1_col11\" class=\"data row1 col11\" >Prosumer</td>\n",
              "      <td id=\"T_1466d_row1_col12\" class=\"data row1 col12\" >1.00</td>\n",
              "      <td id=\"T_1466d_row1_col13\" class=\"data row1 col13\" >1.00</td>\n",
              "      <td id=\"T_1466d_row1_col14\" class=\"data row1 col14\" >5,469.89</td>\n",
              "      <td id=\"T_1466d_row1_col15\" class=\"data row1 col15\" >267,126.80</td>\n",
              "      <td id=\"T_1466d_row1_col16\" class=\"data row1 col16\" >0.00</td>\n",
              "      <td id=\"T_1466d_row1_col17\" class=\"data row1 col17\" >272,596.68</td>\n",
              "      <td id=\"T_1466d_row1_col18\" class=\"data row1 col18\" >115.36</td>\n",
              "      <td id=\"T_1466d_row1_col19\" class=\"data row1 col19\" >0.00</td>\n",
              "      <td id=\"T_1466d_row1_col20\" class=\"data row1 col20\" >0.00</td>\n",
              "      <td id=\"T_1466d_row1_col21\" class=\"data row1 col21\" >272,481.32</td>\n",
              "      <td id=\"T_1466d_row1_col22\" class=\"data row1 col22\" >0.81</td>\n",
              "      <td id=\"T_1466d_row1_col23\" class=\"data row1 col23\" >1,302.75</td>\n",
              "    </tr>\n",
              "    <tr>\n",
              "      <th id=\"T_1466d_level0_row2\" class=\"row_heading level0 row2\" >2</th>\n",
              "      <td id=\"T_1466d_row2_col0\" class=\"data row2 col0\" >Idroelettrico</td>\n",
              "      <td id=\"T_1466d_row2_col1\" class=\"data row2 col1\" >0.00</td>\n",
              "      <td id=\"T_1466d_row2_col2\" class=\"data row2 col2\" >4,129.00</td>\n",
              "      <td id=\"T_1466d_row2_col3\" class=\"data row2 col3\" >0.00</td>\n",
              "      <td id=\"T_1466d_row2_col4\" class=\"data row2 col4\" >0.00</td>\n",
              "      <td id=\"T_1466d_row2_col5\" class=\"data row2 col5\" >1,376.33</td>\n",
              "      <td id=\"T_1466d_row2_col6\" class=\"data row2 col6\" >-1.10</td>\n",
              "      <td id=\"T_1466d_row2_col7\" class=\"data row2 col7\" >0.00</td>\n",
              "      <td id=\"T_1466d_row2_col8\" class=\"data row2 col8\" >0.00</td>\n",
              "      <td id=\"T_1466d_row2_col9\" class=\"data row2 col9\" >104,145.52</td>\n",
              "      <td id=\"T_1466d_row2_col10\" class=\"data row2 col10\" >0.00</td>\n",
              "      <td id=\"T_1466d_row2_col11\" class=\"data row2 col11\" >Produttore</td>\n",
              "      <td id=\"T_1466d_row2_col12\" class=\"data row2 col12\" >0.00</td>\n",
              "      <td id=\"T_1466d_row2_col13\" class=\"data row2 col13\" >0.00</td>\n",
              "      <td id=\"T_1466d_row2_col14\" class=\"data row2 col14\" >289.03</td>\n",
              "      <td id=\"T_1466d_row2_col15\" class=\"data row2 col15\" >0.00</td>\n",
              "      <td id=\"T_1466d_row2_col16\" class=\"data row2 col16\" >371.61</td>\n",
              "      <td id=\"T_1466d_row2_col17\" class=\"data row2 col17\" >660.64</td>\n",
              "      <td id=\"T_1466d_row2_col18\" class=\"data row2 col18\" >0.00</td>\n",
              "      <td id=\"T_1466d_row2_col19\" class=\"data row2 col19\" >0.00</td>\n",
              "      <td id=\"T_1466d_row2_col20\" class=\"data row2 col20\" >0.00</td>\n",
              "      <td id=\"T_1466d_row2_col21\" class=\"data row2 col21\" >660.64</td>\n",
              "      <td id=\"T_1466d_row2_col22\" class=\"data row2 col22\" >0.00</td>\n",
              "      <td id=\"T_1466d_row2_col23\" class=\"data row2 col23\" >0.00</td>\n",
              "    </tr>\n",
              "    <tr>\n",
              "      <th id=\"T_1466d_level0_row3\" class=\"row_heading level0 row3\" >3</th>\n",
              "      <td id=\"T_1466d_row3_col0\" class=\"data row3 col0\" >Produttore</td>\n",
              "      <td id=\"T_1466d_row3_col1\" class=\"data row3 col1\" >0.00</td>\n",
              "      <td id=\"T_1466d_row3_col2\" class=\"data row3 col2\" >-2,835,800.70</td>\n",
              "      <td id=\"T_1466d_row3_col3\" class=\"data row3 col3\" >0.00</td>\n",
              "      <td id=\"T_1466d_row3_col4\" class=\"data row3 col4\" >0.00</td>\n",
              "      <td id=\"T_1466d_row3_col5\" class=\"data row3 col5\" >-2,835,800.70</td>\n",
              "      <td id=\"T_1466d_row3_col6\" class=\"data row3 col6\" >-2,268.64</td>\n",
              "      <td id=\"T_1466d_row3_col7\" class=\"data row3 col7\" >-2,722,368.68</td>\n",
              "      <td id=\"T_1466d_row3_col8\" class=\"data row3 col8\" >0.00</td>\n",
              "      <td id=\"T_1466d_row3_col9\" class=\"data row3 col9\" >0.00</td>\n",
              "      <td id=\"T_1466d_row3_col10\" class=\"data row3 col10\" >0.95</td>\n",
              "      <td id=\"T_1466d_row3_col11\" class=\"data row3 col11\" >Produttore</td>\n",
              "      <td id=\"T_1466d_row3_col12\" class=\"data row3 col12\" >0.00</td>\n",
              "      <td id=\"T_1466d_row3_col13\" class=\"data row3 col13\" >0.00</td>\n",
              "      <td id=\"T_1466d_row3_col14\" class=\"data row3 col14\" >944.17</td>\n",
              "      <td id=\"T_1466d_row3_col15\" class=\"data row3 col15\" >0.00</td>\n",
              "      <td id=\"T_1466d_row3_col16\" class=\"data row3 col16\" >0.00</td>\n",
              "      <td id=\"T_1466d_row3_col17\" class=\"data row3 col17\" >944.17</td>\n",
              "      <td id=\"T_1466d_row3_col18\" class=\"data row3 col18\" >148.00</td>\n",
              "      <td id=\"T_1466d_row3_col19\" class=\"data row3 col19\" >-0.00</td>\n",
              "      <td id=\"T_1466d_row3_col20\" class=\"data row3 col20\" >-3,419.33</td>\n",
              "      <td id=\"T_1466d_row3_col21\" class=\"data row3 col21\" >796.17</td>\n",
              "      <td id=\"T_1466d_row3_col22\" class=\"data row3 col22\" >0.00</td>\n",
              "      <td id=\"T_1466d_row3_col23\" class=\"data row3 col23\" >0.00</td>\n",
              "    </tr>\n",
              "  </tbody>\n",
              "</table>\n"
            ]
          },
          "metadata": {},
          "execution_count": 153
        }
      ]
    },
    {
      "cell_type": "markdown",
      "source": [
        "Confronto Scambio sul Posto"
      ],
      "metadata": {
        "id": "5koMCzMxPBT2"
      }
    },
    {
      "cell_type": "code",
      "source": [
        "df_ssp.style.format(thousands = ',', precision = 2)"
      ],
      "metadata": {
        "id": "Fpy3IhoZPD-v",
        "colab": {
          "base_uri": "https://localhost:8080/",
          "height": 112
        },
        "outputId": "6f7784f4-bad1-416e-ae7f-22b069cdbfe3"
      },
      "execution_count": null,
      "outputs": [
        {
          "output_type": "execute_result",
          "data": {
            "text/plain": [
              "<pandas.io.formats.style.Styler at 0x7f9334215710>"
            ],
            "text/html": [
              "<style type=\"text/css\">\n",
              "</style>\n",
              "<table id=\"T_4dd3b_\" class=\"dataframe\">\n",
              "  <thead>\n",
              "    <tr>\n",
              "      <th class=\"blank level0\" >&nbsp;</th>\n",
              "      <th class=\"col_heading level0 col0\" >Identificativo</th>\n",
              "      <th class=\"col_heading level0 col1\" >Totale Produzione</th>\n",
              "      <th class=\"col_heading level0 col2\" >Totale Autoconsumo</th>\n",
              "      <th class=\"col_heading level0 col3\" >Totale Esportata</th>\n",
              "      <th class=\"col_heading level0 col4\" >Totale Importata</th>\n",
              "      <th class=\"col_heading level0 col5\" >Beneficio SSP</th>\n",
              "    </tr>\n",
              "  </thead>\n",
              "  <tbody>\n",
              "    <tr>\n",
              "      <th id=\"T_4dd3b_level0_row0\" class=\"row_heading level0 row0\" >0</th>\n",
              "      <td id=\"T_4dd3b_row0_col0\" class=\"data row0 col0\" >Ciemme srl</td>\n",
              "      <td id=\"T_4dd3b_row0_col1\" class=\"data row0 col1\" >18,969.53</td>\n",
              "      <td id=\"T_4dd3b_row0_col2\" class=\"data row0 col2\" >13,133.60</td>\n",
              "      <td id=\"T_4dd3b_row0_col3\" class=\"data row0 col3\" >7,180.00</td>\n",
              "      <td id=\"T_4dd3b_row0_col4\" class=\"data row0 col4\" >19,009.00</td>\n",
              "      <td id=\"T_4dd3b_row0_col5\" class=\"data row0 col5\" >1,077.00</td>\n",
              "    </tr>\n",
              "    <tr>\n",
              "      <th id=\"T_4dd3b_level0_row1\" class=\"row_heading level0 row1\" >1</th>\n",
              "      <td id=\"T_4dd3b_row1_col0\" class=\"data row1 col0\" >Latteria del Molise Srl</td>\n",
              "      <td id=\"T_4dd3b_row1_col1\" class=\"data row1 col1\" >49,894.31</td>\n",
              "      <td id=\"T_4dd3b_row1_col2\" class=\"data row1 col2\" >37,151.20</td>\n",
              "      <td id=\"T_4dd3b_row1_col3\" class=\"data row1 col3\" >4,129.04</td>\n",
              "      <td id=\"T_4dd3b_row1_col4\" class=\"data row1 col4\" >46,700.08</td>\n",
              "      <td id=\"T_4dd3b_row1_col5\" class=\"data row1 col5\" >619.36</td>\n",
              "    </tr>\n",
              "  </tbody>\n",
              "</table>\n"
            ]
          },
          "metadata": {},
          "execution_count": 154
        }
      ]
    },
    {
      "cell_type": "code",
      "source": [
        "df_finale"
      ],
      "metadata": {
        "id": "fTBnBamGT6K3",
        "colab": {
          "base_uri": "https://localhost:8080/",
          "height": 320
        },
        "outputId": "6a8a1de0-11f9-49c3-c9d4-cd6197016462"
      },
      "execution_count": null,
      "outputs": [
        {
          "output_type": "execute_result",
          "data": {
            "text/plain": [
              "  Identificativo  Potenza Da Installare  Somma Immissione  Somma Autoconsumo  \\\n",
              "0              A                   16.0         4.129e+03                0.0   \n",
              "1              B                  2e+03         2.968e+06          1.129e+05   \n",
              "2  Idroelettrico                    0.0         4.129e+03                0.0   \n",
              "3     Produttore                    0.0        -2.836e+06                0.0   \n",
              "\n",
              "   Somma Produzione Aggiuntiva  Bilancio Energetico  \\\n",
              "0                    2.507e+04           -1.347e+05   \n",
              "1                    3.081e+06            2.969e+06   \n",
              "2                          0.0            1.376e+03   \n",
              "3                          0.0           -2.836e+06   \n",
              "\n",
              "   Taglia Impianto Potenziale  Costo Impianto Potenziale  \\\n",
              "0                       107.7                  1.293e+05   \n",
              "1                  -2.375e+03                        0.0   \n",
              "2                      -1.101                        0.0   \n",
              "3                  -2.269e+03                 -2.722e+06   \n",
              "\n",
              "   Costo Potenza da Installare  Costo Bolletta  ...  Incentivo Condivisione  \\\n",
              "0                     1.92e+04       1.041e+05  ...               1.259e+03   \n",
              "1                      2.4e+06       8.007e+03  ...                5.47e+03   \n",
              "2                          0.0       1.041e+05  ...                   289.0   \n",
              "3                          0.0             0.0  ...                   944.2   \n",
              "\n",
              "  Ritiro Dedicato  Vendita Energia Idroelettrico  Entrate Totali  \\\n",
              "0           371.6                            0.0        1.63e+03   \n",
              "1       2.671e+05                            0.0       2.726e+05   \n",
              "2             0.0                          371.6           660.6   \n",
              "3             0.0                            0.0           944.2   \n",
              "\n",
              "   Costi Funzionamento CER  Contributo Alla Produzione  \\\n",
              "0                    26.54                         0.0   \n",
              "1                    115.4                         0.0   \n",
              "2                      0.0                         0.0   \n",
              "3                    148.0                        -0.0   \n",
              "\n",
              "   Rientro Investimento Impianto  Beneficio Economico Totale  \\\n",
              "0                            0.0                   1.604e+03   \n",
              "1                            0.0                   2.725e+05   \n",
              "2                            0.0                       660.6   \n",
              "3                     -3.419e+03                       796.2   \n",
              "\n",
              "   Percentuale Trattenuta Incentivo Condivisione  \\\n",
              "0                                         0.1871   \n",
              "1                                         0.8129   \n",
              "2                                            0.0   \n",
              "3                                            0.0   \n",
              "\n",
              "   Trattenuta Incentivo Condivisione  \n",
              "0                              299.8  \n",
              "1                          1.303e+03  \n",
              "2                                0.0  \n",
              "3                                0.0  \n",
              "\n",
              "[4 rows x 24 columns]"
            ],
            "text/html": [
              "\n",
              "  <div id=\"df-f3be82af-be58-4a98-893f-ccb8a8807d4c\">\n",
              "    <div class=\"colab-df-container\">\n",
              "      <div>\n",
              "<style scoped>\n",
              "    .dataframe tbody tr th:only-of-type {\n",
              "        vertical-align: middle;\n",
              "    }\n",
              "\n",
              "    .dataframe tbody tr th {\n",
              "        vertical-align: top;\n",
              "    }\n",
              "\n",
              "    .dataframe thead th {\n",
              "        text-align: right;\n",
              "    }\n",
              "</style>\n",
              "<table border=\"1\" class=\"dataframe\">\n",
              "  <thead>\n",
              "    <tr style=\"text-align: right;\">\n",
              "      <th></th>\n",
              "      <th>Identificativo</th>\n",
              "      <th>Potenza Da Installare</th>\n",
              "      <th>Somma Immissione</th>\n",
              "      <th>Somma Autoconsumo</th>\n",
              "      <th>Somma Produzione Aggiuntiva</th>\n",
              "      <th>Bilancio Energetico</th>\n",
              "      <th>Taglia Impianto Potenziale</th>\n",
              "      <th>Costo Impianto Potenziale</th>\n",
              "      <th>Costo Potenza da Installare</th>\n",
              "      <th>Costo Bolletta</th>\n",
              "      <th>...</th>\n",
              "      <th>Incentivo Condivisione</th>\n",
              "      <th>Ritiro Dedicato</th>\n",
              "      <th>Vendita Energia Idroelettrico</th>\n",
              "      <th>Entrate Totali</th>\n",
              "      <th>Costi Funzionamento CER</th>\n",
              "      <th>Contributo Alla Produzione</th>\n",
              "      <th>Rientro Investimento Impianto</th>\n",
              "      <th>Beneficio Economico Totale</th>\n",
              "      <th>Percentuale Trattenuta Incentivo Condivisione</th>\n",
              "      <th>Trattenuta Incentivo Condivisione</th>\n",
              "    </tr>\n",
              "  </thead>\n",
              "  <tbody>\n",
              "    <tr>\n",
              "      <th>0</th>\n",
              "      <td>A</td>\n",
              "      <td>16.0</td>\n",
              "      <td>4.129e+03</td>\n",
              "      <td>0.0</td>\n",
              "      <td>2.507e+04</td>\n",
              "      <td>-1.347e+05</td>\n",
              "      <td>107.7</td>\n",
              "      <td>1.293e+05</td>\n",
              "      <td>1.92e+04</td>\n",
              "      <td>1.041e+05</td>\n",
              "      <td>...</td>\n",
              "      <td>1.259e+03</td>\n",
              "      <td>371.6</td>\n",
              "      <td>0.0</td>\n",
              "      <td>1.63e+03</td>\n",
              "      <td>26.54</td>\n",
              "      <td>0.0</td>\n",
              "      <td>0.0</td>\n",
              "      <td>1.604e+03</td>\n",
              "      <td>0.1871</td>\n",
              "      <td>299.8</td>\n",
              "    </tr>\n",
              "    <tr>\n",
              "      <th>1</th>\n",
              "      <td>B</td>\n",
              "      <td>2e+03</td>\n",
              "      <td>2.968e+06</td>\n",
              "      <td>1.129e+05</td>\n",
              "      <td>3.081e+06</td>\n",
              "      <td>2.969e+06</td>\n",
              "      <td>-2.375e+03</td>\n",
              "      <td>0.0</td>\n",
              "      <td>2.4e+06</td>\n",
              "      <td>8.007e+03</td>\n",
              "      <td>...</td>\n",
              "      <td>5.47e+03</td>\n",
              "      <td>2.671e+05</td>\n",
              "      <td>0.0</td>\n",
              "      <td>2.726e+05</td>\n",
              "      <td>115.4</td>\n",
              "      <td>0.0</td>\n",
              "      <td>0.0</td>\n",
              "      <td>2.725e+05</td>\n",
              "      <td>0.8129</td>\n",
              "      <td>1.303e+03</td>\n",
              "    </tr>\n",
              "    <tr>\n",
              "      <th>2</th>\n",
              "      <td>Idroelettrico</td>\n",
              "      <td>0.0</td>\n",
              "      <td>4.129e+03</td>\n",
              "      <td>0.0</td>\n",
              "      <td>0.0</td>\n",
              "      <td>1.376e+03</td>\n",
              "      <td>-1.101</td>\n",
              "      <td>0.0</td>\n",
              "      <td>0.0</td>\n",
              "      <td>1.041e+05</td>\n",
              "      <td>...</td>\n",
              "      <td>289.0</td>\n",
              "      <td>0.0</td>\n",
              "      <td>371.6</td>\n",
              "      <td>660.6</td>\n",
              "      <td>0.0</td>\n",
              "      <td>0.0</td>\n",
              "      <td>0.0</td>\n",
              "      <td>660.6</td>\n",
              "      <td>0.0</td>\n",
              "      <td>0.0</td>\n",
              "    </tr>\n",
              "    <tr>\n",
              "      <th>3</th>\n",
              "      <td>Produttore</td>\n",
              "      <td>0.0</td>\n",
              "      <td>-2.836e+06</td>\n",
              "      <td>0.0</td>\n",
              "      <td>0.0</td>\n",
              "      <td>-2.836e+06</td>\n",
              "      <td>-2.269e+03</td>\n",
              "      <td>-2.722e+06</td>\n",
              "      <td>0.0</td>\n",
              "      <td>0.0</td>\n",
              "      <td>...</td>\n",
              "      <td>944.2</td>\n",
              "      <td>0.0</td>\n",
              "      <td>0.0</td>\n",
              "      <td>944.2</td>\n",
              "      <td>148.0</td>\n",
              "      <td>-0.0</td>\n",
              "      <td>-3.419e+03</td>\n",
              "      <td>796.2</td>\n",
              "      <td>0.0</td>\n",
              "      <td>0.0</td>\n",
              "    </tr>\n",
              "  </tbody>\n",
              "</table>\n",
              "<p>4 rows × 24 columns</p>\n",
              "</div>\n",
              "      <button class=\"colab-df-convert\" onclick=\"convertToInteractive('df-f3be82af-be58-4a98-893f-ccb8a8807d4c')\"\n",
              "              title=\"Convert this dataframe to an interactive table.\"\n",
              "              style=\"display:none;\">\n",
              "        \n",
              "  <svg xmlns=\"http://www.w3.org/2000/svg\" height=\"24px\"viewBox=\"0 0 24 24\"\n",
              "       width=\"24px\">\n",
              "    <path d=\"M0 0h24v24H0V0z\" fill=\"none\"/>\n",
              "    <path d=\"M18.56 5.44l.94 2.06.94-2.06 2.06-.94-2.06-.94-.94-2.06-.94 2.06-2.06.94zm-11 1L8.5 8.5l.94-2.06 2.06-.94-2.06-.94L8.5 2.5l-.94 2.06-2.06.94zm10 10l.94 2.06.94-2.06 2.06-.94-2.06-.94-.94-2.06-.94 2.06-2.06.94z\"/><path d=\"M17.41 7.96l-1.37-1.37c-.4-.4-.92-.59-1.43-.59-.52 0-1.04.2-1.43.59L10.3 9.45l-7.72 7.72c-.78.78-.78 2.05 0 2.83L4 21.41c.39.39.9.59 1.41.59.51 0 1.02-.2 1.41-.59l7.78-7.78 2.81-2.81c.8-.78.8-2.07 0-2.86zM5.41 20L4 18.59l7.72-7.72 1.47 1.35L5.41 20z\"/>\n",
              "  </svg>\n",
              "      </button>\n",
              "      \n",
              "  <style>\n",
              "    .colab-df-container {\n",
              "      display:flex;\n",
              "      flex-wrap:wrap;\n",
              "      gap: 12px;\n",
              "    }\n",
              "\n",
              "    .colab-df-convert {\n",
              "      background-color: #E8F0FE;\n",
              "      border: none;\n",
              "      border-radius: 50%;\n",
              "      cursor: pointer;\n",
              "      display: none;\n",
              "      fill: #1967D2;\n",
              "      height: 32px;\n",
              "      padding: 0 0 0 0;\n",
              "      width: 32px;\n",
              "    }\n",
              "\n",
              "    .colab-df-convert:hover {\n",
              "      background-color: #E2EBFA;\n",
              "      box-shadow: 0px 1px 2px rgba(60, 64, 67, 0.3), 0px 1px 3px 1px rgba(60, 64, 67, 0.15);\n",
              "      fill: #174EA6;\n",
              "    }\n",
              "\n",
              "    [theme=dark] .colab-df-convert {\n",
              "      background-color: #3B4455;\n",
              "      fill: #D2E3FC;\n",
              "    }\n",
              "\n",
              "    [theme=dark] .colab-df-convert:hover {\n",
              "      background-color: #434B5C;\n",
              "      box-shadow: 0px 1px 3px 1px rgba(0, 0, 0, 0.15);\n",
              "      filter: drop-shadow(0px 1px 2px rgba(0, 0, 0, 0.3));\n",
              "      fill: #FFFFFF;\n",
              "    }\n",
              "  </style>\n",
              "\n",
              "      <script>\n",
              "        const buttonEl =\n",
              "          document.querySelector('#df-f3be82af-be58-4a98-893f-ccb8a8807d4c button.colab-df-convert');\n",
              "        buttonEl.style.display =\n",
              "          google.colab.kernel.accessAllowed ? 'block' : 'none';\n",
              "\n",
              "        async function convertToInteractive(key) {\n",
              "          const element = document.querySelector('#df-f3be82af-be58-4a98-893f-ccb8a8807d4c');\n",
              "          const dataTable =\n",
              "            await google.colab.kernel.invokeFunction('convertToInteractive',\n",
              "                                                     [key], {});\n",
              "          if (!dataTable) return;\n",
              "\n",
              "          const docLinkHtml = 'Like what you see? Visit the ' +\n",
              "            '<a target=\"_blank\" href=https://colab.research.google.com/notebooks/data_table.ipynb>data table notebook</a>'\n",
              "            + ' to learn more about interactive tables.';\n",
              "          element.innerHTML = '';\n",
              "          dataTable['output_type'] = 'display_data';\n",
              "          await google.colab.output.renderOutput(dataTable, element);\n",
              "          const docLink = document.createElement('div');\n",
              "          docLink.innerHTML = docLinkHtml;\n",
              "          element.appendChild(docLink);\n",
              "        }\n",
              "      </script>\n",
              "    </div>\n",
              "  </div>\n",
              "  "
            ]
          },
          "metadata": {},
          "execution_count": 155
        }
      ]
    },
    {
      "cell_type": "markdown",
      "source": [
        "***Cash Flow Produttori***"
      ],
      "metadata": {
        "id": "V-12h9FX7raX"
      }
    },
    {
      "cell_type": "code",
      "source": [
        "#SPECIFICARE DISCOUNT RATE PER CALCOLO IRR, NPV, IP E ATTUALIZZAZIONE FLUSSI DI CASSA. \n",
        "discount_rate = 0.03\n",
        "\n",
        "if numero_produttori > 0:\n",
        "  #QUESTO LO USO PER IL CASHFLOW CUMULATO\n",
        "  df_discounted_cashflow = df_finale.loc[(df_finale['Categoria'] == 'Produttore') & (df_finale['Identificativo'] != 'Idroelettrico'), ['Identificativo', 'Costo Impianto Potenziale', 'Beneficio Economico Totale']]\n",
        "  df_discounted_cashflow = df_discounted_cashflow.rename(columns = {'Costo Impianto Potenziale': 'Cumulato', 'Beneficio Economico Totale': 'Entrata'})\n",
        "  df_discounted_cashflow['Anno'] = 0\n",
        "  df_discounted_cashflow['Cumulato'] = - df_discounted_cashflow['Cumulato']\n",
        "  #df_cashflow = df_cashflow.drop(columns = ['Taglia Impianto', 'Somma Fascia 1', 'Consumo Per Fotovoltaico', 'Produzione', Di])\n",
        "\n",
        "  #QUESTO LO USO PER IL CASHFLOW (NON CUMULATO)\n",
        "  df_cashflow = df_finale.loc[(df_finale['Categoria'] == 'Produttore') & (df_finale['Identificativo'] != 'Idroelettrico'), ['Identificativo', 'Costo Impianto Potenziale', 'Beneficio Economico Totale']]\n",
        "  df_cashflow = df_cashflow.rename(columns = {'Costo Impianto Potenziale': 'Cashflow', 'Beneficio Economico Totale': 'Entrata'})\n",
        "  df_cashflow['Anno'] = 0\n",
        "  df_cashflow['Cashflow'] = - df_cashflow['Cashflow']\n",
        "\n",
        "  def CalcolaCashFlow(df, anni): #Funzione per il calcolo del cashflow (immagazzinato nel df_cashflow_finale)\n",
        "    df = pd.DataFrame(np.repeat(df.values, anni, axis = 0), columns = df.columns)\n",
        "    for index, row in df.iterrows(): \n",
        "      #print(index)\n",
        "      if(index == 0): #Salto l'anno 0 -> ho solo spese: investimento iniziale\n",
        "        #df.iloc[index]['Cashflow'] += df.iloc[index]['Entrata']\n",
        "        continue\n",
        "      df.iloc[index]['Cashflow'] = df.iloc[index]['Entrata']\n",
        "      row['Anno'] = index\n",
        "      #print(df)\n",
        "    return df\n",
        "\n",
        "  def CalcolaDiscountedCashFlow(df, anni, r):  #Funzione per il calcolo del cashflow cumulato (df_discounted_cashflow_finale)\n",
        "    entrata_base = df.iloc[0]['Entrata']\n",
        "    df = pd.DataFrame(np.repeat(df.values, anni, axis = 0), columns = df.columns)\n",
        "    for index, row in df.iterrows(): \n",
        "      #print(index)\n",
        "      if(index == 0): #Salto l'anno 0 -> ho solo spese: investimento iniziale\n",
        "        continue\n",
        "      df.iloc[index]['Entrata'] = entrata_base/pow((1+r), int(index))\n",
        "      df.iloc[index]['Cumulato'] = df.iloc[index-1]['Cumulato'] + df.iloc[index]['Entrata']\n",
        "      row['Anno'] = index\n",
        "      #print(df)\n",
        "    return df\n",
        "\n",
        "  #CALCOLO CASHFLOW\n",
        "  #CHIAMO FUNZIONE: ARGOMENTI: X (DA NON CAMBIARE), NUMERO: ANNI PER CUI SI VUOLE CALCOLARE IL CASHFLOW\n",
        "  df_cashflow_finale = pd.DataFrame()\n",
        "  df_cashflow_finale = df_cashflow_finale.append(df_cashflow.groupby('Identificativo').apply(lambda x: CalcolaCashFlow(x, 20)))\n",
        "  #RISTABILISCO UN DF ORDINATO\n",
        "  df_cashflow_finale = df_cashflow_finale.drop(columns = ['Identificativo']).reset_index()\n",
        "  df_cashflow_finale = df_cashflow_finale.drop(columns = ['level_1'])\n",
        "  print(df_cashflow_finale)\n",
        "\n",
        "  #CALCOLO DISCOUNTED CASHFLOW\n",
        "  #CHIAMO FUNZIONE: ARGOMENTI: X (DA NON CAMBIARE), NUMERO: ANNI PER CUI SI VUOLE CALCOLARE IL CASHFLOW\n",
        "  df_discounted_cashflow_finale = pd.DataFrame()\n",
        "  df_discounted_cashflow_finale = df_discounted_cashflow_finale.append(df_discounted_cashflow.groupby('Identificativo').apply(lambda x: CalcolaDiscountedCashFlow(x, 20, discount_rate)))\n",
        "  #RISTABILISCO UN DF ORDINATO\n",
        "  df_discounted_cashflow_finale = df_discounted_cashflow_finale.drop(columns = ['Identificativo']).reset_index()\n",
        "  df_discounted_cashflow_finale = df_discounted_cashflow_finale.drop(columns = ['level_1'])\n",
        "  print(df_discounted_cashflow_finale)"
      ],
      "metadata": {
        "id": "5X-kW3bF7yYn",
        "colab": {
          "base_uri": "https://localhost:8080/"
        },
        "outputId": "d3784e94-16da-44d8-9b8b-cc475d0df68a"
      },
      "execution_count": null,
      "outputs": [
        {
          "output_type": "stream",
          "name": "stdout",
          "text": [
            "   Identificativo  Cashflow Entrata Anno\n",
            "0      Produttore 2.722e+06   796.2    0\n",
            "1      Produttore     796.2   796.2    1\n",
            "2      Produttore     796.2   796.2    2\n",
            "3      Produttore     796.2   796.2    3\n",
            "4      Produttore     796.2   796.2    4\n",
            "5      Produttore     796.2   796.2    5\n",
            "6      Produttore     796.2   796.2    6\n",
            "7      Produttore     796.2   796.2    7\n",
            "8      Produttore     796.2   796.2    8\n",
            "9      Produttore     796.2   796.2    9\n",
            "10     Produttore     796.2   796.2   10\n",
            "11     Produttore     796.2   796.2   11\n",
            "12     Produttore     796.2   796.2   12\n",
            "13     Produttore     796.2   796.2   13\n",
            "14     Produttore     796.2   796.2   14\n",
            "15     Produttore     796.2   796.2   15\n",
            "16     Produttore     796.2   796.2   16\n",
            "17     Produttore     796.2   796.2   17\n",
            "18     Produttore     796.2   796.2   18\n",
            "19     Produttore     796.2   796.2   19\n",
            "   Identificativo  Cumulato Entrata Anno\n",
            "0      Produttore 2.722e+06   796.2    0\n",
            "1      Produttore 2.723e+06   773.0    1\n",
            "2      Produttore 2.724e+06   750.5    2\n",
            "3      Produttore 2.725e+06   728.6    3\n",
            "4      Produttore 2.725e+06   707.4    4\n",
            "5      Produttore 2.726e+06   686.8    5\n",
            "6      Produttore 2.727e+06   666.8    6\n",
            "7      Produttore 2.727e+06   647.4    7\n",
            "8      Produttore 2.728e+06   628.5    8\n",
            "9      Produttore 2.729e+06   610.2    9\n",
            "10     Produttore 2.729e+06   592.4   10\n",
            "11     Produttore  2.73e+06   575.2   11\n",
            "12     Produttore  2.73e+06   558.4   12\n",
            "13     Produttore 2.731e+06   542.2   13\n",
            "14     Produttore 2.731e+06   526.4   14\n",
            "15     Produttore 2.732e+06   511.0   15\n",
            "16     Produttore 2.732e+06   496.1   16\n",
            "17     Produttore 2.733e+06   481.7   17\n",
            "18     Produttore 2.733e+06   467.7   18\n",
            "19     Produttore 2.734e+06   454.0   19\n"
          ]
        }
      ]
    },
    {
      "cell_type": "code",
      "source": [
        "#FUNZIONE PER IL CALCOLO DEL NPV\n",
        "def net_pv(cfList, r):\n",
        "    sum_pv = 0  # <-- variable used to sum result\n",
        "    for i, pmt in enumerate(cfList, start=1):  # <-- use of enumerate allows you to do away with the counter variables.\n",
        "        sum_pv += pmt / ((1 + r) ** i)  # <-- add pv of one of the cash flows to the sum variable\n",
        "    return sum_pv  # <-- only return the sum after your loop has completed."
      ],
      "metadata": {
        "id": "AkJOWp-lX8ph"
      },
      "execution_count": null,
      "outputs": []
    },
    {
      "cell_type": "code",
      "source": [
        "def profitability_index(npv, initial_investment): \n",
        "    return (npv+initial_investment)/initial_investment"
      ],
      "metadata": {
        "id": "frkBmazCap9u"
      },
      "execution_count": null,
      "outputs": []
    },
    {
      "cell_type": "code",
      "source": [
        "#ATTENZIONE LA FUNZIONE NPV INTEGRATA IN NUMPY NON TORNA UN VALORE CONGRUO CON QUELLO CALCOLATO IN EXCEL. \n",
        "n = df_cashflow_finale.to_numpy() \n",
        "a = npf.npv(discount_rate, n[:, 1])\n",
        "a"
      ],
      "metadata": {
        "id": "h3GvP0t_Uzjc",
        "colab": {
          "base_uri": "https://localhost:8080/"
        },
        "outputId": "b9677961-9eb6-4cf3-d5a1-59034fed4809"
      },
      "execution_count": null,
      "outputs": [
        {
          "output_type": "execute_result",
          "data": {
            "text/plain": [
              "2733772.8422451513"
            ]
          },
          "metadata": {},
          "execution_count": 159
        }
      ]
    },
    {
      "cell_type": "markdown",
      "source": [
        "#7) KPI Economici"
      ],
      "metadata": {
        "id": "jISHuUgXO_-s"
      }
    },
    {
      "cell_type": "code",
      "source": [
        "npv = net_pv(n[:,1], discount_rate) #npf.npv(discount_rate, n[:,1])# il npv calcolato con la numpy financial library torna un valore differente da quello di excel e della funzione realizzata\n",
        "irr = npf.irr(n[:,1])\n",
        "#pi = profitability_index(npv, abs(n[0,1]))\n",
        "print('npv: '+str(npv)+', irr: '+str(irr))#+', pi: '+str(pi))"
      ],
      "metadata": {
        "id": "4PyWSqBFXc1O",
        "colab": {
          "base_uri": "https://localhost:8080/"
        },
        "outputId": "ee630669-d950-46e5-a458-d7a93954fc40"
      },
      "execution_count": null,
      "outputs": [
        {
          "output_type": "stream",
          "name": "stdout",
          "text": [
            "npv: 2654148.3905292726, irr: nan\n"
          ]
        }
      ]
    },
    {
      "cell_type": "markdown",
      "source": [
        "# 8) Scrittura file output"
      ],
      "metadata": {
        "id": "KFNTMh6hy-vh"
      }
    },
    {
      "cell_type": "code",
      "source": [
        "#Scrittura in output\n",
        "try: \n",
        "    file = Path(directory+'/output_DER.xlsx')\n",
        "    if file.exists():\n",
        "       print(\"Il file esiste già. Elimino quello vecchio.\") \n",
        "       os.remove(file)   \n",
        "    with pd.ExcelWriter(directory+'/output_DER.xlsx') as writer:  \n",
        "        df_finale.to_excel(writer, sheet_name='Tabella riassuntiva finale', index = False)\n",
        "        df_cashflow_finale.to_excel(writer, sheet_name='Cashflow produttore', index = False)\n",
        "        df_discounted_cashflow_finale.to_excel(writer, sheet_name='Discounted cashflow produttore', index = False)\n",
        "        print('Scrittura del file di output realizzata con successo')\n",
        "except: \n",
        "    raise TypeError('Impossibile scrivere il file, verificare che non sia già aperto e riprovare.')"
      ],
      "metadata": {
        "id": "Ob2ZajYtS3eW",
        "colab": {
          "base_uri": "https://localhost:8080/"
        },
        "outputId": "dfad2879-4100-4504-ac09-53041ee5e559"
      },
      "execution_count": null,
      "outputs": [
        {
          "output_type": "stream",
          "name": "stdout",
          "text": [
            "Il file esiste già. Elimino quello vecchio.\n",
            "Scrittura del file di output realizzata con successo\n"
          ]
        }
      ]
    },
    {
      "cell_type": "markdown",
      "metadata": {
        "id": "3cUnnrfmn-kH"
      },
      "source": [
        "# Grafici"
      ]
    },
    {
      "cell_type": "code",
      "source": [
        "#Import pacchetti grafici\n",
        "#Pacchetti grafica\n",
        "!pip install --upgrade plotly\n",
        "import matplotlib.pyplot as plt\n",
        "import seaborn as sns\n",
        "import plotly.express as px\n",
        "!pip install chart_studio\n",
        "import chart_studio.plotly as py\n",
        "from plotly.offline import iplot\n",
        "import plotly.graph_objects as go\n",
        "from plotly.subplots import make_subplots\n",
        "import collections"
      ],
      "metadata": {
        "id": "f-UoDcWcKhru",
        "colab": {
          "base_uri": "https://localhost:8080/"
        },
        "outputId": "088e72f5-3289-4e30-c0c6-b7e9c231f42e"
      },
      "execution_count": null,
      "outputs": [
        {
          "output_type": "stream",
          "name": "stdout",
          "text": [
            "Looking in indexes: https://pypi.org/simple, https://us-python.pkg.dev/colab-wheels/public/simple/\n",
            "Requirement already satisfied: plotly in /usr/local/lib/python3.7/dist-packages (5.5.0)\n",
            "Collecting plotly\n",
            "  Downloading plotly-5.10.0-py2.py3-none-any.whl (15.2 MB)\n",
            "\u001b[K     |████████████████████████████████| 15.2 MB 6.7 MB/s \n",
            "\u001b[?25hRequirement already satisfied: tenacity>=6.2.0 in /usr/local/lib/python3.7/dist-packages (from plotly) (8.1.0)\n",
            "Installing collected packages: plotly\n",
            "  Attempting uninstall: plotly\n",
            "    Found existing installation: plotly 5.5.0\n",
            "    Uninstalling plotly-5.5.0:\n",
            "      Successfully uninstalled plotly-5.5.0\n",
            "Successfully installed plotly-5.10.0\n",
            "Looking in indexes: https://pypi.org/simple, https://us-python.pkg.dev/colab-wheels/public/simple/\n",
            "Collecting chart_studio\n",
            "  Downloading chart_studio-1.1.0-py3-none-any.whl (64 kB)\n",
            "\u001b[K     |████████████████████████████████| 64 kB 632 kB/s \n",
            "\u001b[?25hRequirement already satisfied: plotly in /usr/local/lib/python3.7/dist-packages (from chart_studio) (5.10.0)\n",
            "Requirement already satisfied: requests in /usr/local/lib/python3.7/dist-packages (from chart_studio) (2.23.0)\n",
            "Requirement already satisfied: six in /usr/local/lib/python3.7/dist-packages (from chart_studio) (1.15.0)\n",
            "Collecting retrying>=1.3.3\n",
            "  Downloading retrying-1.3.3.tar.gz (10 kB)\n",
            "Requirement already satisfied: tenacity>=6.2.0 in /usr/local/lib/python3.7/dist-packages (from plotly->chart_studio) (8.1.0)\n",
            "Requirement already satisfied: idna<3,>=2.5 in /usr/local/lib/python3.7/dist-packages (from requests->chart_studio) (2.10)\n",
            "Requirement already satisfied: certifi>=2017.4.17 in /usr/local/lib/python3.7/dist-packages (from requests->chart_studio) (2022.9.24)\n",
            "Requirement already satisfied: chardet<4,>=3.0.2 in /usr/local/lib/python3.7/dist-packages (from requests->chart_studio) (3.0.4)\n",
            "Requirement already satisfied: urllib3!=1.25.0,!=1.25.1,<1.26,>=1.21.1 in /usr/local/lib/python3.7/dist-packages (from requests->chart_studio) (1.24.3)\n",
            "Building wheels for collected packages: retrying\n",
            "  Building wheel for retrying (setup.py) ... \u001b[?25l\u001b[?25hdone\n",
            "  Created wheel for retrying: filename=retrying-1.3.3-py3-none-any.whl size=11447 sha256=5abdce440e2662b18fa5269444d4c80064e248866c41a9956b058246a3c89dd2\n",
            "  Stored in directory: /root/.cache/pip/wheels/f9/8d/8d/f6af3f7f9eea3553bc2fe6d53e4b287dad18b06a861ac56ddf\n",
            "Successfully built retrying\n",
            "Installing collected packages: retrying, chart-studio\n",
            "Successfully installed chart-studio-1.1.0 retrying-1.3.3\n"
          ]
        }
      ]
    },
    {
      "cell_type": "code",
      "source": [
        "if numero_produttori >0: \n",
        "  fig = px.line(df_discounted_cashflow_finale, x='Anno', y='Cumulato', color='Identificativo', markers=True, text = \"Cumulato\")\n",
        "  fig.update_layout(\n",
        "      title='Cashflow Cumulativo Con Flussi Di Cassa Attualizzati',\n",
        "      xaxis_tickfont_size=14,\n",
        "      xaxis = dict(\n",
        "          showgrid =True,\n",
        "          zeroline = True, \n",
        "          nticks = 25, \n",
        "          showline = True,\n",
        "          title='Anni',\n",
        "          titlefont_size=16,\n",
        "          tickfont_size=14,\n",
        "      ),\n",
        "      yaxis=dict(\n",
        "          showgrid =True,\n",
        "          zeroline = True, \n",
        "          nticks = 30, \n",
        "          showline = True,\n",
        "          title='€',\n",
        "          titlefont_size=16,\n",
        "          tickfont_size=14,\n",
        "      ),  \n",
        "  ) \n",
        "  fig.update_traces(textposition=\"bottom right\")\n",
        "  fig.update_yaxes(zeroline=True, zerolinewidth=1.5, zerolinecolor='grey')\n",
        "  fig.update_traces(texttemplate='%{text:.2f}€')\n",
        "  fig.update_layout(xaxis_range=[-0.5,df_discounted_cashflow_finale.Anno.max()+1.5])\n",
        "  #fig.update_traces(texttemplate= format('%{value:,.0f}€'))\n",
        "  fig.show()"
      ],
      "metadata": {
        "id": "AUKa9ttrnM5G",
        "colab": {
          "base_uri": "https://localhost:8080/",
          "height": 542
        },
        "outputId": "bb66e192-4b2f-4618-aa31-f86db2a3e28d"
      },
      "execution_count": null,
      "outputs": [
        {
          "output_type": "display_data",
          "data": {
            "text/html": [
              "<html>\n",
              "<head><meta charset=\"utf-8\" /></head>\n",
              "<body>\n",
              "    <div>            <script src=\"https://cdnjs.cloudflare.com/ajax/libs/mathjax/2.7.5/MathJax.js?config=TeX-AMS-MML_SVG\"></script><script type=\"text/javascript\">if (window.MathJax && window.MathJax.Hub && window.MathJax.Hub.Config) {window.MathJax.Hub.Config({SVG: {font: \"STIX-Web\"}});}</script>                <script type=\"text/javascript\">window.PlotlyConfig = {MathJaxConfig: 'local'};</script>\n",
              "        <script src=\"https://cdn.plot.ly/plotly-2.14.0.min.js\"></script>                <div id=\"13de9bd0-3efe-4b90-bd54-3e59466f7d82\" class=\"plotly-graph-div\" style=\"height:525px; width:100%;\"></div>            <script type=\"text/javascript\">                                    window.PLOTLYENV=window.PLOTLYENV || {};                                    if (document.getElementById(\"13de9bd0-3efe-4b90-bd54-3e59466f7d82\")) {                    Plotly.newPlot(                        \"13de9bd0-3efe-4b90-bd54-3e59466f7d82\",                        [{\"hovertemplate\":\"Identificativo=Produttore<br>Anno=%{x}<br>Cumulato=%{text}<extra></extra>\",\"legendgroup\":\"Produttore\",\"line\":{\"color\":\"#636efa\",\"dash\":\"solid\"},\"marker\":{\"symbol\":\"circle\"},\"mode\":\"markers+text+lines\",\"name\":\"Produttore\",\"orientation\":\"v\",\"showlegend\":true,\"text\":[2722368.675199999,2723141.654963106,2723892.12075253,2724620.7283150777,2725328.1142981336,2726014.896805955,2726681.675939762,2727329.034322099,2727957.5376059213,2728567.7349688555,2729160.1595930634,2729735.3291311297,2730293.746158378,2730835.8986120177,2731362.260217493,2731873.2909024204,2732369.4371984666,2732851.132631521,2733318.798100506,2733772.8422451513],\"x\":[0,1,2,3,4,5,6,7,8,9,10,11,12,13,14,15,16,17,18,19],\"xaxis\":\"x\",\"y\":[2722368.675199999,2723141.654963106,2723892.12075253,2724620.7283150777,2725328.1142981336,2726014.896805955,2726681.675939762,2727329.034322099,2727957.5376059213,2728567.7349688555,2729160.1595930634,2729735.3291311297,2730293.746158378,2730835.8986120177,2731362.260217493,2731873.2909024204,2732369.4371984666,2732851.132631521,2733318.798100506,2733772.8422451513],\"yaxis\":\"y\",\"type\":\"scatter\",\"textposition\":\"bottom right\",\"texttemplate\":\"%{text:.2f}\\u20ac\"}],                        {\"template\":{\"data\":{\"histogram2dcontour\":[{\"type\":\"histogram2dcontour\",\"colorbar\":{\"outlinewidth\":0,\"ticks\":\"\"},\"colorscale\":[[0.0,\"#0d0887\"],[0.1111111111111111,\"#46039f\"],[0.2222222222222222,\"#7201a8\"],[0.3333333333333333,\"#9c179e\"],[0.4444444444444444,\"#bd3786\"],[0.5555555555555556,\"#d8576b\"],[0.6666666666666666,\"#ed7953\"],[0.7777777777777778,\"#fb9f3a\"],[0.8888888888888888,\"#fdca26\"],[1.0,\"#f0f921\"]]}],\"choropleth\":[{\"type\":\"choropleth\",\"colorbar\":{\"outlinewidth\":0,\"ticks\":\"\"}}],\"histogram2d\":[{\"type\":\"histogram2d\",\"colorbar\":{\"outlinewidth\":0,\"ticks\":\"\"},\"colorscale\":[[0.0,\"#0d0887\"],[0.1111111111111111,\"#46039f\"],[0.2222222222222222,\"#7201a8\"],[0.3333333333333333,\"#9c179e\"],[0.4444444444444444,\"#bd3786\"],[0.5555555555555556,\"#d8576b\"],[0.6666666666666666,\"#ed7953\"],[0.7777777777777778,\"#fb9f3a\"],[0.8888888888888888,\"#fdca26\"],[1.0,\"#f0f921\"]]}],\"heatmap\":[{\"type\":\"heatmap\",\"colorbar\":{\"outlinewidth\":0,\"ticks\":\"\"},\"colorscale\":[[0.0,\"#0d0887\"],[0.1111111111111111,\"#46039f\"],[0.2222222222222222,\"#7201a8\"],[0.3333333333333333,\"#9c179e\"],[0.4444444444444444,\"#bd3786\"],[0.5555555555555556,\"#d8576b\"],[0.6666666666666666,\"#ed7953\"],[0.7777777777777778,\"#fb9f3a\"],[0.8888888888888888,\"#fdca26\"],[1.0,\"#f0f921\"]]}],\"heatmapgl\":[{\"type\":\"heatmapgl\",\"colorbar\":{\"outlinewidth\":0,\"ticks\":\"\"},\"colorscale\":[[0.0,\"#0d0887\"],[0.1111111111111111,\"#46039f\"],[0.2222222222222222,\"#7201a8\"],[0.3333333333333333,\"#9c179e\"],[0.4444444444444444,\"#bd3786\"],[0.5555555555555556,\"#d8576b\"],[0.6666666666666666,\"#ed7953\"],[0.7777777777777778,\"#fb9f3a\"],[0.8888888888888888,\"#fdca26\"],[1.0,\"#f0f921\"]]}],\"contourcarpet\":[{\"type\":\"contourcarpet\",\"colorbar\":{\"outlinewidth\":0,\"ticks\":\"\"}}],\"contour\":[{\"type\":\"contour\",\"colorbar\":{\"outlinewidth\":0,\"ticks\":\"\"},\"colorscale\":[[0.0,\"#0d0887\"],[0.1111111111111111,\"#46039f\"],[0.2222222222222222,\"#7201a8\"],[0.3333333333333333,\"#9c179e\"],[0.4444444444444444,\"#bd3786\"],[0.5555555555555556,\"#d8576b\"],[0.6666666666666666,\"#ed7953\"],[0.7777777777777778,\"#fb9f3a\"],[0.8888888888888888,\"#fdca26\"],[1.0,\"#f0f921\"]]}],\"surface\":[{\"type\":\"surface\",\"colorbar\":{\"outlinewidth\":0,\"ticks\":\"\"},\"colorscale\":[[0.0,\"#0d0887\"],[0.1111111111111111,\"#46039f\"],[0.2222222222222222,\"#7201a8\"],[0.3333333333333333,\"#9c179e\"],[0.4444444444444444,\"#bd3786\"],[0.5555555555555556,\"#d8576b\"],[0.6666666666666666,\"#ed7953\"],[0.7777777777777778,\"#fb9f3a\"],[0.8888888888888888,\"#fdca26\"],[1.0,\"#f0f921\"]]}],\"mesh3d\":[{\"type\":\"mesh3d\",\"colorbar\":{\"outlinewidth\":0,\"ticks\":\"\"}}],\"scatter\":[{\"fillpattern\":{\"fillmode\":\"overlay\",\"size\":10,\"solidity\":0.2},\"type\":\"scatter\"}],\"parcoords\":[{\"type\":\"parcoords\",\"line\":{\"colorbar\":{\"outlinewidth\":0,\"ticks\":\"\"}}}],\"scatterpolargl\":[{\"type\":\"scatterpolargl\",\"marker\":{\"colorbar\":{\"outlinewidth\":0,\"ticks\":\"\"}}}],\"bar\":[{\"error_x\":{\"color\":\"#2a3f5f\"},\"error_y\":{\"color\":\"#2a3f5f\"},\"marker\":{\"line\":{\"color\":\"#E5ECF6\",\"width\":0.5},\"pattern\":{\"fillmode\":\"overlay\",\"size\":10,\"solidity\":0.2}},\"type\":\"bar\"}],\"scattergeo\":[{\"type\":\"scattergeo\",\"marker\":{\"colorbar\":{\"outlinewidth\":0,\"ticks\":\"\"}}}],\"scatterpolar\":[{\"type\":\"scatterpolar\",\"marker\":{\"colorbar\":{\"outlinewidth\":0,\"ticks\":\"\"}}}],\"histogram\":[{\"marker\":{\"pattern\":{\"fillmode\":\"overlay\",\"size\":10,\"solidity\":0.2}},\"type\":\"histogram\"}],\"scattergl\":[{\"type\":\"scattergl\",\"marker\":{\"colorbar\":{\"outlinewidth\":0,\"ticks\":\"\"}}}],\"scatter3d\":[{\"type\":\"scatter3d\",\"line\":{\"colorbar\":{\"outlinewidth\":0,\"ticks\":\"\"}},\"marker\":{\"colorbar\":{\"outlinewidth\":0,\"ticks\":\"\"}}}],\"scattermapbox\":[{\"type\":\"scattermapbox\",\"marker\":{\"colorbar\":{\"outlinewidth\":0,\"ticks\":\"\"}}}],\"scatterternary\":[{\"type\":\"scatterternary\",\"marker\":{\"colorbar\":{\"outlinewidth\":0,\"ticks\":\"\"}}}],\"scattercarpet\":[{\"type\":\"scattercarpet\",\"marker\":{\"colorbar\":{\"outlinewidth\":0,\"ticks\":\"\"}}}],\"carpet\":[{\"aaxis\":{\"endlinecolor\":\"#2a3f5f\",\"gridcolor\":\"white\",\"linecolor\":\"white\",\"minorgridcolor\":\"white\",\"startlinecolor\":\"#2a3f5f\"},\"baxis\":{\"endlinecolor\":\"#2a3f5f\",\"gridcolor\":\"white\",\"linecolor\":\"white\",\"minorgridcolor\":\"white\",\"startlinecolor\":\"#2a3f5f\"},\"type\":\"carpet\"}],\"table\":[{\"cells\":{\"fill\":{\"color\":\"#EBF0F8\"},\"line\":{\"color\":\"white\"}},\"header\":{\"fill\":{\"color\":\"#C8D4E3\"},\"line\":{\"color\":\"white\"}},\"type\":\"table\"}],\"barpolar\":[{\"marker\":{\"line\":{\"color\":\"#E5ECF6\",\"width\":0.5},\"pattern\":{\"fillmode\":\"overlay\",\"size\":10,\"solidity\":0.2}},\"type\":\"barpolar\"}],\"pie\":[{\"automargin\":true,\"type\":\"pie\"}]},\"layout\":{\"autotypenumbers\":\"strict\",\"colorway\":[\"#636efa\",\"#EF553B\",\"#00cc96\",\"#ab63fa\",\"#FFA15A\",\"#19d3f3\",\"#FF6692\",\"#B6E880\",\"#FF97FF\",\"#FECB52\"],\"font\":{\"color\":\"#2a3f5f\"},\"hovermode\":\"closest\",\"hoverlabel\":{\"align\":\"left\"},\"paper_bgcolor\":\"white\",\"plot_bgcolor\":\"#E5ECF6\",\"polar\":{\"bgcolor\":\"#E5ECF6\",\"angularaxis\":{\"gridcolor\":\"white\",\"linecolor\":\"white\",\"ticks\":\"\"},\"radialaxis\":{\"gridcolor\":\"white\",\"linecolor\":\"white\",\"ticks\":\"\"}},\"ternary\":{\"bgcolor\":\"#E5ECF6\",\"aaxis\":{\"gridcolor\":\"white\",\"linecolor\":\"white\",\"ticks\":\"\"},\"baxis\":{\"gridcolor\":\"white\",\"linecolor\":\"white\",\"ticks\":\"\"},\"caxis\":{\"gridcolor\":\"white\",\"linecolor\":\"white\",\"ticks\":\"\"}},\"coloraxis\":{\"colorbar\":{\"outlinewidth\":0,\"ticks\":\"\"}},\"colorscale\":{\"sequential\":[[0.0,\"#0d0887\"],[0.1111111111111111,\"#46039f\"],[0.2222222222222222,\"#7201a8\"],[0.3333333333333333,\"#9c179e\"],[0.4444444444444444,\"#bd3786\"],[0.5555555555555556,\"#d8576b\"],[0.6666666666666666,\"#ed7953\"],[0.7777777777777778,\"#fb9f3a\"],[0.8888888888888888,\"#fdca26\"],[1.0,\"#f0f921\"]],\"sequentialminus\":[[0.0,\"#0d0887\"],[0.1111111111111111,\"#46039f\"],[0.2222222222222222,\"#7201a8\"],[0.3333333333333333,\"#9c179e\"],[0.4444444444444444,\"#bd3786\"],[0.5555555555555556,\"#d8576b\"],[0.6666666666666666,\"#ed7953\"],[0.7777777777777778,\"#fb9f3a\"],[0.8888888888888888,\"#fdca26\"],[1.0,\"#f0f921\"]],\"diverging\":[[0,\"#8e0152\"],[0.1,\"#c51b7d\"],[0.2,\"#de77ae\"],[0.3,\"#f1b6da\"],[0.4,\"#fde0ef\"],[0.5,\"#f7f7f7\"],[0.6,\"#e6f5d0\"],[0.7,\"#b8e186\"],[0.8,\"#7fbc41\"],[0.9,\"#4d9221\"],[1,\"#276419\"]]},\"xaxis\":{\"gridcolor\":\"white\",\"linecolor\":\"white\",\"ticks\":\"\",\"title\":{\"standoff\":15},\"zerolinecolor\":\"white\",\"automargin\":true,\"zerolinewidth\":2},\"yaxis\":{\"gridcolor\":\"white\",\"linecolor\":\"white\",\"ticks\":\"\",\"title\":{\"standoff\":15},\"zerolinecolor\":\"white\",\"automargin\":true,\"zerolinewidth\":2},\"scene\":{\"xaxis\":{\"backgroundcolor\":\"#E5ECF6\",\"gridcolor\":\"white\",\"linecolor\":\"white\",\"showbackground\":true,\"ticks\":\"\",\"zerolinecolor\":\"white\",\"gridwidth\":2},\"yaxis\":{\"backgroundcolor\":\"#E5ECF6\",\"gridcolor\":\"white\",\"linecolor\":\"white\",\"showbackground\":true,\"ticks\":\"\",\"zerolinecolor\":\"white\",\"gridwidth\":2},\"zaxis\":{\"backgroundcolor\":\"#E5ECF6\",\"gridcolor\":\"white\",\"linecolor\":\"white\",\"showbackground\":true,\"ticks\":\"\",\"zerolinecolor\":\"white\",\"gridwidth\":2}},\"shapedefaults\":{\"line\":{\"color\":\"#2a3f5f\"}},\"annotationdefaults\":{\"arrowcolor\":\"#2a3f5f\",\"arrowhead\":0,\"arrowwidth\":1},\"geo\":{\"bgcolor\":\"white\",\"landcolor\":\"#E5ECF6\",\"subunitcolor\":\"white\",\"showland\":true,\"showlakes\":true,\"lakecolor\":\"white\"},\"title\":{\"x\":0.05},\"mapbox\":{\"style\":\"light\"}}},\"xaxis\":{\"anchor\":\"y\",\"domain\":[0.0,1.0],\"title\":{\"text\":\"Anni\",\"font\":{\"size\":16}},\"tickfont\":{\"size\":14},\"showgrid\":true,\"zeroline\":true,\"nticks\":25,\"showline\":true,\"range\":[-0.5,20.5]},\"yaxis\":{\"anchor\":\"x\",\"domain\":[0.0,1.0],\"title\":{\"text\":\"\\u20ac\",\"font\":{\"size\":16}},\"tickfont\":{\"size\":14},\"showgrid\":true,\"zeroline\":true,\"nticks\":30,\"showline\":true,\"zerolinewidth\":1.5,\"zerolinecolor\":\"grey\"},\"legend\":{\"title\":{\"text\":\"Identificativo\"},\"tracegroupgap\":0},\"margin\":{\"t\":60},\"title\":{\"text\":\"Cashflow Cumulativo Con Flussi Di Cassa Attualizzati\"}},                        {\"responsive\": true}                    ).then(function(){\n",
              "                            \n",
              "var gd = document.getElementById('13de9bd0-3efe-4b90-bd54-3e59466f7d82');\n",
              "var x = new MutationObserver(function (mutations, observer) {{\n",
              "        var display = window.getComputedStyle(gd).display;\n",
              "        if (!display || display === 'none') {{\n",
              "            console.log([gd, 'removed!']);\n",
              "            Plotly.purge(gd);\n",
              "            observer.disconnect();\n",
              "        }}\n",
              "}});\n",
              "\n",
              "// Listen for the removal of the full notebook cells\n",
              "var notebookContainer = gd.closest('#notebook-container');\n",
              "if (notebookContainer) {{\n",
              "    x.observe(notebookContainer, {childList: true});\n",
              "}}\n",
              "\n",
              "// Listen for the clearing of the current output cell\n",
              "var outputEl = gd.closest('.output');\n",
              "if (outputEl) {{\n",
              "    x.observe(outputEl, {childList: true});\n",
              "}}\n",
              "\n",
              "                        })                };                            </script>        </div>\n",
              "</body>\n",
              "</html>"
            ]
          },
          "metadata": {}
        }
      ]
    },
    {
      "cell_type": "code",
      "source": [
        "df_finale[df_finale['Categoria'] == 'Idroelettrico']"
      ],
      "metadata": {
        "id": "6zimrIII0xpm",
        "colab": {
          "base_uri": "https://localhost:8080/",
          "height": 195
        },
        "outputId": "db9d2edc-d51e-4679-8622-5e4a3c704db4"
      },
      "execution_count": null,
      "outputs": [
        {
          "output_type": "execute_result",
          "data": {
            "text/plain": [
              "Empty DataFrame\n",
              "Columns: [Identificativo, Potenza Da Installare, Somma Immissione, Somma Autoconsumo, Somma Produzione Aggiuntiva, Bilancio Energetico, Taglia Impianto Potenziale, Costo Impianto Potenziale, Costo Potenza da Installare, Costo Bolletta, Percentuale Condivisa, Categoria, Percentuale Immessa, Percentuale Immessa Prosumer, Incentivo Condivisione, Ritiro Dedicato, Vendita Energia Idroelettrico, Entrate Totali, Costi Funzionamento CER, Contributo Alla Produzione, Rientro Investimento Impianto, Beneficio Economico Totale, Percentuale Trattenuta Incentivo Condivisione, Trattenuta Incentivo Condivisione]\n",
              "Index: []\n",
              "\n",
              "[0 rows x 24 columns]"
            ],
            "text/html": [
              "\n",
              "  <div id=\"df-8d3c4fad-c358-4361-a5d5-61a1cd4345d7\">\n",
              "    <div class=\"colab-df-container\">\n",
              "      <div>\n",
              "<style scoped>\n",
              "    .dataframe tbody tr th:only-of-type {\n",
              "        vertical-align: middle;\n",
              "    }\n",
              "\n",
              "    .dataframe tbody tr th {\n",
              "        vertical-align: top;\n",
              "    }\n",
              "\n",
              "    .dataframe thead th {\n",
              "        text-align: right;\n",
              "    }\n",
              "</style>\n",
              "<table border=\"1\" class=\"dataframe\">\n",
              "  <thead>\n",
              "    <tr style=\"text-align: right;\">\n",
              "      <th></th>\n",
              "      <th>Identificativo</th>\n",
              "      <th>Potenza Da Installare</th>\n",
              "      <th>Somma Immissione</th>\n",
              "      <th>Somma Autoconsumo</th>\n",
              "      <th>Somma Produzione Aggiuntiva</th>\n",
              "      <th>Bilancio Energetico</th>\n",
              "      <th>Taglia Impianto Potenziale</th>\n",
              "      <th>Costo Impianto Potenziale</th>\n",
              "      <th>Costo Potenza da Installare</th>\n",
              "      <th>Costo Bolletta</th>\n",
              "      <th>...</th>\n",
              "      <th>Incentivo Condivisione</th>\n",
              "      <th>Ritiro Dedicato</th>\n",
              "      <th>Vendita Energia Idroelettrico</th>\n",
              "      <th>Entrate Totali</th>\n",
              "      <th>Costi Funzionamento CER</th>\n",
              "      <th>Contributo Alla Produzione</th>\n",
              "      <th>Rientro Investimento Impianto</th>\n",
              "      <th>Beneficio Economico Totale</th>\n",
              "      <th>Percentuale Trattenuta Incentivo Condivisione</th>\n",
              "      <th>Trattenuta Incentivo Condivisione</th>\n",
              "    </tr>\n",
              "  </thead>\n",
              "  <tbody>\n",
              "  </tbody>\n",
              "</table>\n",
              "<p>0 rows × 24 columns</p>\n",
              "</div>\n",
              "      <button class=\"colab-df-convert\" onclick=\"convertToInteractive('df-8d3c4fad-c358-4361-a5d5-61a1cd4345d7')\"\n",
              "              title=\"Convert this dataframe to an interactive table.\"\n",
              "              style=\"display:none;\">\n",
              "        \n",
              "  <svg xmlns=\"http://www.w3.org/2000/svg\" height=\"24px\"viewBox=\"0 0 24 24\"\n",
              "       width=\"24px\">\n",
              "    <path d=\"M0 0h24v24H0V0z\" fill=\"none\"/>\n",
              "    <path d=\"M18.56 5.44l.94 2.06.94-2.06 2.06-.94-2.06-.94-.94-2.06-.94 2.06-2.06.94zm-11 1L8.5 8.5l.94-2.06 2.06-.94-2.06-.94L8.5 2.5l-.94 2.06-2.06.94zm10 10l.94 2.06.94-2.06 2.06-.94-2.06-.94-.94-2.06-.94 2.06-2.06.94z\"/><path d=\"M17.41 7.96l-1.37-1.37c-.4-.4-.92-.59-1.43-.59-.52 0-1.04.2-1.43.59L10.3 9.45l-7.72 7.72c-.78.78-.78 2.05 0 2.83L4 21.41c.39.39.9.59 1.41.59.51 0 1.02-.2 1.41-.59l7.78-7.78 2.81-2.81c.8-.78.8-2.07 0-2.86zM5.41 20L4 18.59l7.72-7.72 1.47 1.35L5.41 20z\"/>\n",
              "  </svg>\n",
              "      </button>\n",
              "      \n",
              "  <style>\n",
              "    .colab-df-container {\n",
              "      display:flex;\n",
              "      flex-wrap:wrap;\n",
              "      gap: 12px;\n",
              "    }\n",
              "\n",
              "    .colab-df-convert {\n",
              "      background-color: #E8F0FE;\n",
              "      border: none;\n",
              "      border-radius: 50%;\n",
              "      cursor: pointer;\n",
              "      display: none;\n",
              "      fill: #1967D2;\n",
              "      height: 32px;\n",
              "      padding: 0 0 0 0;\n",
              "      width: 32px;\n",
              "    }\n",
              "\n",
              "    .colab-df-convert:hover {\n",
              "      background-color: #E2EBFA;\n",
              "      box-shadow: 0px 1px 2px rgba(60, 64, 67, 0.3), 0px 1px 3px 1px rgba(60, 64, 67, 0.15);\n",
              "      fill: #174EA6;\n",
              "    }\n",
              "\n",
              "    [theme=dark] .colab-df-convert {\n",
              "      background-color: #3B4455;\n",
              "      fill: #D2E3FC;\n",
              "    }\n",
              "\n",
              "    [theme=dark] .colab-df-convert:hover {\n",
              "      background-color: #434B5C;\n",
              "      box-shadow: 0px 1px 3px 1px rgba(0, 0, 0, 0.15);\n",
              "      filter: drop-shadow(0px 1px 2px rgba(0, 0, 0, 0.3));\n",
              "      fill: #FFFFFF;\n",
              "    }\n",
              "  </style>\n",
              "\n",
              "      <script>\n",
              "        const buttonEl =\n",
              "          document.querySelector('#df-8d3c4fad-c358-4361-a5d5-61a1cd4345d7 button.colab-df-convert');\n",
              "        buttonEl.style.display =\n",
              "          google.colab.kernel.accessAllowed ? 'block' : 'none';\n",
              "\n",
              "        async function convertToInteractive(key) {\n",
              "          const element = document.querySelector('#df-8d3c4fad-c358-4361-a5d5-61a1cd4345d7');\n",
              "          const dataTable =\n",
              "            await google.colab.kernel.invokeFunction('convertToInteractive',\n",
              "                                                     [key], {});\n",
              "          if (!dataTable) return;\n",
              "\n",
              "          const docLinkHtml = 'Like what you see? Visit the ' +\n",
              "            '<a target=\"_blank\" href=https://colab.research.google.com/notebooks/data_table.ipynb>data table notebook</a>'\n",
              "            + ' to learn more about interactive tables.';\n",
              "          element.innerHTML = '';\n",
              "          dataTable['output_type'] = 'display_data';\n",
              "          await google.colab.output.renderOutput(dataTable, element);\n",
              "          const docLink = document.createElement('div');\n",
              "          docLink.innerHTML = docLinkHtml;\n",
              "          element.appendChild(docLink);\n",
              "        }\n",
              "      </script>\n",
              "    </div>\n",
              "  </div>\n",
              "  "
            ]
          },
          "metadata": {},
          "execution_count": 164
        }
      ]
    },
    {
      "cell_type": "code",
      "metadata": {
        "id": "3YV78jrPBf3Z",
        "colab": {
          "base_uri": "https://localhost:8080/",
          "height": 717
        },
        "outputId": "9e9c3b4e-cb92-41bc-b5e7-dab2c3a0e401"
      },
      "source": [
        "fig = make_subplots(\n",
        "    rows=6, cols=3,\n",
        "    specs=[[{\"rowspan\": 1, \"colspan\": 3},None, None],\n",
        "          [{\"rowspan\": 1, \"colspan\": 3},None, None], \n",
        "          [{\"rowspan\": 1, \"colspan\": 1}, {\"rowspan\": 1, \"colspan\": 2},None], \n",
        "          [{\"rowspan\": 1, \"colspan\": 1}, {\"rowspan\": 1, \"colspan\": 2},None],\n",
        "          [{\"rowspan\": 1, \"colspan\": 1}, {\"rowspan\": 1, \"colspan\": 2},None], \n",
        "          [{\"rowspan\": 1, \"colspan\": 1}, {\"rowspan\": 1, \"colspan\": 2},None]], \n",
        "          shared_yaxes=True)\n",
        "\n",
        "fig.add_trace(go.Bar(x=['Totale Ritiro Dedicato'], y=[df_finale['Ritiro Dedicato'].sum()],\n",
        "                    marker_color=['blue'], text=[df_finale['Ritiro Dedicato'].sum().round(0)]),\n",
        "              1, 1)\n",
        "\n",
        "\n",
        "fig.add_trace(go.Bar(x=['Quota Idroelettrico'], y=[df_finale[df_finale['Identificativo'] == 'Idroelettrico']['Entrate Totali'].sum()],\n",
        "                    marker_color=['pink'], text=[df_finale[df_finale['Identificativo'] == 'Idroelettrico']['Entrate Totali'].sum().round(0)]),\n",
        "              2, 1)\n",
        "\n",
        "\n",
        "fig.add_trace(go.Bar(x=['Totale Incentivo Energia Condivisa'], y=[Incentivo_Totale_Condivisione],\n",
        "                   marker_color=['#00FF6F'], text=[Incentivo_Totale_Condivisione.round(0)]),\n",
        "              3, 1)\n",
        "fig.add_trace(go.Bar(x=['Costi di Gestione', 'Incentivo Attribuibile'], y=[Incentivo_Costi_Gestione, Incentivo_Attribuibile],\n",
        "                    marker_color=['orange', 'red'], text=[Incentivo_Costi_Gestione.round(0), Incentivo_Attribuibile.round(0)]),\n",
        "              3, 2)\n",
        "\n",
        "fig.add_trace(go.Bar(x=['Incentivo Attribuibile'], y=[Incentivo_Attribuibile],\n",
        "                    marker_color=['red'], text=[Incentivo_Attribuibile.round(0)]),\n",
        "              4, 1)\n",
        "fig.add_trace(go.Bar(x=['Quota Fissa', 'Quota Variabile'], y=[Quota_Fissa, Quota_Variabile],\n",
        "                    marker_color=['yellow', 'purple'], text=[Quota_Fissa.round(0), Quota_Variabile.round(0)]),\n",
        "              4, 2)\n",
        "\n",
        "fig.add_trace(go.Bar(x=['Quota Variabile'], y=[Quota_Variabile],\n",
        "                    marker_color=['purple'], text=[Quota_Variabile.round(0)]),\n",
        "              5, 1)\n",
        "\n",
        "fig.add_trace(go.Bar(x=['Quota Consumatori', 'Quota Immissione'], y=[Quota_Consumatori, Quota_Immissione],\n",
        "                    marker_color=['pink', '#4E8FFF'], text=[Quota_Consumatori.round(0), Quota_Immissione.round(0)]),\n",
        "              5, 2)\n",
        "\n",
        "fig.add_trace(go.Bar(x=['Quota Immissione'], y=[Quota_Immissione],\n",
        "                    marker_color=['#4E8FFF'], text=[Quota_Immissione.round(0)]),\n",
        "              6, 1)\n",
        "\n",
        "fig.add_trace(go.Bar(x=['Quota Produttore', 'Quota Prosumer'], y=[Quota_Produttore, Quota_Prosumer],\n",
        "                    marker_color=['#FF5733', '#D58BB9'], text=[Quota_Produttore.round(0), Quota_Prosumer.round(0)]),\n",
        "              6, 2)\n",
        "\n",
        "fig.update_layout(coloraxis=dict(colorscale='Bluered_r'), showlegend=False)\n",
        "fig.update_layout(barmode='stack')\n",
        "fig.update_layout(height=700, width=900)\n",
        "fig.update_traces(texttemplate= format('%{value:,.0f}€'))\n",
        "fig.show()"
      ],
      "execution_count": null,
      "outputs": [
        {
          "output_type": "display_data",
          "data": {
            "text/html": [
              "<html>\n",
              "<head><meta charset=\"utf-8\" /></head>\n",
              "<body>\n",
              "    <div>            <script src=\"https://cdnjs.cloudflare.com/ajax/libs/mathjax/2.7.5/MathJax.js?config=TeX-AMS-MML_SVG\"></script><script type=\"text/javascript\">if (window.MathJax && window.MathJax.Hub && window.MathJax.Hub.Config) {window.MathJax.Hub.Config({SVG: {font: \"STIX-Web\"}});}</script>                <script type=\"text/javascript\">window.PlotlyConfig = {MathJaxConfig: 'local'};</script>\n",
              "        <script src=\"https://cdn.plot.ly/plotly-2.14.0.min.js\"></script>                <div id=\"b33d150d-3ac7-4d7c-bb60-6b762a197bfd\" class=\"plotly-graph-div\" style=\"height:700px; width:900px;\"></div>            <script type=\"text/javascript\">                                    window.PLOTLYENV=window.PLOTLYENV || {};                                    if (document.getElementById(\"b33d150d-3ac7-4d7c-bb60-6b762a197bfd\")) {                    Plotly.newPlot(                        \"b33d150d-3ac7-4d7c-bb60-6b762a197bfd\",                        [{\"marker\":{\"color\":[\"blue\"]},\"text\":[\"267498.0\"],\"x\":[\"Totale Ritiro Dedicato\"],\"y\":[267498.4077],\"type\":\"bar\",\"xaxis\":\"x\",\"yaxis\":\"y\",\"texttemplate\":\"%{value:,.0f}\\u20ac\"},{\"marker\":{\"color\":[\"pink\"]},\"text\":[\"661.0\"],\"x\":[\"Quota Idroelettrico\"],\"y\":[660.6400000000001],\"type\":\"bar\",\"xaxis\":\"x2\",\"yaxis\":\"y2\",\"texttemplate\":\"%{value:,.0f}\\u20ac\"},{\"marker\":{\"color\":[\"#00FF6F\"]},\"text\":[\"16025.0\"],\"x\":[\"Totale Incentivo Energia Condivisa\"],\"y\":[16025.182600000044],\"type\":\"bar\",\"xaxis\":\"x3\",\"yaxis\":\"y3\",\"texttemplate\":\"%{value:,.0f}\\u20ac\"},{\"marker\":{\"color\":[\"orange\",\"red\"]},\"text\":[\"1603.0\",\"14163.0\"],\"x\":[\"Costi di Gestione\",\"Incentivo Attribuibile\"],\"y\":[1602.5182600000044,14162.537340000039],\"type\":\"bar\",\"xaxis\":\"x4\",\"yaxis\":\"y4\",\"texttemplate\":\"%{value:,.0f}\\u20ac\"},{\"marker\":{\"color\":[\"red\"]},\"text\":[\"14163.0\"],\"x\":[\"Incentivo Attribuibile\"],\"y\":[14162.537340000039],\"type\":\"bar\",\"xaxis\":\"x5\",\"yaxis\":\"y5\",\"texttemplate\":\"%{value:,.0f}\\u20ac\"},{\"marker\":{\"color\":[\"yellow\",\"purple\"]},\"text\":[\"2833.0\",\"11330.0\"],\"x\":[\"Quota Fissa\",\"Quota Variabile\"],\"y\":[2832.507468000008,11330.029872000032],\"type\":\"bar\",\"xaxis\":\"x6\",\"yaxis\":\"y6\",\"texttemplate\":\"%{value:,.0f}\\u20ac\"},{\"marker\":{\"color\":[\"purple\"]},\"text\":[\"11330.0\"],\"x\":[\"Quota Variabile\"],\"y\":[11330.029872000032],\"type\":\"bar\",\"xaxis\":\"x7\",\"yaxis\":\"y7\",\"texttemplate\":\"%{value:,.0f}\\u20ac\"},{\"marker\":{\"color\":[\"pink\",\"#4E8FFF\"]},\"text\":[\"6798.0\",\"4532.0\"],\"x\":[\"Quota Consumatori\",\"Quota Immissione\"],\"y\":[6798.017923200019,4532.011948800013],\"type\":\"bar\",\"xaxis\":\"x8\",\"yaxis\":\"y8\",\"texttemplate\":\"%{value:,.0f}\\u20ac\"},{\"marker\":{\"color\":[\"#4E8FFF\"]},\"text\":[\"4532.0\"],\"x\":[\"Quota Immissione\"],\"y\":[4532.011948800013],\"type\":\"bar\",\"xaxis\":\"x9\",\"yaxis\":\"y9\",\"texttemplate\":\"%{value:,.0f}\\u20ac\"},{\"marker\":{\"color\":[\"#FF5733\",\"#D58BB9\"]},\"text\":[\"4441.0\",\"91.0\"],\"x\":[\"Quota Produttore\",\"Quota Prosumer\"],\"y\":[4441.371709824012,90.64023897600026],\"type\":\"bar\",\"xaxis\":\"x10\",\"yaxis\":\"y10\",\"texttemplate\":\"%{value:,.0f}\\u20ac\"}],                        {\"template\":{\"data\":{\"histogram2dcontour\":[{\"type\":\"histogram2dcontour\",\"colorbar\":{\"outlinewidth\":0,\"ticks\":\"\"},\"colorscale\":[[0.0,\"#0d0887\"],[0.1111111111111111,\"#46039f\"],[0.2222222222222222,\"#7201a8\"],[0.3333333333333333,\"#9c179e\"],[0.4444444444444444,\"#bd3786\"],[0.5555555555555556,\"#d8576b\"],[0.6666666666666666,\"#ed7953\"],[0.7777777777777778,\"#fb9f3a\"],[0.8888888888888888,\"#fdca26\"],[1.0,\"#f0f921\"]]}],\"choropleth\":[{\"type\":\"choropleth\",\"colorbar\":{\"outlinewidth\":0,\"ticks\":\"\"}}],\"histogram2d\":[{\"type\":\"histogram2d\",\"colorbar\":{\"outlinewidth\":0,\"ticks\":\"\"},\"colorscale\":[[0.0,\"#0d0887\"],[0.1111111111111111,\"#46039f\"],[0.2222222222222222,\"#7201a8\"],[0.3333333333333333,\"#9c179e\"],[0.4444444444444444,\"#bd3786\"],[0.5555555555555556,\"#d8576b\"],[0.6666666666666666,\"#ed7953\"],[0.7777777777777778,\"#fb9f3a\"],[0.8888888888888888,\"#fdca26\"],[1.0,\"#f0f921\"]]}],\"heatmap\":[{\"type\":\"heatmap\",\"colorbar\":{\"outlinewidth\":0,\"ticks\":\"\"},\"colorscale\":[[0.0,\"#0d0887\"],[0.1111111111111111,\"#46039f\"],[0.2222222222222222,\"#7201a8\"],[0.3333333333333333,\"#9c179e\"],[0.4444444444444444,\"#bd3786\"],[0.5555555555555556,\"#d8576b\"],[0.6666666666666666,\"#ed7953\"],[0.7777777777777778,\"#fb9f3a\"],[0.8888888888888888,\"#fdca26\"],[1.0,\"#f0f921\"]]}],\"heatmapgl\":[{\"type\":\"heatmapgl\",\"colorbar\":{\"outlinewidth\":0,\"ticks\":\"\"},\"colorscale\":[[0.0,\"#0d0887\"],[0.1111111111111111,\"#46039f\"],[0.2222222222222222,\"#7201a8\"],[0.3333333333333333,\"#9c179e\"],[0.4444444444444444,\"#bd3786\"],[0.5555555555555556,\"#d8576b\"],[0.6666666666666666,\"#ed7953\"],[0.7777777777777778,\"#fb9f3a\"],[0.8888888888888888,\"#fdca26\"],[1.0,\"#f0f921\"]]}],\"contourcarpet\":[{\"type\":\"contourcarpet\",\"colorbar\":{\"outlinewidth\":0,\"ticks\":\"\"}}],\"contour\":[{\"type\":\"contour\",\"colorbar\":{\"outlinewidth\":0,\"ticks\":\"\"},\"colorscale\":[[0.0,\"#0d0887\"],[0.1111111111111111,\"#46039f\"],[0.2222222222222222,\"#7201a8\"],[0.3333333333333333,\"#9c179e\"],[0.4444444444444444,\"#bd3786\"],[0.5555555555555556,\"#d8576b\"],[0.6666666666666666,\"#ed7953\"],[0.7777777777777778,\"#fb9f3a\"],[0.8888888888888888,\"#fdca26\"],[1.0,\"#f0f921\"]]}],\"surface\":[{\"type\":\"surface\",\"colorbar\":{\"outlinewidth\":0,\"ticks\":\"\"},\"colorscale\":[[0.0,\"#0d0887\"],[0.1111111111111111,\"#46039f\"],[0.2222222222222222,\"#7201a8\"],[0.3333333333333333,\"#9c179e\"],[0.4444444444444444,\"#bd3786\"],[0.5555555555555556,\"#d8576b\"],[0.6666666666666666,\"#ed7953\"],[0.7777777777777778,\"#fb9f3a\"],[0.8888888888888888,\"#fdca26\"],[1.0,\"#f0f921\"]]}],\"mesh3d\":[{\"type\":\"mesh3d\",\"colorbar\":{\"outlinewidth\":0,\"ticks\":\"\"}}],\"scatter\":[{\"fillpattern\":{\"fillmode\":\"overlay\",\"size\":10,\"solidity\":0.2},\"type\":\"scatter\"}],\"parcoords\":[{\"type\":\"parcoords\",\"line\":{\"colorbar\":{\"outlinewidth\":0,\"ticks\":\"\"}}}],\"scatterpolargl\":[{\"type\":\"scatterpolargl\",\"marker\":{\"colorbar\":{\"outlinewidth\":0,\"ticks\":\"\"}}}],\"bar\":[{\"error_x\":{\"color\":\"#2a3f5f\"},\"error_y\":{\"color\":\"#2a3f5f\"},\"marker\":{\"line\":{\"color\":\"#E5ECF6\",\"width\":0.5},\"pattern\":{\"fillmode\":\"overlay\",\"size\":10,\"solidity\":0.2}},\"type\":\"bar\"}],\"scattergeo\":[{\"type\":\"scattergeo\",\"marker\":{\"colorbar\":{\"outlinewidth\":0,\"ticks\":\"\"}}}],\"scatterpolar\":[{\"type\":\"scatterpolar\",\"marker\":{\"colorbar\":{\"outlinewidth\":0,\"ticks\":\"\"}}}],\"histogram\":[{\"marker\":{\"pattern\":{\"fillmode\":\"overlay\",\"size\":10,\"solidity\":0.2}},\"type\":\"histogram\"}],\"scattergl\":[{\"type\":\"scattergl\",\"marker\":{\"colorbar\":{\"outlinewidth\":0,\"ticks\":\"\"}}}],\"scatter3d\":[{\"type\":\"scatter3d\",\"line\":{\"colorbar\":{\"outlinewidth\":0,\"ticks\":\"\"}},\"marker\":{\"colorbar\":{\"outlinewidth\":0,\"ticks\":\"\"}}}],\"scattermapbox\":[{\"type\":\"scattermapbox\",\"marker\":{\"colorbar\":{\"outlinewidth\":0,\"ticks\":\"\"}}}],\"scatterternary\":[{\"type\":\"scatterternary\",\"marker\":{\"colorbar\":{\"outlinewidth\":0,\"ticks\":\"\"}}}],\"scattercarpet\":[{\"type\":\"scattercarpet\",\"marker\":{\"colorbar\":{\"outlinewidth\":0,\"ticks\":\"\"}}}],\"carpet\":[{\"aaxis\":{\"endlinecolor\":\"#2a3f5f\",\"gridcolor\":\"white\",\"linecolor\":\"white\",\"minorgridcolor\":\"white\",\"startlinecolor\":\"#2a3f5f\"},\"baxis\":{\"endlinecolor\":\"#2a3f5f\",\"gridcolor\":\"white\",\"linecolor\":\"white\",\"minorgridcolor\":\"white\",\"startlinecolor\":\"#2a3f5f\"},\"type\":\"carpet\"}],\"table\":[{\"cells\":{\"fill\":{\"color\":\"#EBF0F8\"},\"line\":{\"color\":\"white\"}},\"header\":{\"fill\":{\"color\":\"#C8D4E3\"},\"line\":{\"color\":\"white\"}},\"type\":\"table\"}],\"barpolar\":[{\"marker\":{\"line\":{\"color\":\"#E5ECF6\",\"width\":0.5},\"pattern\":{\"fillmode\":\"overlay\",\"size\":10,\"solidity\":0.2}},\"type\":\"barpolar\"}],\"pie\":[{\"automargin\":true,\"type\":\"pie\"}]},\"layout\":{\"autotypenumbers\":\"strict\",\"colorway\":[\"#636efa\",\"#EF553B\",\"#00cc96\",\"#ab63fa\",\"#FFA15A\",\"#19d3f3\",\"#FF6692\",\"#B6E880\",\"#FF97FF\",\"#FECB52\"],\"font\":{\"color\":\"#2a3f5f\"},\"hovermode\":\"closest\",\"hoverlabel\":{\"align\":\"left\"},\"paper_bgcolor\":\"white\",\"plot_bgcolor\":\"#E5ECF6\",\"polar\":{\"bgcolor\":\"#E5ECF6\",\"angularaxis\":{\"gridcolor\":\"white\",\"linecolor\":\"white\",\"ticks\":\"\"},\"radialaxis\":{\"gridcolor\":\"white\",\"linecolor\":\"white\",\"ticks\":\"\"}},\"ternary\":{\"bgcolor\":\"#E5ECF6\",\"aaxis\":{\"gridcolor\":\"white\",\"linecolor\":\"white\",\"ticks\":\"\"},\"baxis\":{\"gridcolor\":\"white\",\"linecolor\":\"white\",\"ticks\":\"\"},\"caxis\":{\"gridcolor\":\"white\",\"linecolor\":\"white\",\"ticks\":\"\"}},\"coloraxis\":{\"colorbar\":{\"outlinewidth\":0,\"ticks\":\"\"}},\"colorscale\":{\"sequential\":[[0.0,\"#0d0887\"],[0.1111111111111111,\"#46039f\"],[0.2222222222222222,\"#7201a8\"],[0.3333333333333333,\"#9c179e\"],[0.4444444444444444,\"#bd3786\"],[0.5555555555555556,\"#d8576b\"],[0.6666666666666666,\"#ed7953\"],[0.7777777777777778,\"#fb9f3a\"],[0.8888888888888888,\"#fdca26\"],[1.0,\"#f0f921\"]],\"sequentialminus\":[[0.0,\"#0d0887\"],[0.1111111111111111,\"#46039f\"],[0.2222222222222222,\"#7201a8\"],[0.3333333333333333,\"#9c179e\"],[0.4444444444444444,\"#bd3786\"],[0.5555555555555556,\"#d8576b\"],[0.6666666666666666,\"#ed7953\"],[0.7777777777777778,\"#fb9f3a\"],[0.8888888888888888,\"#fdca26\"],[1.0,\"#f0f921\"]],\"diverging\":[[0,\"#8e0152\"],[0.1,\"#c51b7d\"],[0.2,\"#de77ae\"],[0.3,\"#f1b6da\"],[0.4,\"#fde0ef\"],[0.5,\"#f7f7f7\"],[0.6,\"#e6f5d0\"],[0.7,\"#b8e186\"],[0.8,\"#7fbc41\"],[0.9,\"#4d9221\"],[1,\"#276419\"]]},\"xaxis\":{\"gridcolor\":\"white\",\"linecolor\":\"white\",\"ticks\":\"\",\"title\":{\"standoff\":15},\"zerolinecolor\":\"white\",\"automargin\":true,\"zerolinewidth\":2},\"yaxis\":{\"gridcolor\":\"white\",\"linecolor\":\"white\",\"ticks\":\"\",\"title\":{\"standoff\":15},\"zerolinecolor\":\"white\",\"automargin\":true,\"zerolinewidth\":2},\"scene\":{\"xaxis\":{\"backgroundcolor\":\"#E5ECF6\",\"gridcolor\":\"white\",\"linecolor\":\"white\",\"showbackground\":true,\"ticks\":\"\",\"zerolinecolor\":\"white\",\"gridwidth\":2},\"yaxis\":{\"backgroundcolor\":\"#E5ECF6\",\"gridcolor\":\"white\",\"linecolor\":\"white\",\"showbackground\":true,\"ticks\":\"\",\"zerolinecolor\":\"white\",\"gridwidth\":2},\"zaxis\":{\"backgroundcolor\":\"#E5ECF6\",\"gridcolor\":\"white\",\"linecolor\":\"white\",\"showbackground\":true,\"ticks\":\"\",\"zerolinecolor\":\"white\",\"gridwidth\":2}},\"shapedefaults\":{\"line\":{\"color\":\"#2a3f5f\"}},\"annotationdefaults\":{\"arrowcolor\":\"#2a3f5f\",\"arrowhead\":0,\"arrowwidth\":1},\"geo\":{\"bgcolor\":\"white\",\"landcolor\":\"#E5ECF6\",\"subunitcolor\":\"white\",\"showland\":true,\"showlakes\":true,\"lakecolor\":\"white\"},\"title\":{\"x\":0.05},\"mapbox\":{\"style\":\"light\"}}},\"xaxis\":{\"anchor\":\"y\",\"domain\":[0.0,1.0]},\"yaxis\":{\"anchor\":\"x\",\"domain\":[0.875,1.0]},\"xaxis2\":{\"anchor\":\"y2\",\"domain\":[0.0,1.0]},\"yaxis2\":{\"anchor\":\"x2\",\"domain\":[0.7,0.825]},\"xaxis3\":{\"anchor\":\"y3\",\"domain\":[0.0,0.2888888888888889]},\"yaxis3\":{\"anchor\":\"x3\",\"domain\":[0.525,0.65]},\"xaxis4\":{\"anchor\":\"y4\",\"domain\":[0.35555555555555557,1.0]},\"yaxis4\":{\"anchor\":\"x4\",\"domain\":[0.525,0.65],\"matches\":\"y3\",\"showticklabels\":false},\"xaxis5\":{\"anchor\":\"y5\",\"domain\":[0.0,0.2888888888888889]},\"yaxis5\":{\"anchor\":\"x5\",\"domain\":[0.35,0.475]},\"xaxis6\":{\"anchor\":\"y6\",\"domain\":[0.35555555555555557,1.0]},\"yaxis6\":{\"anchor\":\"x6\",\"domain\":[0.35,0.475],\"matches\":\"y5\",\"showticklabels\":false},\"xaxis7\":{\"anchor\":\"y7\",\"domain\":[0.0,0.2888888888888889]},\"yaxis7\":{\"anchor\":\"x7\",\"domain\":[0.175,0.3]},\"xaxis8\":{\"anchor\":\"y8\",\"domain\":[0.35555555555555557,1.0]},\"yaxis8\":{\"anchor\":\"x8\",\"domain\":[0.175,0.3],\"matches\":\"y7\",\"showticklabels\":false},\"xaxis9\":{\"anchor\":\"y9\",\"domain\":[0.0,0.2888888888888889]},\"yaxis9\":{\"anchor\":\"x9\",\"domain\":[0.0,0.125]},\"xaxis10\":{\"anchor\":\"y10\",\"domain\":[0.35555555555555557,1.0]},\"yaxis10\":{\"anchor\":\"x10\",\"domain\":[0.0,0.125],\"matches\":\"y9\",\"showticklabels\":false},\"coloraxis\":{\"colorscale\":[[0.0,\"rgb(255,0,0)\"],[1.0,\"rgb(0,0,255)\"]]},\"showlegend\":false,\"barmode\":\"stack\",\"height\":700,\"width\":900},                        {\"responsive\": true}                    ).then(function(){\n",
              "                            \n",
              "var gd = document.getElementById('b33d150d-3ac7-4d7c-bb60-6b762a197bfd');\n",
              "var x = new MutationObserver(function (mutations, observer) {{\n",
              "        var display = window.getComputedStyle(gd).display;\n",
              "        if (!display || display === 'none') {{\n",
              "            console.log([gd, 'removed!']);\n",
              "            Plotly.purge(gd);\n",
              "            observer.disconnect();\n",
              "        }}\n",
              "}});\n",
              "\n",
              "// Listen for the removal of the full notebook cells\n",
              "var notebookContainer = gd.closest('#notebook-container');\n",
              "if (notebookContainer) {{\n",
              "    x.observe(notebookContainer, {childList: true});\n",
              "}}\n",
              "\n",
              "// Listen for the clearing of the current output cell\n",
              "var outputEl = gd.closest('.output');\n",
              "if (outputEl) {{\n",
              "    x.observe(outputEl, {childList: true});\n",
              "}}\n",
              "\n",
              "                        })                };                            </script>        </div>\n",
              "</body>\n",
              "</html>"
            ]
          },
          "metadata": {}
        }
      ]
    },
    {
      "cell_type": "code",
      "metadata": {
        "id": "bfO2TQR17ueS",
        "colab": {
          "base_uri": "https://localhost:8080/",
          "height": 542
        },
        "outputId": "cdc76da3-e683-4dfb-f9cb-7122dec93785"
      },
      "source": [
        "\n",
        "parziale = df_finale[df_finale['Identificativo'] != 'Produttore']\n",
        "fig = go.Figure()\n",
        "fig.update_layout(\n",
        "    title=' ',\n",
        "    xaxis_tickfont_size=14,\n",
        "    xaxis = dict(\n",
        "        showgrid =True,\n",
        "        zeroline = True, \n",
        "        nticks = 20, \n",
        "        showline = True,\n",
        "        title='',\n",
        "        titlefont_size=16,\n",
        "        tickfont_size=14,\n",
        "    ),\n",
        "    yaxis=dict(\n",
        "        showgrid =True,\n",
        "        zeroline = True, \n",
        "        nticks = 20, \n",
        "        showline = True,\n",
        "        title='kWh',\n",
        "        titlefont_size=16,\n",
        "        tickfont_size=14,\n",
        "    ),\n",
        "    barmode='group',\n",
        "    bargap=0.2, # gap between bars of adjacent location coordinates.\n",
        "    bargroupgap=0 # gap between bars of the same location coordinate.\n",
        ")\n",
        "#Risparmio da Autoconsumo Istantaneo\n",
        "#fig.add_trace(go.Bar(x=parziale['Identificativo'], y=parziale['Produzione'],\n",
        "#                base=0,\n",
        "#                marker_color='red',\n",
        "#                name='Produzione'\n",
        "#                ))\n",
        "#Incentivo Condivisione Arera\n",
        "#fig.add_trace(go.Bar(x=parziale['Identificativo'], y=parziale['Consumo Per Fotovoltaico'],\n",
        "#                base=0,\n",
        "#                marker_color='#ff8000',\n",
        "#                name='Consumo Per Fotovoltaico', \n",
        "#                ))\n",
        "#Incentivo Condivisione Mise\n",
        "fig.add_trace(go.Bar(x=parziale['Identificativo'], y=parziale['Bilancio Energetico'],\n",
        "                base=0,\n",
        "                marker_color='yellow',\n",
        "                name='Bilancio Energetico'\n",
        "                ))\n",
        "\n",
        "fig.show()"
      ],
      "execution_count": null,
      "outputs": [
        {
          "output_type": "display_data",
          "data": {
            "text/html": [
              "<html>\n",
              "<head><meta charset=\"utf-8\" /></head>\n",
              "<body>\n",
              "    <div>            <script src=\"https://cdnjs.cloudflare.com/ajax/libs/mathjax/2.7.5/MathJax.js?config=TeX-AMS-MML_SVG\"></script><script type=\"text/javascript\">if (window.MathJax && window.MathJax.Hub && window.MathJax.Hub.Config) {window.MathJax.Hub.Config({SVG: {font: \"STIX-Web\"}});}</script>                <script type=\"text/javascript\">window.PlotlyConfig = {MathJaxConfig: 'local'};</script>\n",
              "        <script src=\"https://cdn.plot.ly/plotly-2.14.0.min.js\"></script>                <div id=\"4c3230b5-970b-451c-97ef-2256e0efb5b5\" class=\"plotly-graph-div\" style=\"height:525px; width:100%;\"></div>            <script type=\"text/javascript\">                                    window.PLOTLYENV=window.PLOTLYENV || {};                                    if (document.getElementById(\"4c3230b5-970b-451c-97ef-2256e0efb5b5\")) {                    Plotly.newPlot(                        \"4c3230b5-970b-451c-97ef-2256e0efb5b5\",                        [{\"base\":0,\"marker\":{\"color\":\"yellow\"},\"name\":\"Bilancio Energetico\",\"x\":[\"A\",\"B\",\"Idroelettrico\"],\"y\":[-134665.4,2969089.7699999996,1376.3333333333333],\"type\":\"bar\"}],                        {\"template\":{\"data\":{\"histogram2dcontour\":[{\"type\":\"histogram2dcontour\",\"colorbar\":{\"outlinewidth\":0,\"ticks\":\"\"},\"colorscale\":[[0.0,\"#0d0887\"],[0.1111111111111111,\"#46039f\"],[0.2222222222222222,\"#7201a8\"],[0.3333333333333333,\"#9c179e\"],[0.4444444444444444,\"#bd3786\"],[0.5555555555555556,\"#d8576b\"],[0.6666666666666666,\"#ed7953\"],[0.7777777777777778,\"#fb9f3a\"],[0.8888888888888888,\"#fdca26\"],[1.0,\"#f0f921\"]]}],\"choropleth\":[{\"type\":\"choropleth\",\"colorbar\":{\"outlinewidth\":0,\"ticks\":\"\"}}],\"histogram2d\":[{\"type\":\"histogram2d\",\"colorbar\":{\"outlinewidth\":0,\"ticks\":\"\"},\"colorscale\":[[0.0,\"#0d0887\"],[0.1111111111111111,\"#46039f\"],[0.2222222222222222,\"#7201a8\"],[0.3333333333333333,\"#9c179e\"],[0.4444444444444444,\"#bd3786\"],[0.5555555555555556,\"#d8576b\"],[0.6666666666666666,\"#ed7953\"],[0.7777777777777778,\"#fb9f3a\"],[0.8888888888888888,\"#fdca26\"],[1.0,\"#f0f921\"]]}],\"heatmap\":[{\"type\":\"heatmap\",\"colorbar\":{\"outlinewidth\":0,\"ticks\":\"\"},\"colorscale\":[[0.0,\"#0d0887\"],[0.1111111111111111,\"#46039f\"],[0.2222222222222222,\"#7201a8\"],[0.3333333333333333,\"#9c179e\"],[0.4444444444444444,\"#bd3786\"],[0.5555555555555556,\"#d8576b\"],[0.6666666666666666,\"#ed7953\"],[0.7777777777777778,\"#fb9f3a\"],[0.8888888888888888,\"#fdca26\"],[1.0,\"#f0f921\"]]}],\"heatmapgl\":[{\"type\":\"heatmapgl\",\"colorbar\":{\"outlinewidth\":0,\"ticks\":\"\"},\"colorscale\":[[0.0,\"#0d0887\"],[0.1111111111111111,\"#46039f\"],[0.2222222222222222,\"#7201a8\"],[0.3333333333333333,\"#9c179e\"],[0.4444444444444444,\"#bd3786\"],[0.5555555555555556,\"#d8576b\"],[0.6666666666666666,\"#ed7953\"],[0.7777777777777778,\"#fb9f3a\"],[0.8888888888888888,\"#fdca26\"],[1.0,\"#f0f921\"]]}],\"contourcarpet\":[{\"type\":\"contourcarpet\",\"colorbar\":{\"outlinewidth\":0,\"ticks\":\"\"}}],\"contour\":[{\"type\":\"contour\",\"colorbar\":{\"outlinewidth\":0,\"ticks\":\"\"},\"colorscale\":[[0.0,\"#0d0887\"],[0.1111111111111111,\"#46039f\"],[0.2222222222222222,\"#7201a8\"],[0.3333333333333333,\"#9c179e\"],[0.4444444444444444,\"#bd3786\"],[0.5555555555555556,\"#d8576b\"],[0.6666666666666666,\"#ed7953\"],[0.7777777777777778,\"#fb9f3a\"],[0.8888888888888888,\"#fdca26\"],[1.0,\"#f0f921\"]]}],\"surface\":[{\"type\":\"surface\",\"colorbar\":{\"outlinewidth\":0,\"ticks\":\"\"},\"colorscale\":[[0.0,\"#0d0887\"],[0.1111111111111111,\"#46039f\"],[0.2222222222222222,\"#7201a8\"],[0.3333333333333333,\"#9c179e\"],[0.4444444444444444,\"#bd3786\"],[0.5555555555555556,\"#d8576b\"],[0.6666666666666666,\"#ed7953\"],[0.7777777777777778,\"#fb9f3a\"],[0.8888888888888888,\"#fdca26\"],[1.0,\"#f0f921\"]]}],\"mesh3d\":[{\"type\":\"mesh3d\",\"colorbar\":{\"outlinewidth\":0,\"ticks\":\"\"}}],\"scatter\":[{\"fillpattern\":{\"fillmode\":\"overlay\",\"size\":10,\"solidity\":0.2},\"type\":\"scatter\"}],\"parcoords\":[{\"type\":\"parcoords\",\"line\":{\"colorbar\":{\"outlinewidth\":0,\"ticks\":\"\"}}}],\"scatterpolargl\":[{\"type\":\"scatterpolargl\",\"marker\":{\"colorbar\":{\"outlinewidth\":0,\"ticks\":\"\"}}}],\"bar\":[{\"error_x\":{\"color\":\"#2a3f5f\"},\"error_y\":{\"color\":\"#2a3f5f\"},\"marker\":{\"line\":{\"color\":\"#E5ECF6\",\"width\":0.5},\"pattern\":{\"fillmode\":\"overlay\",\"size\":10,\"solidity\":0.2}},\"type\":\"bar\"}],\"scattergeo\":[{\"type\":\"scattergeo\",\"marker\":{\"colorbar\":{\"outlinewidth\":0,\"ticks\":\"\"}}}],\"scatterpolar\":[{\"type\":\"scatterpolar\",\"marker\":{\"colorbar\":{\"outlinewidth\":0,\"ticks\":\"\"}}}],\"histogram\":[{\"marker\":{\"pattern\":{\"fillmode\":\"overlay\",\"size\":10,\"solidity\":0.2}},\"type\":\"histogram\"}],\"scattergl\":[{\"type\":\"scattergl\",\"marker\":{\"colorbar\":{\"outlinewidth\":0,\"ticks\":\"\"}}}],\"scatter3d\":[{\"type\":\"scatter3d\",\"line\":{\"colorbar\":{\"outlinewidth\":0,\"ticks\":\"\"}},\"marker\":{\"colorbar\":{\"outlinewidth\":0,\"ticks\":\"\"}}}],\"scattermapbox\":[{\"type\":\"scattermapbox\",\"marker\":{\"colorbar\":{\"outlinewidth\":0,\"ticks\":\"\"}}}],\"scatterternary\":[{\"type\":\"scatterternary\",\"marker\":{\"colorbar\":{\"outlinewidth\":0,\"ticks\":\"\"}}}],\"scattercarpet\":[{\"type\":\"scattercarpet\",\"marker\":{\"colorbar\":{\"outlinewidth\":0,\"ticks\":\"\"}}}],\"carpet\":[{\"aaxis\":{\"endlinecolor\":\"#2a3f5f\",\"gridcolor\":\"white\",\"linecolor\":\"white\",\"minorgridcolor\":\"white\",\"startlinecolor\":\"#2a3f5f\"},\"baxis\":{\"endlinecolor\":\"#2a3f5f\",\"gridcolor\":\"white\",\"linecolor\":\"white\",\"minorgridcolor\":\"white\",\"startlinecolor\":\"#2a3f5f\"},\"type\":\"carpet\"}],\"table\":[{\"cells\":{\"fill\":{\"color\":\"#EBF0F8\"},\"line\":{\"color\":\"white\"}},\"header\":{\"fill\":{\"color\":\"#C8D4E3\"},\"line\":{\"color\":\"white\"}},\"type\":\"table\"}],\"barpolar\":[{\"marker\":{\"line\":{\"color\":\"#E5ECF6\",\"width\":0.5},\"pattern\":{\"fillmode\":\"overlay\",\"size\":10,\"solidity\":0.2}},\"type\":\"barpolar\"}],\"pie\":[{\"automargin\":true,\"type\":\"pie\"}]},\"layout\":{\"autotypenumbers\":\"strict\",\"colorway\":[\"#636efa\",\"#EF553B\",\"#00cc96\",\"#ab63fa\",\"#FFA15A\",\"#19d3f3\",\"#FF6692\",\"#B6E880\",\"#FF97FF\",\"#FECB52\"],\"font\":{\"color\":\"#2a3f5f\"},\"hovermode\":\"closest\",\"hoverlabel\":{\"align\":\"left\"},\"paper_bgcolor\":\"white\",\"plot_bgcolor\":\"#E5ECF6\",\"polar\":{\"bgcolor\":\"#E5ECF6\",\"angularaxis\":{\"gridcolor\":\"white\",\"linecolor\":\"white\",\"ticks\":\"\"},\"radialaxis\":{\"gridcolor\":\"white\",\"linecolor\":\"white\",\"ticks\":\"\"}},\"ternary\":{\"bgcolor\":\"#E5ECF6\",\"aaxis\":{\"gridcolor\":\"white\",\"linecolor\":\"white\",\"ticks\":\"\"},\"baxis\":{\"gridcolor\":\"white\",\"linecolor\":\"white\",\"ticks\":\"\"},\"caxis\":{\"gridcolor\":\"white\",\"linecolor\":\"white\",\"ticks\":\"\"}},\"coloraxis\":{\"colorbar\":{\"outlinewidth\":0,\"ticks\":\"\"}},\"colorscale\":{\"sequential\":[[0.0,\"#0d0887\"],[0.1111111111111111,\"#46039f\"],[0.2222222222222222,\"#7201a8\"],[0.3333333333333333,\"#9c179e\"],[0.4444444444444444,\"#bd3786\"],[0.5555555555555556,\"#d8576b\"],[0.6666666666666666,\"#ed7953\"],[0.7777777777777778,\"#fb9f3a\"],[0.8888888888888888,\"#fdca26\"],[1.0,\"#f0f921\"]],\"sequentialminus\":[[0.0,\"#0d0887\"],[0.1111111111111111,\"#46039f\"],[0.2222222222222222,\"#7201a8\"],[0.3333333333333333,\"#9c179e\"],[0.4444444444444444,\"#bd3786\"],[0.5555555555555556,\"#d8576b\"],[0.6666666666666666,\"#ed7953\"],[0.7777777777777778,\"#fb9f3a\"],[0.8888888888888888,\"#fdca26\"],[1.0,\"#f0f921\"]],\"diverging\":[[0,\"#8e0152\"],[0.1,\"#c51b7d\"],[0.2,\"#de77ae\"],[0.3,\"#f1b6da\"],[0.4,\"#fde0ef\"],[0.5,\"#f7f7f7\"],[0.6,\"#e6f5d0\"],[0.7,\"#b8e186\"],[0.8,\"#7fbc41\"],[0.9,\"#4d9221\"],[1,\"#276419\"]]},\"xaxis\":{\"gridcolor\":\"white\",\"linecolor\":\"white\",\"ticks\":\"\",\"title\":{\"standoff\":15},\"zerolinecolor\":\"white\",\"automargin\":true,\"zerolinewidth\":2},\"yaxis\":{\"gridcolor\":\"white\",\"linecolor\":\"white\",\"ticks\":\"\",\"title\":{\"standoff\":15},\"zerolinecolor\":\"white\",\"automargin\":true,\"zerolinewidth\":2},\"scene\":{\"xaxis\":{\"backgroundcolor\":\"#E5ECF6\",\"gridcolor\":\"white\",\"linecolor\":\"white\",\"showbackground\":true,\"ticks\":\"\",\"zerolinecolor\":\"white\",\"gridwidth\":2},\"yaxis\":{\"backgroundcolor\":\"#E5ECF6\",\"gridcolor\":\"white\",\"linecolor\":\"white\",\"showbackground\":true,\"ticks\":\"\",\"zerolinecolor\":\"white\",\"gridwidth\":2},\"zaxis\":{\"backgroundcolor\":\"#E5ECF6\",\"gridcolor\":\"white\",\"linecolor\":\"white\",\"showbackground\":true,\"ticks\":\"\",\"zerolinecolor\":\"white\",\"gridwidth\":2}},\"shapedefaults\":{\"line\":{\"color\":\"#2a3f5f\"}},\"annotationdefaults\":{\"arrowcolor\":\"#2a3f5f\",\"arrowhead\":0,\"arrowwidth\":1},\"geo\":{\"bgcolor\":\"white\",\"landcolor\":\"#E5ECF6\",\"subunitcolor\":\"white\",\"showland\":true,\"showlakes\":true,\"lakecolor\":\"white\"},\"title\":{\"x\":0.05},\"mapbox\":{\"style\":\"light\"}}},\"xaxis\":{\"tickfont\":{\"size\":14},\"title\":{\"text\":\"\",\"font\":{\"size\":16}},\"showgrid\":true,\"zeroline\":true,\"nticks\":20,\"showline\":true},\"yaxis\":{\"title\":{\"text\":\"kWh\",\"font\":{\"size\":16}},\"tickfont\":{\"size\":14},\"showgrid\":true,\"zeroline\":true,\"nticks\":20,\"showline\":true},\"title\":{\"text\":\" \"},\"barmode\":\"group\",\"bargap\":0.2,\"bargroupgap\":0},                        {\"responsive\": true}                    ).then(function(){\n",
              "                            \n",
              "var gd = document.getElementById('4c3230b5-970b-451c-97ef-2256e0efb5b5');\n",
              "var x = new MutationObserver(function (mutations, observer) {{\n",
              "        var display = window.getComputedStyle(gd).display;\n",
              "        if (!display || display === 'none') {{\n",
              "            console.log([gd, 'removed!']);\n",
              "            Plotly.purge(gd);\n",
              "            observer.disconnect();\n",
              "        }}\n",
              "}});\n",
              "\n",
              "// Listen for the removal of the full notebook cells\n",
              "var notebookContainer = gd.closest('#notebook-container');\n",
              "if (notebookContainer) {{\n",
              "    x.observe(notebookContainer, {childList: true});\n",
              "}}\n",
              "\n",
              "// Listen for the clearing of the current output cell\n",
              "var outputEl = gd.closest('.output');\n",
              "if (outputEl) {{\n",
              "    x.observe(outputEl, {childList: true});\n",
              "}}\n",
              "\n",
              "                        })                };                            </script>        </div>\n",
              "</body>\n",
              "</html>"
            ]
          },
          "metadata": {}
        }
      ]
    },
    {
      "cell_type": "markdown",
      "metadata": {
        "id": "tQjCYXKRSBQ0"
      },
      "source": [
        "Grafico Torta Incentivo Condivisione"
      ]
    },
    {
      "cell_type": "code",
      "metadata": {
        "id": "5pJ1mqoZ38H5",
        "colab": {
          "base_uri": "https://localhost:8080/",
          "height": 542
        },
        "outputId": "6758e3d5-2751-45cc-8751-f8c03e0adef4"
      },
      "source": [
        "parziale = df_finale[df_finale['Categoria'] != 'Produttore']\n",
        "df = px.data.tips()\n",
        "fig = px.pie(parziale, values=parziale['Incentivo Condivisione'], names=parziale['Identificativo'], color=parziale['Identificativo'])\n",
        "fig.update_layout(legend=dict(\n",
        "    yanchor=\"top\",\n",
        "    y=0.9,\n",
        "    xanchor=\"left\",\n",
        "    x=0.0))\n",
        "fig.show()"
      ],
      "execution_count": null,
      "outputs": [
        {
          "output_type": "display_data",
          "data": {
            "text/html": [
              "<html>\n",
              "<head><meta charset=\"utf-8\" /></head>\n",
              "<body>\n",
              "    <div>            <script src=\"https://cdnjs.cloudflare.com/ajax/libs/mathjax/2.7.5/MathJax.js?config=TeX-AMS-MML_SVG\"></script><script type=\"text/javascript\">if (window.MathJax && window.MathJax.Hub && window.MathJax.Hub.Config) {window.MathJax.Hub.Config({SVG: {font: \"STIX-Web\"}});}</script>                <script type=\"text/javascript\">window.PlotlyConfig = {MathJaxConfig: 'local'};</script>\n",
              "        <script src=\"https://cdn.plot.ly/plotly-2.14.0.min.js\"></script>                <div id=\"c4fecd28-df6e-47ea-91cc-7529f5bd347b\" class=\"plotly-graph-div\" style=\"height:525px; width:100%;\"></div>            <script type=\"text/javascript\">                                    window.PLOTLYENV=window.PLOTLYENV || {};                                    if (document.getElementById(\"c4fecd28-df6e-47ea-91cc-7529f5bd347b\")) {                    Plotly.newPlot(                        \"c4fecd28-df6e-47ea-91cc-7529f5bd347b\",                        [{\"customdata\":[[\"A\"],[\"B\"]],\"domain\":{\"x\":[0.0,1.0],\"y\":[0.0,1.0]},\"hovertemplate\":\"Identificativo=%{customdata[0]}<br>Incentivo Condivisione=%{value}<extra></extra>\",\"labels\":[\"A\",\"B\"],\"legendgroup\":\"\",\"marker\":{\"colors\":[\"#636efa\",\"#EF553B\"]},\"name\":\"\",\"showlegend\":true,\"values\":[1258.6516320590588,5469.8852132664015],\"type\":\"pie\"}],                        {\"template\":{\"data\":{\"histogram2dcontour\":[{\"type\":\"histogram2dcontour\",\"colorbar\":{\"outlinewidth\":0,\"ticks\":\"\"},\"colorscale\":[[0.0,\"#0d0887\"],[0.1111111111111111,\"#46039f\"],[0.2222222222222222,\"#7201a8\"],[0.3333333333333333,\"#9c179e\"],[0.4444444444444444,\"#bd3786\"],[0.5555555555555556,\"#d8576b\"],[0.6666666666666666,\"#ed7953\"],[0.7777777777777778,\"#fb9f3a\"],[0.8888888888888888,\"#fdca26\"],[1.0,\"#f0f921\"]]}],\"choropleth\":[{\"type\":\"choropleth\",\"colorbar\":{\"outlinewidth\":0,\"ticks\":\"\"}}],\"histogram2d\":[{\"type\":\"histogram2d\",\"colorbar\":{\"outlinewidth\":0,\"ticks\":\"\"},\"colorscale\":[[0.0,\"#0d0887\"],[0.1111111111111111,\"#46039f\"],[0.2222222222222222,\"#7201a8\"],[0.3333333333333333,\"#9c179e\"],[0.4444444444444444,\"#bd3786\"],[0.5555555555555556,\"#d8576b\"],[0.6666666666666666,\"#ed7953\"],[0.7777777777777778,\"#fb9f3a\"],[0.8888888888888888,\"#fdca26\"],[1.0,\"#f0f921\"]]}],\"heatmap\":[{\"type\":\"heatmap\",\"colorbar\":{\"outlinewidth\":0,\"ticks\":\"\"},\"colorscale\":[[0.0,\"#0d0887\"],[0.1111111111111111,\"#46039f\"],[0.2222222222222222,\"#7201a8\"],[0.3333333333333333,\"#9c179e\"],[0.4444444444444444,\"#bd3786\"],[0.5555555555555556,\"#d8576b\"],[0.6666666666666666,\"#ed7953\"],[0.7777777777777778,\"#fb9f3a\"],[0.8888888888888888,\"#fdca26\"],[1.0,\"#f0f921\"]]}],\"heatmapgl\":[{\"type\":\"heatmapgl\",\"colorbar\":{\"outlinewidth\":0,\"ticks\":\"\"},\"colorscale\":[[0.0,\"#0d0887\"],[0.1111111111111111,\"#46039f\"],[0.2222222222222222,\"#7201a8\"],[0.3333333333333333,\"#9c179e\"],[0.4444444444444444,\"#bd3786\"],[0.5555555555555556,\"#d8576b\"],[0.6666666666666666,\"#ed7953\"],[0.7777777777777778,\"#fb9f3a\"],[0.8888888888888888,\"#fdca26\"],[1.0,\"#f0f921\"]]}],\"contourcarpet\":[{\"type\":\"contourcarpet\",\"colorbar\":{\"outlinewidth\":0,\"ticks\":\"\"}}],\"contour\":[{\"type\":\"contour\",\"colorbar\":{\"outlinewidth\":0,\"ticks\":\"\"},\"colorscale\":[[0.0,\"#0d0887\"],[0.1111111111111111,\"#46039f\"],[0.2222222222222222,\"#7201a8\"],[0.3333333333333333,\"#9c179e\"],[0.4444444444444444,\"#bd3786\"],[0.5555555555555556,\"#d8576b\"],[0.6666666666666666,\"#ed7953\"],[0.7777777777777778,\"#fb9f3a\"],[0.8888888888888888,\"#fdca26\"],[1.0,\"#f0f921\"]]}],\"surface\":[{\"type\":\"surface\",\"colorbar\":{\"outlinewidth\":0,\"ticks\":\"\"},\"colorscale\":[[0.0,\"#0d0887\"],[0.1111111111111111,\"#46039f\"],[0.2222222222222222,\"#7201a8\"],[0.3333333333333333,\"#9c179e\"],[0.4444444444444444,\"#bd3786\"],[0.5555555555555556,\"#d8576b\"],[0.6666666666666666,\"#ed7953\"],[0.7777777777777778,\"#fb9f3a\"],[0.8888888888888888,\"#fdca26\"],[1.0,\"#f0f921\"]]}],\"mesh3d\":[{\"type\":\"mesh3d\",\"colorbar\":{\"outlinewidth\":0,\"ticks\":\"\"}}],\"scatter\":[{\"fillpattern\":{\"fillmode\":\"overlay\",\"size\":10,\"solidity\":0.2},\"type\":\"scatter\"}],\"parcoords\":[{\"type\":\"parcoords\",\"line\":{\"colorbar\":{\"outlinewidth\":0,\"ticks\":\"\"}}}],\"scatterpolargl\":[{\"type\":\"scatterpolargl\",\"marker\":{\"colorbar\":{\"outlinewidth\":0,\"ticks\":\"\"}}}],\"bar\":[{\"error_x\":{\"color\":\"#2a3f5f\"},\"error_y\":{\"color\":\"#2a3f5f\"},\"marker\":{\"line\":{\"color\":\"#E5ECF6\",\"width\":0.5},\"pattern\":{\"fillmode\":\"overlay\",\"size\":10,\"solidity\":0.2}},\"type\":\"bar\"}],\"scattergeo\":[{\"type\":\"scattergeo\",\"marker\":{\"colorbar\":{\"outlinewidth\":0,\"ticks\":\"\"}}}],\"scatterpolar\":[{\"type\":\"scatterpolar\",\"marker\":{\"colorbar\":{\"outlinewidth\":0,\"ticks\":\"\"}}}],\"histogram\":[{\"marker\":{\"pattern\":{\"fillmode\":\"overlay\",\"size\":10,\"solidity\":0.2}},\"type\":\"histogram\"}],\"scattergl\":[{\"type\":\"scattergl\",\"marker\":{\"colorbar\":{\"outlinewidth\":0,\"ticks\":\"\"}}}],\"scatter3d\":[{\"type\":\"scatter3d\",\"line\":{\"colorbar\":{\"outlinewidth\":0,\"ticks\":\"\"}},\"marker\":{\"colorbar\":{\"outlinewidth\":0,\"ticks\":\"\"}}}],\"scattermapbox\":[{\"type\":\"scattermapbox\",\"marker\":{\"colorbar\":{\"outlinewidth\":0,\"ticks\":\"\"}}}],\"scatterternary\":[{\"type\":\"scatterternary\",\"marker\":{\"colorbar\":{\"outlinewidth\":0,\"ticks\":\"\"}}}],\"scattercarpet\":[{\"type\":\"scattercarpet\",\"marker\":{\"colorbar\":{\"outlinewidth\":0,\"ticks\":\"\"}}}],\"carpet\":[{\"aaxis\":{\"endlinecolor\":\"#2a3f5f\",\"gridcolor\":\"white\",\"linecolor\":\"white\",\"minorgridcolor\":\"white\",\"startlinecolor\":\"#2a3f5f\"},\"baxis\":{\"endlinecolor\":\"#2a3f5f\",\"gridcolor\":\"white\",\"linecolor\":\"white\",\"minorgridcolor\":\"white\",\"startlinecolor\":\"#2a3f5f\"},\"type\":\"carpet\"}],\"table\":[{\"cells\":{\"fill\":{\"color\":\"#EBF0F8\"},\"line\":{\"color\":\"white\"}},\"header\":{\"fill\":{\"color\":\"#C8D4E3\"},\"line\":{\"color\":\"white\"}},\"type\":\"table\"}],\"barpolar\":[{\"marker\":{\"line\":{\"color\":\"#E5ECF6\",\"width\":0.5},\"pattern\":{\"fillmode\":\"overlay\",\"size\":10,\"solidity\":0.2}},\"type\":\"barpolar\"}],\"pie\":[{\"automargin\":true,\"type\":\"pie\"}]},\"layout\":{\"autotypenumbers\":\"strict\",\"colorway\":[\"#636efa\",\"#EF553B\",\"#00cc96\",\"#ab63fa\",\"#FFA15A\",\"#19d3f3\",\"#FF6692\",\"#B6E880\",\"#FF97FF\",\"#FECB52\"],\"font\":{\"color\":\"#2a3f5f\"},\"hovermode\":\"closest\",\"hoverlabel\":{\"align\":\"left\"},\"paper_bgcolor\":\"white\",\"plot_bgcolor\":\"#E5ECF6\",\"polar\":{\"bgcolor\":\"#E5ECF6\",\"angularaxis\":{\"gridcolor\":\"white\",\"linecolor\":\"white\",\"ticks\":\"\"},\"radialaxis\":{\"gridcolor\":\"white\",\"linecolor\":\"white\",\"ticks\":\"\"}},\"ternary\":{\"bgcolor\":\"#E5ECF6\",\"aaxis\":{\"gridcolor\":\"white\",\"linecolor\":\"white\",\"ticks\":\"\"},\"baxis\":{\"gridcolor\":\"white\",\"linecolor\":\"white\",\"ticks\":\"\"},\"caxis\":{\"gridcolor\":\"white\",\"linecolor\":\"white\",\"ticks\":\"\"}},\"coloraxis\":{\"colorbar\":{\"outlinewidth\":0,\"ticks\":\"\"}},\"colorscale\":{\"sequential\":[[0.0,\"#0d0887\"],[0.1111111111111111,\"#46039f\"],[0.2222222222222222,\"#7201a8\"],[0.3333333333333333,\"#9c179e\"],[0.4444444444444444,\"#bd3786\"],[0.5555555555555556,\"#d8576b\"],[0.6666666666666666,\"#ed7953\"],[0.7777777777777778,\"#fb9f3a\"],[0.8888888888888888,\"#fdca26\"],[1.0,\"#f0f921\"]],\"sequentialminus\":[[0.0,\"#0d0887\"],[0.1111111111111111,\"#46039f\"],[0.2222222222222222,\"#7201a8\"],[0.3333333333333333,\"#9c179e\"],[0.4444444444444444,\"#bd3786\"],[0.5555555555555556,\"#d8576b\"],[0.6666666666666666,\"#ed7953\"],[0.7777777777777778,\"#fb9f3a\"],[0.8888888888888888,\"#fdca26\"],[1.0,\"#f0f921\"]],\"diverging\":[[0,\"#8e0152\"],[0.1,\"#c51b7d\"],[0.2,\"#de77ae\"],[0.3,\"#f1b6da\"],[0.4,\"#fde0ef\"],[0.5,\"#f7f7f7\"],[0.6,\"#e6f5d0\"],[0.7,\"#b8e186\"],[0.8,\"#7fbc41\"],[0.9,\"#4d9221\"],[1,\"#276419\"]]},\"xaxis\":{\"gridcolor\":\"white\",\"linecolor\":\"white\",\"ticks\":\"\",\"title\":{\"standoff\":15},\"zerolinecolor\":\"white\",\"automargin\":true,\"zerolinewidth\":2},\"yaxis\":{\"gridcolor\":\"white\",\"linecolor\":\"white\",\"ticks\":\"\",\"title\":{\"standoff\":15},\"zerolinecolor\":\"white\",\"automargin\":true,\"zerolinewidth\":2},\"scene\":{\"xaxis\":{\"backgroundcolor\":\"#E5ECF6\",\"gridcolor\":\"white\",\"linecolor\":\"white\",\"showbackground\":true,\"ticks\":\"\",\"zerolinecolor\":\"white\",\"gridwidth\":2},\"yaxis\":{\"backgroundcolor\":\"#E5ECF6\",\"gridcolor\":\"white\",\"linecolor\":\"white\",\"showbackground\":true,\"ticks\":\"\",\"zerolinecolor\":\"white\",\"gridwidth\":2},\"zaxis\":{\"backgroundcolor\":\"#E5ECF6\",\"gridcolor\":\"white\",\"linecolor\":\"white\",\"showbackground\":true,\"ticks\":\"\",\"zerolinecolor\":\"white\",\"gridwidth\":2}},\"shapedefaults\":{\"line\":{\"color\":\"#2a3f5f\"}},\"annotationdefaults\":{\"arrowcolor\":\"#2a3f5f\",\"arrowhead\":0,\"arrowwidth\":1},\"geo\":{\"bgcolor\":\"white\",\"landcolor\":\"#E5ECF6\",\"subunitcolor\":\"white\",\"showland\":true,\"showlakes\":true,\"lakecolor\":\"white\"},\"title\":{\"x\":0.05},\"mapbox\":{\"style\":\"light\"}}},\"legend\":{\"tracegroupgap\":0,\"yanchor\":\"top\",\"y\":0.9,\"xanchor\":\"left\",\"x\":0.0},\"margin\":{\"t\":60}},                        {\"responsive\": true}                    ).then(function(){\n",
              "                            \n",
              "var gd = document.getElementById('c4fecd28-df6e-47ea-91cc-7529f5bd347b');\n",
              "var x = new MutationObserver(function (mutations, observer) {{\n",
              "        var display = window.getComputedStyle(gd).display;\n",
              "        if (!display || display === 'none') {{\n",
              "            console.log([gd, 'removed!']);\n",
              "            Plotly.purge(gd);\n",
              "            observer.disconnect();\n",
              "        }}\n",
              "}});\n",
              "\n",
              "// Listen for the removal of the full notebook cells\n",
              "var notebookContainer = gd.closest('#notebook-container');\n",
              "if (notebookContainer) {{\n",
              "    x.observe(notebookContainer, {childList: true});\n",
              "}}\n",
              "\n",
              "// Listen for the clearing of the current output cell\n",
              "var outputEl = gd.closest('.output');\n",
              "if (outputEl) {{\n",
              "    x.observe(outputEl, {childList: true});\n",
              "}}\n",
              "\n",
              "                        })                };                            </script>        </div>\n",
              "</body>\n",
              "</html>"
            ]
          },
          "metadata": {}
        }
      ]
    },
    {
      "cell_type": "markdown",
      "metadata": {
        "id": "89YXf-aRSD7r"
      },
      "source": [
        "Grafico Torta Entrate della Comunità Energetica"
      ]
    },
    {
      "cell_type": "code",
      "metadata": {
        "id": "sZYMLmIb5iOz",
        "colab": {
          "base_uri": "https://localhost:8080/",
          "height": 542
        },
        "outputId": "f472489e-653e-4a3a-9c06-238f9ec7775d"
      },
      "source": [
        "parziale = df_finale[ df_finale['Entrate Totali'] >0]\n",
        "df = px.data.tips()\n",
        "fig = px.pie(parziale, values=parziale['Entrate Totali'], names=parziale['Identificativo'], color=parziale['Identificativo'])\n",
        "fig.update_layout(legend=dict(\n",
        "    yanchor=\"top\",\n",
        "    y=0.9,\n",
        "    xanchor=\"left\",\n",
        "    x=0.0))\n",
        "fig.show()"
      ],
      "execution_count": null,
      "outputs": [
        {
          "output_type": "display_data",
          "data": {
            "text/html": [
              "<html>\n",
              "<head><meta charset=\"utf-8\" /></head>\n",
              "<body>\n",
              "    <div>            <script src=\"https://cdnjs.cloudflare.com/ajax/libs/mathjax/2.7.5/MathJax.js?config=TeX-AMS-MML_SVG\"></script><script type=\"text/javascript\">if (window.MathJax && window.MathJax.Hub && window.MathJax.Hub.Config) {window.MathJax.Hub.Config({SVG: {font: \"STIX-Web\"}});}</script>                <script type=\"text/javascript\">window.PlotlyConfig = {MathJaxConfig: 'local'};</script>\n",
              "        <script src=\"https://cdn.plot.ly/plotly-2.14.0.min.js\"></script>                <div id=\"8348b4e1-977c-4341-88fa-2801cb8c6b2f\" class=\"plotly-graph-div\" style=\"height:525px; width:100%;\"></div>            <script type=\"text/javascript\">                                    window.PLOTLYENV=window.PLOTLYENV || {};                                    if (document.getElementById(\"8348b4e1-977c-4341-88fa-2801cb8c6b2f\")) {                    Plotly.newPlot(                        \"8348b4e1-977c-4341-88fa-2801cb8c6b2f\",                        [{\"customdata\":[[\"A\"],[\"B\"],[\"Idroelettrico\"],[\"Produttore\"]],\"domain\":{\"x\":[0.0,1.0],\"y\":[0.0,1.0]},\"hovertemplate\":\"Identificativo=%{customdata[0]}<br>Entrate Totali=%{value}<extra></extra>\",\"labels\":[\"A\",\"B\",\"Idroelettrico\",\"Produttore\"],\"legendgroup\":\"\",\"marker\":{\"colors\":[\"#636efa\",\"#EF553B\",\"#00cc96\",\"#ab63fa\"]},\"name\":\"\",\"showlegend\":true,\"values\":[1630.2616320590587,272596.6829132664,660.6400000000001,944.1691560000027],\"type\":\"pie\"}],                        {\"template\":{\"data\":{\"histogram2dcontour\":[{\"type\":\"histogram2dcontour\",\"colorbar\":{\"outlinewidth\":0,\"ticks\":\"\"},\"colorscale\":[[0.0,\"#0d0887\"],[0.1111111111111111,\"#46039f\"],[0.2222222222222222,\"#7201a8\"],[0.3333333333333333,\"#9c179e\"],[0.4444444444444444,\"#bd3786\"],[0.5555555555555556,\"#d8576b\"],[0.6666666666666666,\"#ed7953\"],[0.7777777777777778,\"#fb9f3a\"],[0.8888888888888888,\"#fdca26\"],[1.0,\"#f0f921\"]]}],\"choropleth\":[{\"type\":\"choropleth\",\"colorbar\":{\"outlinewidth\":0,\"ticks\":\"\"}}],\"histogram2d\":[{\"type\":\"histogram2d\",\"colorbar\":{\"outlinewidth\":0,\"ticks\":\"\"},\"colorscale\":[[0.0,\"#0d0887\"],[0.1111111111111111,\"#46039f\"],[0.2222222222222222,\"#7201a8\"],[0.3333333333333333,\"#9c179e\"],[0.4444444444444444,\"#bd3786\"],[0.5555555555555556,\"#d8576b\"],[0.6666666666666666,\"#ed7953\"],[0.7777777777777778,\"#fb9f3a\"],[0.8888888888888888,\"#fdca26\"],[1.0,\"#f0f921\"]]}],\"heatmap\":[{\"type\":\"heatmap\",\"colorbar\":{\"outlinewidth\":0,\"ticks\":\"\"},\"colorscale\":[[0.0,\"#0d0887\"],[0.1111111111111111,\"#46039f\"],[0.2222222222222222,\"#7201a8\"],[0.3333333333333333,\"#9c179e\"],[0.4444444444444444,\"#bd3786\"],[0.5555555555555556,\"#d8576b\"],[0.6666666666666666,\"#ed7953\"],[0.7777777777777778,\"#fb9f3a\"],[0.8888888888888888,\"#fdca26\"],[1.0,\"#f0f921\"]]}],\"heatmapgl\":[{\"type\":\"heatmapgl\",\"colorbar\":{\"outlinewidth\":0,\"ticks\":\"\"},\"colorscale\":[[0.0,\"#0d0887\"],[0.1111111111111111,\"#46039f\"],[0.2222222222222222,\"#7201a8\"],[0.3333333333333333,\"#9c179e\"],[0.4444444444444444,\"#bd3786\"],[0.5555555555555556,\"#d8576b\"],[0.6666666666666666,\"#ed7953\"],[0.7777777777777778,\"#fb9f3a\"],[0.8888888888888888,\"#fdca26\"],[1.0,\"#f0f921\"]]}],\"contourcarpet\":[{\"type\":\"contourcarpet\",\"colorbar\":{\"outlinewidth\":0,\"ticks\":\"\"}}],\"contour\":[{\"type\":\"contour\",\"colorbar\":{\"outlinewidth\":0,\"ticks\":\"\"},\"colorscale\":[[0.0,\"#0d0887\"],[0.1111111111111111,\"#46039f\"],[0.2222222222222222,\"#7201a8\"],[0.3333333333333333,\"#9c179e\"],[0.4444444444444444,\"#bd3786\"],[0.5555555555555556,\"#d8576b\"],[0.6666666666666666,\"#ed7953\"],[0.7777777777777778,\"#fb9f3a\"],[0.8888888888888888,\"#fdca26\"],[1.0,\"#f0f921\"]]}],\"surface\":[{\"type\":\"surface\",\"colorbar\":{\"outlinewidth\":0,\"ticks\":\"\"},\"colorscale\":[[0.0,\"#0d0887\"],[0.1111111111111111,\"#46039f\"],[0.2222222222222222,\"#7201a8\"],[0.3333333333333333,\"#9c179e\"],[0.4444444444444444,\"#bd3786\"],[0.5555555555555556,\"#d8576b\"],[0.6666666666666666,\"#ed7953\"],[0.7777777777777778,\"#fb9f3a\"],[0.8888888888888888,\"#fdca26\"],[1.0,\"#f0f921\"]]}],\"mesh3d\":[{\"type\":\"mesh3d\",\"colorbar\":{\"outlinewidth\":0,\"ticks\":\"\"}}],\"scatter\":[{\"fillpattern\":{\"fillmode\":\"overlay\",\"size\":10,\"solidity\":0.2},\"type\":\"scatter\"}],\"parcoords\":[{\"type\":\"parcoords\",\"line\":{\"colorbar\":{\"outlinewidth\":0,\"ticks\":\"\"}}}],\"scatterpolargl\":[{\"type\":\"scatterpolargl\",\"marker\":{\"colorbar\":{\"outlinewidth\":0,\"ticks\":\"\"}}}],\"bar\":[{\"error_x\":{\"color\":\"#2a3f5f\"},\"error_y\":{\"color\":\"#2a3f5f\"},\"marker\":{\"line\":{\"color\":\"#E5ECF6\",\"width\":0.5},\"pattern\":{\"fillmode\":\"overlay\",\"size\":10,\"solidity\":0.2}},\"type\":\"bar\"}],\"scattergeo\":[{\"type\":\"scattergeo\",\"marker\":{\"colorbar\":{\"outlinewidth\":0,\"ticks\":\"\"}}}],\"scatterpolar\":[{\"type\":\"scatterpolar\",\"marker\":{\"colorbar\":{\"outlinewidth\":0,\"ticks\":\"\"}}}],\"histogram\":[{\"marker\":{\"pattern\":{\"fillmode\":\"overlay\",\"size\":10,\"solidity\":0.2}},\"type\":\"histogram\"}],\"scattergl\":[{\"type\":\"scattergl\",\"marker\":{\"colorbar\":{\"outlinewidth\":0,\"ticks\":\"\"}}}],\"scatter3d\":[{\"type\":\"scatter3d\",\"line\":{\"colorbar\":{\"outlinewidth\":0,\"ticks\":\"\"}},\"marker\":{\"colorbar\":{\"outlinewidth\":0,\"ticks\":\"\"}}}],\"scattermapbox\":[{\"type\":\"scattermapbox\",\"marker\":{\"colorbar\":{\"outlinewidth\":0,\"ticks\":\"\"}}}],\"scatterternary\":[{\"type\":\"scatterternary\",\"marker\":{\"colorbar\":{\"outlinewidth\":0,\"ticks\":\"\"}}}],\"scattercarpet\":[{\"type\":\"scattercarpet\",\"marker\":{\"colorbar\":{\"outlinewidth\":0,\"ticks\":\"\"}}}],\"carpet\":[{\"aaxis\":{\"endlinecolor\":\"#2a3f5f\",\"gridcolor\":\"white\",\"linecolor\":\"white\",\"minorgridcolor\":\"white\",\"startlinecolor\":\"#2a3f5f\"},\"baxis\":{\"endlinecolor\":\"#2a3f5f\",\"gridcolor\":\"white\",\"linecolor\":\"white\",\"minorgridcolor\":\"white\",\"startlinecolor\":\"#2a3f5f\"},\"type\":\"carpet\"}],\"table\":[{\"cells\":{\"fill\":{\"color\":\"#EBF0F8\"},\"line\":{\"color\":\"white\"}},\"header\":{\"fill\":{\"color\":\"#C8D4E3\"},\"line\":{\"color\":\"white\"}},\"type\":\"table\"}],\"barpolar\":[{\"marker\":{\"line\":{\"color\":\"#E5ECF6\",\"width\":0.5},\"pattern\":{\"fillmode\":\"overlay\",\"size\":10,\"solidity\":0.2}},\"type\":\"barpolar\"}],\"pie\":[{\"automargin\":true,\"type\":\"pie\"}]},\"layout\":{\"autotypenumbers\":\"strict\",\"colorway\":[\"#636efa\",\"#EF553B\",\"#00cc96\",\"#ab63fa\",\"#FFA15A\",\"#19d3f3\",\"#FF6692\",\"#B6E880\",\"#FF97FF\",\"#FECB52\"],\"font\":{\"color\":\"#2a3f5f\"},\"hovermode\":\"closest\",\"hoverlabel\":{\"align\":\"left\"},\"paper_bgcolor\":\"white\",\"plot_bgcolor\":\"#E5ECF6\",\"polar\":{\"bgcolor\":\"#E5ECF6\",\"angularaxis\":{\"gridcolor\":\"white\",\"linecolor\":\"white\",\"ticks\":\"\"},\"radialaxis\":{\"gridcolor\":\"white\",\"linecolor\":\"white\",\"ticks\":\"\"}},\"ternary\":{\"bgcolor\":\"#E5ECF6\",\"aaxis\":{\"gridcolor\":\"white\",\"linecolor\":\"white\",\"ticks\":\"\"},\"baxis\":{\"gridcolor\":\"white\",\"linecolor\":\"white\",\"ticks\":\"\"},\"caxis\":{\"gridcolor\":\"white\",\"linecolor\":\"white\",\"ticks\":\"\"}},\"coloraxis\":{\"colorbar\":{\"outlinewidth\":0,\"ticks\":\"\"}},\"colorscale\":{\"sequential\":[[0.0,\"#0d0887\"],[0.1111111111111111,\"#46039f\"],[0.2222222222222222,\"#7201a8\"],[0.3333333333333333,\"#9c179e\"],[0.4444444444444444,\"#bd3786\"],[0.5555555555555556,\"#d8576b\"],[0.6666666666666666,\"#ed7953\"],[0.7777777777777778,\"#fb9f3a\"],[0.8888888888888888,\"#fdca26\"],[1.0,\"#f0f921\"]],\"sequentialminus\":[[0.0,\"#0d0887\"],[0.1111111111111111,\"#46039f\"],[0.2222222222222222,\"#7201a8\"],[0.3333333333333333,\"#9c179e\"],[0.4444444444444444,\"#bd3786\"],[0.5555555555555556,\"#d8576b\"],[0.6666666666666666,\"#ed7953\"],[0.7777777777777778,\"#fb9f3a\"],[0.8888888888888888,\"#fdca26\"],[1.0,\"#f0f921\"]],\"diverging\":[[0,\"#8e0152\"],[0.1,\"#c51b7d\"],[0.2,\"#de77ae\"],[0.3,\"#f1b6da\"],[0.4,\"#fde0ef\"],[0.5,\"#f7f7f7\"],[0.6,\"#e6f5d0\"],[0.7,\"#b8e186\"],[0.8,\"#7fbc41\"],[0.9,\"#4d9221\"],[1,\"#276419\"]]},\"xaxis\":{\"gridcolor\":\"white\",\"linecolor\":\"white\",\"ticks\":\"\",\"title\":{\"standoff\":15},\"zerolinecolor\":\"white\",\"automargin\":true,\"zerolinewidth\":2},\"yaxis\":{\"gridcolor\":\"white\",\"linecolor\":\"white\",\"ticks\":\"\",\"title\":{\"standoff\":15},\"zerolinecolor\":\"white\",\"automargin\":true,\"zerolinewidth\":2},\"scene\":{\"xaxis\":{\"backgroundcolor\":\"#E5ECF6\",\"gridcolor\":\"white\",\"linecolor\":\"white\",\"showbackground\":true,\"ticks\":\"\",\"zerolinecolor\":\"white\",\"gridwidth\":2},\"yaxis\":{\"backgroundcolor\":\"#E5ECF6\",\"gridcolor\":\"white\",\"linecolor\":\"white\",\"showbackground\":true,\"ticks\":\"\",\"zerolinecolor\":\"white\",\"gridwidth\":2},\"zaxis\":{\"backgroundcolor\":\"#E5ECF6\",\"gridcolor\":\"white\",\"linecolor\":\"white\",\"showbackground\":true,\"ticks\":\"\",\"zerolinecolor\":\"white\",\"gridwidth\":2}},\"shapedefaults\":{\"line\":{\"color\":\"#2a3f5f\"}},\"annotationdefaults\":{\"arrowcolor\":\"#2a3f5f\",\"arrowhead\":0,\"arrowwidth\":1},\"geo\":{\"bgcolor\":\"white\",\"landcolor\":\"#E5ECF6\",\"subunitcolor\":\"white\",\"showland\":true,\"showlakes\":true,\"lakecolor\":\"white\"},\"title\":{\"x\":0.05},\"mapbox\":{\"style\":\"light\"}}},\"legend\":{\"tracegroupgap\":0,\"yanchor\":\"top\",\"y\":0.9,\"xanchor\":\"left\",\"x\":0.0},\"margin\":{\"t\":60}},                        {\"responsive\": true}                    ).then(function(){\n",
              "                            \n",
              "var gd = document.getElementById('8348b4e1-977c-4341-88fa-2801cb8c6b2f');\n",
              "var x = new MutationObserver(function (mutations, observer) {{\n",
              "        var display = window.getComputedStyle(gd).display;\n",
              "        if (!display || display === 'none') {{\n",
              "            console.log([gd, 'removed!']);\n",
              "            Plotly.purge(gd);\n",
              "            observer.disconnect();\n",
              "        }}\n",
              "}});\n",
              "\n",
              "// Listen for the removal of the full notebook cells\n",
              "var notebookContainer = gd.closest('#notebook-container');\n",
              "if (notebookContainer) {{\n",
              "    x.observe(notebookContainer, {childList: true});\n",
              "}}\n",
              "\n",
              "// Listen for the clearing of the current output cell\n",
              "var outputEl = gd.closest('.output');\n",
              "if (outputEl) {{\n",
              "    x.observe(outputEl, {childList: true});\n",
              "}}\n",
              "\n",
              "                        })                };                            </script>        </div>\n",
              "</body>\n",
              "</html>"
            ]
          },
          "metadata": {}
        }
      ]
    },
    {
      "cell_type": "markdown",
      "metadata": {
        "id": "VzgX1tZlUX3K"
      },
      "source": [
        "Incentivo Condivisione VS Ritiro Dedicato (VALORE ECONOMICO)"
      ]
    },
    {
      "cell_type": "code",
      "metadata": {
        "id": "uFAuxwfhS0fa",
        "colab": {
          "base_uri": "https://localhost:8080/",
          "height": 542
        },
        "outputId": "67c587cb-3304-4bfd-daad-8e0fc4a017c1"
      },
      "source": [
        "df = px.data.tips()\n",
        "fig = go.Figure(data=[go.Pie(labels=['Incentivo Condivisione', 'Ritiro Dedicato'], values=[Incentivo_Totale_Condivisione, df_finale['Ritiro Dedicato'].sum()])])\n",
        "fig.update_layout(legend=dict(\n",
        "    yanchor=\"top\",\n",
        "    y=0.9,\n",
        "    xanchor=\"left\",\n",
        "    x=0.24))\n",
        "fig.show()"
      ],
      "execution_count": null,
      "outputs": [
        {
          "output_type": "display_data",
          "data": {
            "text/html": [
              "<html>\n",
              "<head><meta charset=\"utf-8\" /></head>\n",
              "<body>\n",
              "    <div>            <script src=\"https://cdnjs.cloudflare.com/ajax/libs/mathjax/2.7.5/MathJax.js?config=TeX-AMS-MML_SVG\"></script><script type=\"text/javascript\">if (window.MathJax && window.MathJax.Hub && window.MathJax.Hub.Config) {window.MathJax.Hub.Config({SVG: {font: \"STIX-Web\"}});}</script>                <script type=\"text/javascript\">window.PlotlyConfig = {MathJaxConfig: 'local'};</script>\n",
              "        <script src=\"https://cdn.plot.ly/plotly-2.14.0.min.js\"></script>                <div id=\"235021c1-f1e2-49d2-8dab-f941d11fdf1a\" class=\"plotly-graph-div\" style=\"height:525px; width:100%;\"></div>            <script type=\"text/javascript\">                                    window.PLOTLYENV=window.PLOTLYENV || {};                                    if (document.getElementById(\"235021c1-f1e2-49d2-8dab-f941d11fdf1a\")) {                    Plotly.newPlot(                        \"235021c1-f1e2-49d2-8dab-f941d11fdf1a\",                        [{\"labels\":[\"Incentivo Condivisione\",\"Ritiro Dedicato\"],\"values\":[16025.182600000044,267498.4077],\"type\":\"pie\"}],                        {\"template\":{\"data\":{\"histogram2dcontour\":[{\"type\":\"histogram2dcontour\",\"colorbar\":{\"outlinewidth\":0,\"ticks\":\"\"},\"colorscale\":[[0.0,\"#0d0887\"],[0.1111111111111111,\"#46039f\"],[0.2222222222222222,\"#7201a8\"],[0.3333333333333333,\"#9c179e\"],[0.4444444444444444,\"#bd3786\"],[0.5555555555555556,\"#d8576b\"],[0.6666666666666666,\"#ed7953\"],[0.7777777777777778,\"#fb9f3a\"],[0.8888888888888888,\"#fdca26\"],[1.0,\"#f0f921\"]]}],\"choropleth\":[{\"type\":\"choropleth\",\"colorbar\":{\"outlinewidth\":0,\"ticks\":\"\"}}],\"histogram2d\":[{\"type\":\"histogram2d\",\"colorbar\":{\"outlinewidth\":0,\"ticks\":\"\"},\"colorscale\":[[0.0,\"#0d0887\"],[0.1111111111111111,\"#46039f\"],[0.2222222222222222,\"#7201a8\"],[0.3333333333333333,\"#9c179e\"],[0.4444444444444444,\"#bd3786\"],[0.5555555555555556,\"#d8576b\"],[0.6666666666666666,\"#ed7953\"],[0.7777777777777778,\"#fb9f3a\"],[0.8888888888888888,\"#fdca26\"],[1.0,\"#f0f921\"]]}],\"heatmap\":[{\"type\":\"heatmap\",\"colorbar\":{\"outlinewidth\":0,\"ticks\":\"\"},\"colorscale\":[[0.0,\"#0d0887\"],[0.1111111111111111,\"#46039f\"],[0.2222222222222222,\"#7201a8\"],[0.3333333333333333,\"#9c179e\"],[0.4444444444444444,\"#bd3786\"],[0.5555555555555556,\"#d8576b\"],[0.6666666666666666,\"#ed7953\"],[0.7777777777777778,\"#fb9f3a\"],[0.8888888888888888,\"#fdca26\"],[1.0,\"#f0f921\"]]}],\"heatmapgl\":[{\"type\":\"heatmapgl\",\"colorbar\":{\"outlinewidth\":0,\"ticks\":\"\"},\"colorscale\":[[0.0,\"#0d0887\"],[0.1111111111111111,\"#46039f\"],[0.2222222222222222,\"#7201a8\"],[0.3333333333333333,\"#9c179e\"],[0.4444444444444444,\"#bd3786\"],[0.5555555555555556,\"#d8576b\"],[0.6666666666666666,\"#ed7953\"],[0.7777777777777778,\"#fb9f3a\"],[0.8888888888888888,\"#fdca26\"],[1.0,\"#f0f921\"]]}],\"contourcarpet\":[{\"type\":\"contourcarpet\",\"colorbar\":{\"outlinewidth\":0,\"ticks\":\"\"}}],\"contour\":[{\"type\":\"contour\",\"colorbar\":{\"outlinewidth\":0,\"ticks\":\"\"},\"colorscale\":[[0.0,\"#0d0887\"],[0.1111111111111111,\"#46039f\"],[0.2222222222222222,\"#7201a8\"],[0.3333333333333333,\"#9c179e\"],[0.4444444444444444,\"#bd3786\"],[0.5555555555555556,\"#d8576b\"],[0.6666666666666666,\"#ed7953\"],[0.7777777777777778,\"#fb9f3a\"],[0.8888888888888888,\"#fdca26\"],[1.0,\"#f0f921\"]]}],\"surface\":[{\"type\":\"surface\",\"colorbar\":{\"outlinewidth\":0,\"ticks\":\"\"},\"colorscale\":[[0.0,\"#0d0887\"],[0.1111111111111111,\"#46039f\"],[0.2222222222222222,\"#7201a8\"],[0.3333333333333333,\"#9c179e\"],[0.4444444444444444,\"#bd3786\"],[0.5555555555555556,\"#d8576b\"],[0.6666666666666666,\"#ed7953\"],[0.7777777777777778,\"#fb9f3a\"],[0.8888888888888888,\"#fdca26\"],[1.0,\"#f0f921\"]]}],\"mesh3d\":[{\"type\":\"mesh3d\",\"colorbar\":{\"outlinewidth\":0,\"ticks\":\"\"}}],\"scatter\":[{\"fillpattern\":{\"fillmode\":\"overlay\",\"size\":10,\"solidity\":0.2},\"type\":\"scatter\"}],\"parcoords\":[{\"type\":\"parcoords\",\"line\":{\"colorbar\":{\"outlinewidth\":0,\"ticks\":\"\"}}}],\"scatterpolargl\":[{\"type\":\"scatterpolargl\",\"marker\":{\"colorbar\":{\"outlinewidth\":0,\"ticks\":\"\"}}}],\"bar\":[{\"error_x\":{\"color\":\"#2a3f5f\"},\"error_y\":{\"color\":\"#2a3f5f\"},\"marker\":{\"line\":{\"color\":\"#E5ECF6\",\"width\":0.5},\"pattern\":{\"fillmode\":\"overlay\",\"size\":10,\"solidity\":0.2}},\"type\":\"bar\"}],\"scattergeo\":[{\"type\":\"scattergeo\",\"marker\":{\"colorbar\":{\"outlinewidth\":0,\"ticks\":\"\"}}}],\"scatterpolar\":[{\"type\":\"scatterpolar\",\"marker\":{\"colorbar\":{\"outlinewidth\":0,\"ticks\":\"\"}}}],\"histogram\":[{\"marker\":{\"pattern\":{\"fillmode\":\"overlay\",\"size\":10,\"solidity\":0.2}},\"type\":\"histogram\"}],\"scattergl\":[{\"type\":\"scattergl\",\"marker\":{\"colorbar\":{\"outlinewidth\":0,\"ticks\":\"\"}}}],\"scatter3d\":[{\"type\":\"scatter3d\",\"line\":{\"colorbar\":{\"outlinewidth\":0,\"ticks\":\"\"}},\"marker\":{\"colorbar\":{\"outlinewidth\":0,\"ticks\":\"\"}}}],\"scattermapbox\":[{\"type\":\"scattermapbox\",\"marker\":{\"colorbar\":{\"outlinewidth\":0,\"ticks\":\"\"}}}],\"scatterternary\":[{\"type\":\"scatterternary\",\"marker\":{\"colorbar\":{\"outlinewidth\":0,\"ticks\":\"\"}}}],\"scattercarpet\":[{\"type\":\"scattercarpet\",\"marker\":{\"colorbar\":{\"outlinewidth\":0,\"ticks\":\"\"}}}],\"carpet\":[{\"aaxis\":{\"endlinecolor\":\"#2a3f5f\",\"gridcolor\":\"white\",\"linecolor\":\"white\",\"minorgridcolor\":\"white\",\"startlinecolor\":\"#2a3f5f\"},\"baxis\":{\"endlinecolor\":\"#2a3f5f\",\"gridcolor\":\"white\",\"linecolor\":\"white\",\"minorgridcolor\":\"white\",\"startlinecolor\":\"#2a3f5f\"},\"type\":\"carpet\"}],\"table\":[{\"cells\":{\"fill\":{\"color\":\"#EBF0F8\"},\"line\":{\"color\":\"white\"}},\"header\":{\"fill\":{\"color\":\"#C8D4E3\"},\"line\":{\"color\":\"white\"}},\"type\":\"table\"}],\"barpolar\":[{\"marker\":{\"line\":{\"color\":\"#E5ECF6\",\"width\":0.5},\"pattern\":{\"fillmode\":\"overlay\",\"size\":10,\"solidity\":0.2}},\"type\":\"barpolar\"}],\"pie\":[{\"automargin\":true,\"type\":\"pie\"}]},\"layout\":{\"autotypenumbers\":\"strict\",\"colorway\":[\"#636efa\",\"#EF553B\",\"#00cc96\",\"#ab63fa\",\"#FFA15A\",\"#19d3f3\",\"#FF6692\",\"#B6E880\",\"#FF97FF\",\"#FECB52\"],\"font\":{\"color\":\"#2a3f5f\"},\"hovermode\":\"closest\",\"hoverlabel\":{\"align\":\"left\"},\"paper_bgcolor\":\"white\",\"plot_bgcolor\":\"#E5ECF6\",\"polar\":{\"bgcolor\":\"#E5ECF6\",\"angularaxis\":{\"gridcolor\":\"white\",\"linecolor\":\"white\",\"ticks\":\"\"},\"radialaxis\":{\"gridcolor\":\"white\",\"linecolor\":\"white\",\"ticks\":\"\"}},\"ternary\":{\"bgcolor\":\"#E5ECF6\",\"aaxis\":{\"gridcolor\":\"white\",\"linecolor\":\"white\",\"ticks\":\"\"},\"baxis\":{\"gridcolor\":\"white\",\"linecolor\":\"white\",\"ticks\":\"\"},\"caxis\":{\"gridcolor\":\"white\",\"linecolor\":\"white\",\"ticks\":\"\"}},\"coloraxis\":{\"colorbar\":{\"outlinewidth\":0,\"ticks\":\"\"}},\"colorscale\":{\"sequential\":[[0.0,\"#0d0887\"],[0.1111111111111111,\"#46039f\"],[0.2222222222222222,\"#7201a8\"],[0.3333333333333333,\"#9c179e\"],[0.4444444444444444,\"#bd3786\"],[0.5555555555555556,\"#d8576b\"],[0.6666666666666666,\"#ed7953\"],[0.7777777777777778,\"#fb9f3a\"],[0.8888888888888888,\"#fdca26\"],[1.0,\"#f0f921\"]],\"sequentialminus\":[[0.0,\"#0d0887\"],[0.1111111111111111,\"#46039f\"],[0.2222222222222222,\"#7201a8\"],[0.3333333333333333,\"#9c179e\"],[0.4444444444444444,\"#bd3786\"],[0.5555555555555556,\"#d8576b\"],[0.6666666666666666,\"#ed7953\"],[0.7777777777777778,\"#fb9f3a\"],[0.8888888888888888,\"#fdca26\"],[1.0,\"#f0f921\"]],\"diverging\":[[0,\"#8e0152\"],[0.1,\"#c51b7d\"],[0.2,\"#de77ae\"],[0.3,\"#f1b6da\"],[0.4,\"#fde0ef\"],[0.5,\"#f7f7f7\"],[0.6,\"#e6f5d0\"],[0.7,\"#b8e186\"],[0.8,\"#7fbc41\"],[0.9,\"#4d9221\"],[1,\"#276419\"]]},\"xaxis\":{\"gridcolor\":\"white\",\"linecolor\":\"white\",\"ticks\":\"\",\"title\":{\"standoff\":15},\"zerolinecolor\":\"white\",\"automargin\":true,\"zerolinewidth\":2},\"yaxis\":{\"gridcolor\":\"white\",\"linecolor\":\"white\",\"ticks\":\"\",\"title\":{\"standoff\":15},\"zerolinecolor\":\"white\",\"automargin\":true,\"zerolinewidth\":2},\"scene\":{\"xaxis\":{\"backgroundcolor\":\"#E5ECF6\",\"gridcolor\":\"white\",\"linecolor\":\"white\",\"showbackground\":true,\"ticks\":\"\",\"zerolinecolor\":\"white\",\"gridwidth\":2},\"yaxis\":{\"backgroundcolor\":\"#E5ECF6\",\"gridcolor\":\"white\",\"linecolor\":\"white\",\"showbackground\":true,\"ticks\":\"\",\"zerolinecolor\":\"white\",\"gridwidth\":2},\"zaxis\":{\"backgroundcolor\":\"#E5ECF6\",\"gridcolor\":\"white\",\"linecolor\":\"white\",\"showbackground\":true,\"ticks\":\"\",\"zerolinecolor\":\"white\",\"gridwidth\":2}},\"shapedefaults\":{\"line\":{\"color\":\"#2a3f5f\"}},\"annotationdefaults\":{\"arrowcolor\":\"#2a3f5f\",\"arrowhead\":0,\"arrowwidth\":1},\"geo\":{\"bgcolor\":\"white\",\"landcolor\":\"#E5ECF6\",\"subunitcolor\":\"white\",\"showland\":true,\"showlakes\":true,\"lakecolor\":\"white\"},\"title\":{\"x\":0.05},\"mapbox\":{\"style\":\"light\"}}},\"legend\":{\"yanchor\":\"top\",\"y\":0.9,\"xanchor\":\"left\",\"x\":0.24}},                        {\"responsive\": true}                    ).then(function(){\n",
              "                            \n",
              "var gd = document.getElementById('235021c1-f1e2-49d2-8dab-f941d11fdf1a');\n",
              "var x = new MutationObserver(function (mutations, observer) {{\n",
              "        var display = window.getComputedStyle(gd).display;\n",
              "        if (!display || display === 'none') {{\n",
              "            console.log([gd, 'removed!']);\n",
              "            Plotly.purge(gd);\n",
              "            observer.disconnect();\n",
              "        }}\n",
              "}});\n",
              "\n",
              "// Listen for the removal of the full notebook cells\n",
              "var notebookContainer = gd.closest('#notebook-container');\n",
              "if (notebookContainer) {{\n",
              "    x.observe(notebookContainer, {childList: true});\n",
              "}}\n",
              "\n",
              "// Listen for the clearing of the current output cell\n",
              "var outputEl = gd.closest('.output');\n",
              "if (outputEl) {{\n",
              "    x.observe(outputEl, {childList: true});\n",
              "}}\n",
              "\n",
              "                        })                };                            </script>        </div>\n",
              "</body>\n",
              "</html>"
            ]
          },
          "metadata": {}
        }
      ]
    },
    {
      "cell_type": "code",
      "metadata": {
        "id": "yMhI9yU3tl-H",
        "colab": {
          "base_uri": "https://localhost:8080/",
          "height": 1000
        },
        "outputId": "fa838754-ecd4-472e-d0fd-f40a16396dcf"
      },
      "source": [
        "fig = make_subplots(\n",
        "    rows=5, cols=3,\n",
        "    specs=[[{\"rowspan\": 1, \"colspan\": 3},None, None], \n",
        "          [{\"rowspan\": 1, \"colspan\": 3},None, None],  \n",
        "          [{\"rowspan\": 1, \"colspan\": 3},None, None],  \n",
        "          [{\"rowspan\": 1, \"colspan\": 3},None, None],\n",
        "          [{\"rowspan\": 1, \"colspan\": 3},None, None]],  \n",
        "          subplot_titles=(\"Incentivo Condivisione €\", 'Costi Annuali CER Partecipanti €', \"Ritiro Dedicato €\", 'Beneficio Economico Totale €', 'Incidenza Percentuale su Bolletta %' ),\n",
        "          shared_yaxes=True)\n",
        "\n",
        "parziale = df_finale[df_finale['Identificativo'] != 'Produttore']\n",
        "\n",
        "fig.add_trace(go.Bar(x=parziale['Identificativo'], y=parziale['Incentivo Condivisione'],\n",
        "                     marker_color='blue', text=parziale['Incentivo Condivisione'].round(0)),\n",
        "              1, 1)\n",
        "\n",
        "\n",
        "fig.add_trace(go.Bar(x=df_finale['Identificativo'], y=df_finale['Costi Funzionamento CER'],\n",
        "                     marker_color='purple', text=df_finale['Costi Funzionamento CER'].round(0)),\n",
        "              2, 1)\n",
        "\n",
        "fig.add_trace(go.Bar(x=df_finale['Identificativo'], y=df_finale['Ritiro Dedicato'],\n",
        "                     marker_color='orange', text=df_finale['Ritiro Dedicato'].round(0)),\n",
        "              3, 1)\n",
        "fig.add_trace(go.Bar(x=parziale['Identificativo'], y=parziale['Beneficio Economico Totale'],\n",
        "                     marker_color='cyan', text=parziale['Beneficio Economico Totale'].round(0)),\n",
        "              4, 1)\n",
        "\n",
        "fig.add_trace(go.Bar(x=df_finale[df_finale['Identificativo'] != 'Produttore']['Identificativo'], y=((df_finale['Beneficio Economico Totale']/df_finale['Costo Bolletta'])*100),\n",
        "                     marker_color='red', text=((df_finale['Beneficio Economico Totale']/df_finale['Costo Bolletta'])*100).round(0)),\n",
        "              5, 1)\n",
        "\n",
        "\n",
        "fig.update_layout(coloraxis=dict(colorscale='Bluered_r'), showlegend=False)\n",
        "fig.update_layout(barmode='stack')\n",
        "fig.update_layout(height=2400, width=1200)\n",
        "fig.update_traces(texttemplate= format('%{value:,.0f}'))\n",
        "fig.show()"
      ],
      "execution_count": null,
      "outputs": [
        {
          "output_type": "display_data",
          "data": {
            "text/html": [
              "<html>\n",
              "<head><meta charset=\"utf-8\" /></head>\n",
              "<body>\n",
              "    <div>            <script src=\"https://cdnjs.cloudflare.com/ajax/libs/mathjax/2.7.5/MathJax.js?config=TeX-AMS-MML_SVG\"></script><script type=\"text/javascript\">if (window.MathJax && window.MathJax.Hub && window.MathJax.Hub.Config) {window.MathJax.Hub.Config({SVG: {font: \"STIX-Web\"}});}</script>                <script type=\"text/javascript\">window.PlotlyConfig = {MathJaxConfig: 'local'};</script>\n",
              "        <script src=\"https://cdn.plot.ly/plotly-2.14.0.min.js\"></script>                <div id=\"dba594af-5842-4dec-88ed-e6cb11538fe5\" class=\"plotly-graph-div\" style=\"height:2400px; width:1200px;\"></div>            <script type=\"text/javascript\">                                    window.PLOTLYENV=window.PLOTLYENV || {};                                    if (document.getElementById(\"dba594af-5842-4dec-88ed-e6cb11538fe5\")) {                    Plotly.newPlot(                        \"dba594af-5842-4dec-88ed-e6cb11538fe5\",                        [{\"marker\":{\"color\":\"blue\"},\"text\":[1259.0,5470.0,289.0],\"x\":[\"A\",\"B\",\"Idroelettrico\"],\"y\":[1258.6516320590588,5469.8852132664015,289.03000000000003],\"type\":\"bar\",\"xaxis\":\"x\",\"yaxis\":\"y\",\"texttemplate\":\"%{value:,.0f}\"},{\"marker\":{\"color\":\"purple\"},\"text\":[27.0,115.0,0.0,148.0],\"x\":[\"A\",\"B\",\"Idroelettrico\",\"Produttore\"],\"y\":[26.544875973475875,115.35950129248573,0.0,148.0],\"type\":\"bar\",\"xaxis\":\"x2\",\"yaxis\":\"y2\",\"texttemplate\":\"%{value:,.0f}\"},{\"marker\":{\"color\":\"orange\"},\"text\":[372.0,267127.0,0.0,0.0],\"x\":[\"A\",\"B\",\"Idroelettrico\",\"Produttore\"],\"y\":[371.61,267126.7977,0.0,0.0],\"type\":\"bar\",\"xaxis\":\"x3\",\"yaxis\":\"y3\",\"texttemplate\":\"%{value:,.0f}\"},{\"marker\":{\"color\":\"cyan\"},\"text\":[1604.0,272481.0,661.0],\"x\":[\"A\",\"B\",\"Idroelettrico\"],\"y\":[1603.7167560855828,272481.32341197395,660.6400000000001],\"type\":\"bar\",\"xaxis\":\"x4\",\"yaxis\":\"y4\",\"texttemplate\":\"%{value:,.0f}\"},{\"marker\":{\"color\":\"red\"},\"text\":[2.0,3403.0,1.0,null],\"x\":[\"A\",\"B\",\"Idroelettrico\"],\"y\":[1.5398806939420753,3403.1748916151755,0.6343431767396236,null],\"type\":\"bar\",\"xaxis\":\"x5\",\"yaxis\":\"y5\",\"texttemplate\":\"%{value:,.0f}\"}],                        {\"template\":{\"data\":{\"histogram2dcontour\":[{\"type\":\"histogram2dcontour\",\"colorbar\":{\"outlinewidth\":0,\"ticks\":\"\"},\"colorscale\":[[0.0,\"#0d0887\"],[0.1111111111111111,\"#46039f\"],[0.2222222222222222,\"#7201a8\"],[0.3333333333333333,\"#9c179e\"],[0.4444444444444444,\"#bd3786\"],[0.5555555555555556,\"#d8576b\"],[0.6666666666666666,\"#ed7953\"],[0.7777777777777778,\"#fb9f3a\"],[0.8888888888888888,\"#fdca26\"],[1.0,\"#f0f921\"]]}],\"choropleth\":[{\"type\":\"choropleth\",\"colorbar\":{\"outlinewidth\":0,\"ticks\":\"\"}}],\"histogram2d\":[{\"type\":\"histogram2d\",\"colorbar\":{\"outlinewidth\":0,\"ticks\":\"\"},\"colorscale\":[[0.0,\"#0d0887\"],[0.1111111111111111,\"#46039f\"],[0.2222222222222222,\"#7201a8\"],[0.3333333333333333,\"#9c179e\"],[0.4444444444444444,\"#bd3786\"],[0.5555555555555556,\"#d8576b\"],[0.6666666666666666,\"#ed7953\"],[0.7777777777777778,\"#fb9f3a\"],[0.8888888888888888,\"#fdca26\"],[1.0,\"#f0f921\"]]}],\"heatmap\":[{\"type\":\"heatmap\",\"colorbar\":{\"outlinewidth\":0,\"ticks\":\"\"},\"colorscale\":[[0.0,\"#0d0887\"],[0.1111111111111111,\"#46039f\"],[0.2222222222222222,\"#7201a8\"],[0.3333333333333333,\"#9c179e\"],[0.4444444444444444,\"#bd3786\"],[0.5555555555555556,\"#d8576b\"],[0.6666666666666666,\"#ed7953\"],[0.7777777777777778,\"#fb9f3a\"],[0.8888888888888888,\"#fdca26\"],[1.0,\"#f0f921\"]]}],\"heatmapgl\":[{\"type\":\"heatmapgl\",\"colorbar\":{\"outlinewidth\":0,\"ticks\":\"\"},\"colorscale\":[[0.0,\"#0d0887\"],[0.1111111111111111,\"#46039f\"],[0.2222222222222222,\"#7201a8\"],[0.3333333333333333,\"#9c179e\"],[0.4444444444444444,\"#bd3786\"],[0.5555555555555556,\"#d8576b\"],[0.6666666666666666,\"#ed7953\"],[0.7777777777777778,\"#fb9f3a\"],[0.8888888888888888,\"#fdca26\"],[1.0,\"#f0f921\"]]}],\"contourcarpet\":[{\"type\":\"contourcarpet\",\"colorbar\":{\"outlinewidth\":0,\"ticks\":\"\"}}],\"contour\":[{\"type\":\"contour\",\"colorbar\":{\"outlinewidth\":0,\"ticks\":\"\"},\"colorscale\":[[0.0,\"#0d0887\"],[0.1111111111111111,\"#46039f\"],[0.2222222222222222,\"#7201a8\"],[0.3333333333333333,\"#9c179e\"],[0.4444444444444444,\"#bd3786\"],[0.5555555555555556,\"#d8576b\"],[0.6666666666666666,\"#ed7953\"],[0.7777777777777778,\"#fb9f3a\"],[0.8888888888888888,\"#fdca26\"],[1.0,\"#f0f921\"]]}],\"surface\":[{\"type\":\"surface\",\"colorbar\":{\"outlinewidth\":0,\"ticks\":\"\"},\"colorscale\":[[0.0,\"#0d0887\"],[0.1111111111111111,\"#46039f\"],[0.2222222222222222,\"#7201a8\"],[0.3333333333333333,\"#9c179e\"],[0.4444444444444444,\"#bd3786\"],[0.5555555555555556,\"#d8576b\"],[0.6666666666666666,\"#ed7953\"],[0.7777777777777778,\"#fb9f3a\"],[0.8888888888888888,\"#fdca26\"],[1.0,\"#f0f921\"]]}],\"mesh3d\":[{\"type\":\"mesh3d\",\"colorbar\":{\"outlinewidth\":0,\"ticks\":\"\"}}],\"scatter\":[{\"fillpattern\":{\"fillmode\":\"overlay\",\"size\":10,\"solidity\":0.2},\"type\":\"scatter\"}],\"parcoords\":[{\"type\":\"parcoords\",\"line\":{\"colorbar\":{\"outlinewidth\":0,\"ticks\":\"\"}}}],\"scatterpolargl\":[{\"type\":\"scatterpolargl\",\"marker\":{\"colorbar\":{\"outlinewidth\":0,\"ticks\":\"\"}}}],\"bar\":[{\"error_x\":{\"color\":\"#2a3f5f\"},\"error_y\":{\"color\":\"#2a3f5f\"},\"marker\":{\"line\":{\"color\":\"#E5ECF6\",\"width\":0.5},\"pattern\":{\"fillmode\":\"overlay\",\"size\":10,\"solidity\":0.2}},\"type\":\"bar\"}],\"scattergeo\":[{\"type\":\"scattergeo\",\"marker\":{\"colorbar\":{\"outlinewidth\":0,\"ticks\":\"\"}}}],\"scatterpolar\":[{\"type\":\"scatterpolar\",\"marker\":{\"colorbar\":{\"outlinewidth\":0,\"ticks\":\"\"}}}],\"histogram\":[{\"marker\":{\"pattern\":{\"fillmode\":\"overlay\",\"size\":10,\"solidity\":0.2}},\"type\":\"histogram\"}],\"scattergl\":[{\"type\":\"scattergl\",\"marker\":{\"colorbar\":{\"outlinewidth\":0,\"ticks\":\"\"}}}],\"scatter3d\":[{\"type\":\"scatter3d\",\"line\":{\"colorbar\":{\"outlinewidth\":0,\"ticks\":\"\"}},\"marker\":{\"colorbar\":{\"outlinewidth\":0,\"ticks\":\"\"}}}],\"scattermapbox\":[{\"type\":\"scattermapbox\",\"marker\":{\"colorbar\":{\"outlinewidth\":0,\"ticks\":\"\"}}}],\"scatterternary\":[{\"type\":\"scatterternary\",\"marker\":{\"colorbar\":{\"outlinewidth\":0,\"ticks\":\"\"}}}],\"scattercarpet\":[{\"type\":\"scattercarpet\",\"marker\":{\"colorbar\":{\"outlinewidth\":0,\"ticks\":\"\"}}}],\"carpet\":[{\"aaxis\":{\"endlinecolor\":\"#2a3f5f\",\"gridcolor\":\"white\",\"linecolor\":\"white\",\"minorgridcolor\":\"white\",\"startlinecolor\":\"#2a3f5f\"},\"baxis\":{\"endlinecolor\":\"#2a3f5f\",\"gridcolor\":\"white\",\"linecolor\":\"white\",\"minorgridcolor\":\"white\",\"startlinecolor\":\"#2a3f5f\"},\"type\":\"carpet\"}],\"table\":[{\"cells\":{\"fill\":{\"color\":\"#EBF0F8\"},\"line\":{\"color\":\"white\"}},\"header\":{\"fill\":{\"color\":\"#C8D4E3\"},\"line\":{\"color\":\"white\"}},\"type\":\"table\"}],\"barpolar\":[{\"marker\":{\"line\":{\"color\":\"#E5ECF6\",\"width\":0.5},\"pattern\":{\"fillmode\":\"overlay\",\"size\":10,\"solidity\":0.2}},\"type\":\"barpolar\"}],\"pie\":[{\"automargin\":true,\"type\":\"pie\"}]},\"layout\":{\"autotypenumbers\":\"strict\",\"colorway\":[\"#636efa\",\"#EF553B\",\"#00cc96\",\"#ab63fa\",\"#FFA15A\",\"#19d3f3\",\"#FF6692\",\"#B6E880\",\"#FF97FF\",\"#FECB52\"],\"font\":{\"color\":\"#2a3f5f\"},\"hovermode\":\"closest\",\"hoverlabel\":{\"align\":\"left\"},\"paper_bgcolor\":\"white\",\"plot_bgcolor\":\"#E5ECF6\",\"polar\":{\"bgcolor\":\"#E5ECF6\",\"angularaxis\":{\"gridcolor\":\"white\",\"linecolor\":\"white\",\"ticks\":\"\"},\"radialaxis\":{\"gridcolor\":\"white\",\"linecolor\":\"white\",\"ticks\":\"\"}},\"ternary\":{\"bgcolor\":\"#E5ECF6\",\"aaxis\":{\"gridcolor\":\"white\",\"linecolor\":\"white\",\"ticks\":\"\"},\"baxis\":{\"gridcolor\":\"white\",\"linecolor\":\"white\",\"ticks\":\"\"},\"caxis\":{\"gridcolor\":\"white\",\"linecolor\":\"white\",\"ticks\":\"\"}},\"coloraxis\":{\"colorbar\":{\"outlinewidth\":0,\"ticks\":\"\"}},\"colorscale\":{\"sequential\":[[0.0,\"#0d0887\"],[0.1111111111111111,\"#46039f\"],[0.2222222222222222,\"#7201a8\"],[0.3333333333333333,\"#9c179e\"],[0.4444444444444444,\"#bd3786\"],[0.5555555555555556,\"#d8576b\"],[0.6666666666666666,\"#ed7953\"],[0.7777777777777778,\"#fb9f3a\"],[0.8888888888888888,\"#fdca26\"],[1.0,\"#f0f921\"]],\"sequentialminus\":[[0.0,\"#0d0887\"],[0.1111111111111111,\"#46039f\"],[0.2222222222222222,\"#7201a8\"],[0.3333333333333333,\"#9c179e\"],[0.4444444444444444,\"#bd3786\"],[0.5555555555555556,\"#d8576b\"],[0.6666666666666666,\"#ed7953\"],[0.7777777777777778,\"#fb9f3a\"],[0.8888888888888888,\"#fdca26\"],[1.0,\"#f0f921\"]],\"diverging\":[[0,\"#8e0152\"],[0.1,\"#c51b7d\"],[0.2,\"#de77ae\"],[0.3,\"#f1b6da\"],[0.4,\"#fde0ef\"],[0.5,\"#f7f7f7\"],[0.6,\"#e6f5d0\"],[0.7,\"#b8e186\"],[0.8,\"#7fbc41\"],[0.9,\"#4d9221\"],[1,\"#276419\"]]},\"xaxis\":{\"gridcolor\":\"white\",\"linecolor\":\"white\",\"ticks\":\"\",\"title\":{\"standoff\":15},\"zerolinecolor\":\"white\",\"automargin\":true,\"zerolinewidth\":2},\"yaxis\":{\"gridcolor\":\"white\",\"linecolor\":\"white\",\"ticks\":\"\",\"title\":{\"standoff\":15},\"zerolinecolor\":\"white\",\"automargin\":true,\"zerolinewidth\":2},\"scene\":{\"xaxis\":{\"backgroundcolor\":\"#E5ECF6\",\"gridcolor\":\"white\",\"linecolor\":\"white\",\"showbackground\":true,\"ticks\":\"\",\"zerolinecolor\":\"white\",\"gridwidth\":2},\"yaxis\":{\"backgroundcolor\":\"#E5ECF6\",\"gridcolor\":\"white\",\"linecolor\":\"white\",\"showbackground\":true,\"ticks\":\"\",\"zerolinecolor\":\"white\",\"gridwidth\":2},\"zaxis\":{\"backgroundcolor\":\"#E5ECF6\",\"gridcolor\":\"white\",\"linecolor\":\"white\",\"showbackground\":true,\"ticks\":\"\",\"zerolinecolor\":\"white\",\"gridwidth\":2}},\"shapedefaults\":{\"line\":{\"color\":\"#2a3f5f\"}},\"annotationdefaults\":{\"arrowcolor\":\"#2a3f5f\",\"arrowhead\":0,\"arrowwidth\":1},\"geo\":{\"bgcolor\":\"white\",\"landcolor\":\"#E5ECF6\",\"subunitcolor\":\"white\",\"showland\":true,\"showlakes\":true,\"lakecolor\":\"white\"},\"title\":{\"x\":0.05},\"mapbox\":{\"style\":\"light\"}}},\"xaxis\":{\"anchor\":\"y\",\"domain\":[0.0,1.0]},\"yaxis\":{\"anchor\":\"x\",\"domain\":[0.88,1.0]},\"xaxis2\":{\"anchor\":\"y2\",\"domain\":[0.0,1.0]},\"yaxis2\":{\"anchor\":\"x2\",\"domain\":[0.66,0.78]},\"xaxis3\":{\"anchor\":\"y3\",\"domain\":[0.0,1.0]},\"yaxis3\":{\"anchor\":\"x3\",\"domain\":[0.44,0.56]},\"xaxis4\":{\"anchor\":\"y4\",\"domain\":[0.0,1.0]},\"yaxis4\":{\"anchor\":\"x4\",\"domain\":[0.22,0.33999999999999997]},\"xaxis5\":{\"anchor\":\"y5\",\"domain\":[0.0,1.0]},\"yaxis5\":{\"anchor\":\"x5\",\"domain\":[0.0,0.12]},\"annotations\":[{\"font\":{\"size\":16},\"showarrow\":false,\"text\":\"Incentivo Condivisione \\u20ac\",\"x\":0.5,\"xanchor\":\"center\",\"xref\":\"paper\",\"y\":1.0,\"yanchor\":\"bottom\",\"yref\":\"paper\"},{\"font\":{\"size\":16},\"showarrow\":false,\"text\":\"Costi Annuali CER Partecipanti \\u20ac\",\"x\":0.5,\"xanchor\":\"center\",\"xref\":\"paper\",\"y\":0.78,\"yanchor\":\"bottom\",\"yref\":\"paper\"},{\"font\":{\"size\":16},\"showarrow\":false,\"text\":\"Ritiro Dedicato \\u20ac\",\"x\":0.5,\"xanchor\":\"center\",\"xref\":\"paper\",\"y\":0.56,\"yanchor\":\"bottom\",\"yref\":\"paper\"},{\"font\":{\"size\":16},\"showarrow\":false,\"text\":\"Beneficio Economico Totale \\u20ac\",\"x\":0.5,\"xanchor\":\"center\",\"xref\":\"paper\",\"y\":0.33999999999999997,\"yanchor\":\"bottom\",\"yref\":\"paper\"},{\"font\":{\"size\":16},\"showarrow\":false,\"text\":\"Incidenza Percentuale su Bolletta %\",\"x\":0.5,\"xanchor\":\"center\",\"xref\":\"paper\",\"y\":0.12,\"yanchor\":\"bottom\",\"yref\":\"paper\"}],\"coloraxis\":{\"colorscale\":[[0.0,\"rgb(255,0,0)\"],[1.0,\"rgb(0,0,255)\"]]},\"showlegend\":false,\"barmode\":\"stack\",\"height\":2400,\"width\":1200},                        {\"responsive\": true}                    ).then(function(){\n",
              "                            \n",
              "var gd = document.getElementById('dba594af-5842-4dec-88ed-e6cb11538fe5');\n",
              "var x = new MutationObserver(function (mutations, observer) {{\n",
              "        var display = window.getComputedStyle(gd).display;\n",
              "        if (!display || display === 'none') {{\n",
              "            console.log([gd, 'removed!']);\n",
              "            Plotly.purge(gd);\n",
              "            observer.disconnect();\n",
              "        }}\n",
              "}});\n",
              "\n",
              "// Listen for the removal of the full notebook cells\n",
              "var notebookContainer = gd.closest('#notebook-container');\n",
              "if (notebookContainer) {{\n",
              "    x.observe(notebookContainer, {childList: true});\n",
              "}}\n",
              "\n",
              "// Listen for the clearing of the current output cell\n",
              "var outputEl = gd.closest('.output');\n",
              "if (outputEl) {{\n",
              "    x.observe(outputEl, {childList: true});\n",
              "}}\n",
              "\n",
              "                        })                };                            </script>        </div>\n",
              "</body>\n",
              "</html>"
            ]
          },
          "metadata": {}
        }
      ]
    }
  ]
}